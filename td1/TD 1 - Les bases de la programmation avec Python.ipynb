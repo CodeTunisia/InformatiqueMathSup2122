{
  "nbformat": 4,
  "nbformat_minor": 0,
  "metadata": {
    "kernelspec": {
      "display_name": "Python 3",
      "language": "python",
      "name": "python3"
    },
    "language_info": {
      "codemirror_mode": {
        "name": "ipython",
        "version": 3
      },
      "file_extension": ".py",
      "mimetype": "text/x-python",
      "name": "python",
      "nbconvert_exporter": "python",
      "pygments_lexer": "ipython3",
      "version": "3.7.6"
    },
    "colab": {
      "name": "TD 1 - Les bases de la programmation avec Python.ipynb",
      "provenance": [],
      "include_colab_link": true
    }
  },
  "cells": [
    {
      "cell_type": "markdown",
      "metadata": {
        "id": "view-in-github",
        "colab_type": "text"
      },
      "source": [
        "<a href=\"https://colab.research.google.com/github/CodeTunisia/InformatiqueMathSup2122/blob/main/td1/TD%201%20-%20Les%20bases%20de%20la%20programmation%20avec%20Python.ipynb\" target=\"_parent\"><img src=\"https://colab.research.google.com/assets/colab-badge.svg\" alt=\"Open In Colab\"/></a>"
      ]
    },
    {
      "cell_type": "markdown",
      "metadata": {
        "id": "HPVzmyKs4p4r"
      },
      "source": [
        "# Exercice 1 : À la découverte des Variables (à faire dans la console)"
      ]
    },
    {
      "cell_type": "code",
      "metadata": {
        "id": "Rb2S5E4J4p40"
      },
      "source": [
        "# Q1.\n",
        "x = 5"
      ],
      "execution_count": null,
      "outputs": []
    },
    {
      "cell_type": "markdown",
      "metadata": {
        "id": "wWdcG3ZU4p45"
      },
      "source": [
        "Q2. Non on ne peut pas écrire l’égalité d’affectation dans le sens qu’on veut."
      ]
    },
    {
      "cell_type": "code",
      "metadata": {
        "id": "ETdmUkGi4p48",
        "outputId": "c69667d1-fc90-425a-a5d9-5c0263cf5942"
      },
      "source": [
        "5 = x"
      ],
      "execution_count": null,
      "outputs": [
        {
          "ename": "SyntaxError",
          "evalue": "can't assign to literal (<ipython-input-196-7f1a2e2f9b1f>, line 1)",
          "output_type": "error",
          "traceback": [
            "\u001b[0;36m  File \u001b[0;32m\"<ipython-input-196-7f1a2e2f9b1f>\"\u001b[0;36m, line \u001b[0;32m1\u001b[0m\n\u001b[0;31m    5 = x\u001b[0m\n\u001b[0m         ^\u001b[0m\n\u001b[0;31mSyntaxError\u001b[0m\u001b[0;31m:\u001b[0m can't assign to literal\n"
          ]
        }
      ]
    },
    {
      "cell_type": "code",
      "metadata": {
        "id": "LFd1XlH24p4_",
        "outputId": "d64bdaae-4e7d-4073-d143-8fff365e5cd5"
      },
      "source": [
        "# Q3. \n",
        "y = 7 * x; print(y)"
      ],
      "execution_count": null,
      "outputs": [
        {
          "name": "stdout",
          "output_type": "stream",
          "text": [
            "35\n"
          ]
        }
      ]
    },
    {
      "cell_type": "code",
      "metadata": {
        "id": "mrHjz_Au4p5B",
        "outputId": "300cdcc3-992a-4586-b342-cf2e6d498caa"
      },
      "source": [
        "x = 2; print(y)"
      ],
      "execution_count": null,
      "outputs": [
        {
          "name": "stdout",
          "output_type": "stream",
          "text": [
            "35\n"
          ]
        }
      ]
    },
    {
      "cell_type": "code",
      "metadata": {
        "id": "4poAk-ux4p5C",
        "outputId": "65eba3d1-807f-4251-ec3c-de06743549b8"
      },
      "source": [
        "# Q4.\n",
        "help(id)"
      ],
      "execution_count": null,
      "outputs": [
        {
          "name": "stdout",
          "output_type": "stream",
          "text": [
            "Help on built-in function id in module builtins:\n",
            "\n",
            "id(obj, /)\n",
            "    Return the identity of an object.\n",
            "    \n",
            "    This is guaranteed to be unique among simultaneously existing objects.\n",
            "    (CPython uses the object's memory address.)\n",
            "\n"
          ]
        }
      ]
    },
    {
      "cell_type": "code",
      "metadata": {
        "id": "45ez_I8U4p5E",
        "outputId": "09b400dd-2e81-464a-9cc4-4a75c04a4877"
      },
      "source": [
        "help(type)"
      ],
      "execution_count": null,
      "outputs": [
        {
          "name": "stdout",
          "output_type": "stream",
          "text": [
            "Help on class type in module builtins:\n",
            "\n",
            "class type(object)\n",
            " |  type(object_or_name, bases, dict)\n",
            " |  type(object) -> the object's type\n",
            " |  type(name, bases, dict) -> a new type\n",
            " |  \n",
            " |  Methods defined here:\n",
            " |  \n",
            " |  __call__(self, /, *args, **kwargs)\n",
            " |      Call self as a function.\n",
            " |  \n",
            " |  __delattr__(self, name, /)\n",
            " |      Implement delattr(self, name).\n",
            " |  \n",
            " |  __dir__(self, /)\n",
            " |      Specialized __dir__ implementation for types.\n",
            " |  \n",
            " |  __getattribute__(self, name, /)\n",
            " |      Return getattr(self, name).\n",
            " |  \n",
            " |  __init__(self, /, *args, **kwargs)\n",
            " |      Initialize self.  See help(type(self)) for accurate signature.\n",
            " |  \n",
            " |  __instancecheck__(self, instance, /)\n",
            " |      Check if an object is an instance.\n",
            " |  \n",
            " |  __repr__(self, /)\n",
            " |      Return repr(self).\n",
            " |  \n",
            " |  __setattr__(self, name, value, /)\n",
            " |      Implement setattr(self, name, value).\n",
            " |  \n",
            " |  __sizeof__(self, /)\n",
            " |      Return memory consumption of the type object.\n",
            " |  \n",
            " |  __subclasscheck__(self, subclass, /)\n",
            " |      Check if a class is a subclass.\n",
            " |  \n",
            " |  __subclasses__(self, /)\n",
            " |      Return a list of immediate subclasses.\n",
            " |  \n",
            " |  mro(self, /)\n",
            " |      Return a type's method resolution order.\n",
            " |  \n",
            " |  ----------------------------------------------------------------------\n",
            " |  Class methods defined here:\n",
            " |  \n",
            " |  __prepare__(...)\n",
            " |      __prepare__() -> dict\n",
            " |      used to create the namespace for the class statement\n",
            " |  \n",
            " |  ----------------------------------------------------------------------\n",
            " |  Static methods defined here:\n",
            " |  \n",
            " |  __new__(*args, **kwargs)\n",
            " |      Create and return a new object.  See help(type) for accurate signature.\n",
            " |  \n",
            " |  ----------------------------------------------------------------------\n",
            " |  Data descriptors defined here:\n",
            " |  \n",
            " |  __abstractmethods__\n",
            " |  \n",
            " |  __dict__\n",
            " |  \n",
            " |  __text_signature__\n",
            " |  \n",
            " |  ----------------------------------------------------------------------\n",
            " |  Data and other attributes defined here:\n",
            " |  \n",
            " |  __base__ = <class 'object'>\n",
            " |      The most base type\n",
            " |  \n",
            " |  __bases__ = (<class 'object'>,)\n",
            " |  \n",
            " |  __basicsize__ = 864\n",
            " |  \n",
            " |  __dictoffset__ = 264\n",
            " |  \n",
            " |  __flags__ = 2148291584\n",
            " |  \n",
            " |  __itemsize__ = 40\n",
            " |  \n",
            " |  __mro__ = (<class 'type'>, <class 'object'>)\n",
            " |  \n",
            " |  __weakrefoffset__ = 368\n",
            "\n"
          ]
        }
      ]
    },
    {
      "cell_type": "code",
      "metadata": {
        "id": "w6NVC6pm4p5H",
        "outputId": "a85c3269-c209-4a12-a245-96fcfdfba77e"
      },
      "source": [
        "type(x)"
      ],
      "execution_count": null,
      "outputs": [
        {
          "data": {
            "text/plain": [
              "int"
            ]
          },
          "execution_count": 204,
          "metadata": {},
          "output_type": "execute_result"
        }
      ]
    },
    {
      "cell_type": "code",
      "metadata": {
        "id": "fz2fgAhX4p5J",
        "outputId": "9bec3a2a-b8c9-4886-878a-5afcf78c0cff"
      },
      "source": [
        "id(x)"
      ],
      "execution_count": null,
      "outputs": [
        {
          "data": {
            "text/plain": [
              "94097720517408"
            ]
          },
          "execution_count": 202,
          "metadata": {},
          "output_type": "execute_result"
        }
      ]
    },
    {
      "cell_type": "code",
      "metadata": {
        "id": "65Sv6NsA4p5M",
        "outputId": "f259c0f5-fffc-4350-b763-51b3e79f25e1"
      },
      "source": [
        "#Q5.\n",
        "x =x + 1; id(x)"
      ],
      "execution_count": null,
      "outputs": [
        {
          "data": {
            "text/plain": [
              "94097720517472"
            ]
          },
          "execution_count": 206,
          "metadata": {},
          "output_type": "execute_result"
        }
      ]
    },
    {
      "cell_type": "code",
      "metadata": {
        "id": "xeRss-jY4p5O",
        "outputId": "4c472abe-c0fb-4f55-c8d2-09126fbd86b8"
      },
      "source": [
        "# Q6.\n",
        "x = 11\n",
        "x +=1; print(x)\n",
        "x -=1; print(x)\n",
        "x //=2; print(x)\n",
        "x %=2; print(x)\n",
        "x /=2; print(x)\n",
        "x *=22; print(x)"
      ],
      "execution_count": null,
      "outputs": [
        {
          "name": "stdout",
          "output_type": "stream",
          "text": [
            "12\n",
            "11\n",
            "5\n",
            "1\n",
            "0.5\n",
            "11.0\n"
          ]
        }
      ]
    },
    {
      "cell_type": "code",
      "metadata": {
        "id": "aQLbSO0_4p5P",
        "outputId": "cafb11cb-bdbe-4244-d200-5430c00c1f28"
      },
      "source": [
        "#Q7.\n",
        "x, y = 7, 9\n",
        "x, y = y, x\n",
        "print(x, y)"
      ],
      "execution_count": null,
      "outputs": [
        {
          "name": "stdout",
          "output_type": "stream",
          "text": [
            "9 7\n"
          ]
        }
      ]
    },
    {
      "cell_type": "markdown",
      "metadata": {
        "id": "9LS_uhUX4p5Q"
      },
      "source": [
        "# Exercice 2 : Premiers affichages (à faire dans la console)"
      ]
    },
    {
      "cell_type": "code",
      "metadata": {
        "id": "O6e0x1O84p5R"
      },
      "source": [
        "# Q1\n",
        "Bonjour = 0"
      ],
      "execution_count": null,
      "outputs": []
    },
    {
      "cell_type": "code",
      "metadata": {
        "id": "gcruT0Dj4p5S",
        "outputId": "501595ed-968a-49d4-97e2-b1b43690cedc"
      },
      "source": [
        "# Q2\n",
        "print(Bonjour)"
      ],
      "execution_count": null,
      "outputs": [
        {
          "name": "stdout",
          "output_type": "stream",
          "text": [
            "0\n"
          ]
        }
      ]
    },
    {
      "cell_type": "code",
      "metadata": {
        "id": "iv-R-_hS4p5T",
        "outputId": "97d98202-16d9-423f-d506-b39a6f5415aa"
      },
      "source": [
        "print(\"Bonjour\") # ou print('Bonjour')"
      ],
      "execution_count": null,
      "outputs": [
        {
          "name": "stdout",
          "output_type": "stream",
          "text": [
            "Bonjour\n"
          ]
        }
      ]
    },
    {
      "cell_type": "code",
      "metadata": {
        "id": "5KY6CwRj4p5U",
        "outputId": "c99e6a4a-3c82-403c-e222-8d235032d101"
      },
      "source": [
        "# Q3.\n",
        "type(Bonjour)"
      ],
      "execution_count": null,
      "outputs": [
        {
          "data": {
            "text/plain": [
              "int"
            ]
          },
          "execution_count": 226,
          "metadata": {},
          "output_type": "execute_result"
        }
      ]
    },
    {
      "cell_type": "code",
      "metadata": {
        "id": "XRl0kAAR4p5V",
        "outputId": "9f192ca2-637e-432a-8780-c25627665117"
      },
      "source": [
        "type('Bonjour')"
      ],
      "execution_count": null,
      "outputs": [
        {
          "data": {
            "text/plain": [
              "str"
            ]
          },
          "execution_count": 227,
          "metadata": {},
          "output_type": "execute_result"
        }
      ]
    },
    {
      "cell_type": "code",
      "metadata": {
        "id": "BgwUdq4I4p5V",
        "outputId": "374dc1d4-c7b9-423f-f3c6-59a4dc9165b1"
      },
      "source": [
        "#Q4\n",
        "print('Aujourd\\'hui et Il dit: \"Bonjour\"') # \\' est un carctère (') hors syntaxe python."
      ],
      "execution_count": null,
      "outputs": [
        {
          "name": "stdout",
          "output_type": "stream",
          "text": [
            "Aujourd'hui et Il dit: \"Bonjour\"\n"
          ]
        }
      ]
    },
    {
      "cell_type": "code",
      "metadata": {
        "id": "6n7sO9ZW4p5W",
        "outputId": "0b9953c0-25ec-4dc7-c02c-11eda36e3514"
      },
      "source": [
        "print(\"\\\"Aujourd’hui\\\"\") # \\\" est un carctère (\") hors syntaxe python."
      ],
      "execution_count": null,
      "outputs": [
        {
          "name": "stdout",
          "output_type": "stream",
          "text": [
            "\"Aujourd’hui\"\n"
          ]
        }
      ]
    },
    {
      "cell_type": "code",
      "metadata": {
        "id": "xIshy2qq4p5X",
        "outputId": "f15604ae-a9e4-4f8a-ff21-1826cdb75f23"
      },
      "source": [
        "# Q5\n",
        "print(\"Hello World!\")"
      ],
      "execution_count": null,
      "outputs": [
        {
          "name": "stdout",
          "output_type": "stream",
          "text": [
            "Hello World!\n"
          ]
        }
      ]
    },
    {
      "cell_type": "code",
      "metadata": {
        "id": "jlK9ize84p5Y",
        "outputId": "ffb3cc3d-cf1e-43e8-b982-037512bcb8a5"
      },
      "source": [
        "print(\"Hello\\nWorld!\") # \\n  est un caractère de retour à la ligne"
      ],
      "execution_count": null,
      "outputs": [
        {
          "name": "stdout",
          "output_type": "stream",
          "text": [
            "Hello\n",
            "World!\n"
          ]
        }
      ]
    },
    {
      "cell_type": "code",
      "metadata": {
        "id": "2ah-CcOw4p5a",
        "outputId": "381cf5d5-4751-4710-f9ce-6b814e4e4e4c"
      },
      "source": [
        "# Q6 \n",
        "x, y, z = 1, 2, 3\n",
        "print(x, y, z, sep = \";\")"
      ],
      "execution_count": null,
      "outputs": [
        {
          "name": "stdout",
          "output_type": "stream",
          "text": [
            "1;2;3\n"
          ]
        }
      ]
    },
    {
      "cell_type": "code",
      "metadata": {
        "id": "OgCdTlZg4p5b",
        "outputId": "6d6e57b5-957a-4f48-f6ea-412887874bfb"
      },
      "source": [
        "print(x, y, z, sep = \"et\", end = '.')"
      ],
      "execution_count": null,
      "outputs": [
        {
          "name": "stdout",
          "output_type": "stream",
          "text": [
            "1et2et3."
          ]
        }
      ]
    },
    {
      "cell_type": "code",
      "metadata": {
        "id": "abBh0a_v4p5c",
        "outputId": "ce1f4f1e-39bb-41ee-f0b9-a44e5118ec03"
      },
      "source": [
        "print(x, y, z, sep = \"\\n\")"
      ],
      "execution_count": null,
      "outputs": [
        {
          "name": "stdout",
          "output_type": "stream",
          "text": [
            "1\n",
            "2\n",
            "3\n"
          ]
        }
      ]
    },
    {
      "cell_type": "code",
      "metadata": {
        "id": "gT1UEhGZ4p5d",
        "outputId": "7e029189-ceaa-4575-ab20-953816d5dcdf"
      },
      "source": [
        "# Q7.\n",
        "print(\"x={}, y={}, z={}\".format(x, y, z))"
      ],
      "execution_count": null,
      "outputs": [
        {
          "name": "stdout",
          "output_type": "stream",
          "text": [
            "x=1, y=2, z=3\n"
          ]
        }
      ]
    },
    {
      "cell_type": "markdown",
      "metadata": {
        "id": "GzAqOHEC4p5e"
      },
      "source": [
        "# Exercice 4 : Quiz multiplications"
      ]
    },
    {
      "cell_type": "code",
      "metadata": {
        "id": "e7u3RoFb4p5e",
        "outputId": "19f046aa-dcb9-4eed-e8d8-6bb82ed98ab6"
      },
      "source": [
        "# Quiz multiplication\n",
        "import random as rd\n",
        "## Q1)\n",
        "a = rd.randint(1, 12)\n",
        "## Q2)\n",
        "b = rd.randint(1, 12)\n",
        "## Q3)\n",
        "print(\"combien vaut le produit {} * {} ?\".format(a, b))\n",
        "## Q4)\n",
        "p = int(input())\n",
        "## Q5)\n",
        "if p == a*b:\n",
        "    print(\"Bravo!\")\n",
        "else:\n",
        "    print(\"Perdu! La bonne réponse était \",a*b)"
      ],
      "execution_count": null,
      "outputs": [
        {
          "name": "stdout",
          "output_type": "stream",
          "text": [
            "combien vaut le produit 8 * 5 ?\n",
            "40\n",
            "Bravo!\n"
          ]
        }
      ]
    },
    {
      "cell_type": "markdown",
      "metadata": {
        "id": "vE2HWL5z4p5f"
      },
      "source": [
        "# Exercice 5 : Structures itératives\n",
        "Le programme affiche un triangle d'étoiles."
      ]
    },
    {
      "cell_type": "code",
      "metadata": {
        "id": "9WWOCOm_4p5f",
        "outputId": "f8093980-9526-4f33-846d-c1539107d67b"
      },
      "source": [
        "n = int(input(\"Entrez le nombre de ligne : \"))\n",
        "for i in range(n) :\n",
        "    for j in range(i+1) :\n",
        "        print(\" ∗ \", end = \"\")\n",
        "    print(\"\\r\")"
      ],
      "execution_count": null,
      "outputs": [
        {
          "name": "stdout",
          "output_type": "stream",
          "text": [
            "Entrez le nombre de ligne : 5\n",
            " ∗ \n",
            " ∗  ∗ \n",
            " ∗  ∗  ∗ \n",
            " ∗  ∗  ∗  ∗ \n",
            " ∗  ∗  ∗  ∗  ∗ \n"
          ]
        }
      ]
    },
    {
      "cell_type": "markdown",
      "metadata": {
        "id": "G7ZRhdy-4p5g"
      },
      "source": [
        "# Exercice 6 : Aire du rectangle par rapport au cercle"
      ]
    },
    {
      "cell_type": "code",
      "metadata": {
        "id": "JKx-nGno4p5h",
        "outputId": "1d1e6193-a90b-411c-cf0d-61a1ccfbd4ca"
      },
      "source": [
        "from math import pi\n",
        "r = 10.6\n",
        "a = 1.3    # un côté du rectangle\n",
        "aire_cercle = pi*r**2\n",
        "b = 0      # valeur de départ choisie pour l'autre côté du rectangle\n",
        "while a*b < aire_cercle:\n",
        "    b += 1\n",
        "b -= 1     # doit annuler la dernière mise à jour pour obtenir la bonne valeur\n",
        "print(\"La plus grande valeur possible de b : \", b)"
      ],
      "execution_count": null,
      "outputs": [
        {
          "name": "stdout",
          "output_type": "stream",
          "text": [
            "La plus grande valeur possible de b :  271\n"
          ]
        }
      ]
    },
    {
      "cell_type": "markdown",
      "metadata": {
        "id": "nJy5QDy34p5h"
      },
      "source": [
        "# Exercice 7 : Les fonctions"
      ]
    },
    {
      "cell_type": "code",
      "metadata": {
        "id": "GBE1tQCn4p5i"
      },
      "source": [
        "import math\n",
        "def ecart(a, b, epsilon = 0.1) :\n",
        "    d = math.fabs(a - b)\n",
        "    if (d < epsilon) :\n",
        "        d = 0\n",
        "    return d"
      ],
      "execution_count": null,
      "outputs": []
    },
    {
      "cell_type": "code",
      "metadata": {
        "id": "GllLOFWm4p5i",
        "outputId": "3c398954-f494-4cef-ff57-727fe54a1dd1"
      },
      "source": [
        "#Q1\n",
        "print(ecart(a=12.2, b=11.9, epsilon = 1))"
      ],
      "execution_count": null,
      "outputs": [
        {
          "name": "stdout",
          "output_type": "stream",
          "text": [
            "0\n"
          ]
        }
      ]
    },
    {
      "cell_type": "code",
      "metadata": {
        "id": "jt3Sbk0f4p5j",
        "outputId": "7c01be22-0099-4536-914f-27e643a61e03"
      },
      "source": [
        "print(ecart(a=12.2, b=11.9))"
      ],
      "execution_count": null,
      "outputs": [
        {
          "name": "stdout",
          "output_type": "stream",
          "text": [
            "0.29999999999999893\n"
          ]
        }
      ]
    },
    {
      "cell_type": "code",
      "metadata": {
        "id": "Siwp2oU94p5k",
        "outputId": "d88d2304-4d6c-4022-b301-ca6d081889fe"
      },
      "source": [
        "e= ecart(a=12.2, b=11.9) ;print(e)"
      ],
      "execution_count": null,
      "outputs": [
        {
          "name": "stdout",
          "output_type": "stream",
          "text": [
            "0.29999999999999893\n"
          ]
        }
      ]
    },
    {
      "cell_type": "code",
      "metadata": {
        "id": "wwHab7Oh4p5k"
      },
      "source": [
        "# Q2.\n",
        "import math\n",
        "def ecart(a, b, epsilon = 0.1) :\n",
        "    d = math.fabs(a - b)\n",
        "    if (d < epsilon) :\n",
        "        d = 0\n",
        "    print(d)"
      ],
      "execution_count": null,
      "outputs": []
    },
    {
      "cell_type": "code",
      "metadata": {
        "id": "IjcxtGIr4p5l",
        "outputId": "a4446ee0-831a-4417-8274-212697725013"
      },
      "source": [
        "e1=ecart(a=12.2, b=11.9) ;print(e1)"
      ],
      "execution_count": null,
      "outputs": [
        {
          "name": "stdout",
          "output_type": "stream",
          "text": [
            "0.29999999999999893\n",
            "None\n"
          ]
        }
      ]
    },
    {
      "cell_type": "markdown",
      "metadata": {
        "id": "yTggK4op4p5l"
      },
      "source": [
        "`0.29999999999999893` provient de l'affichage avec `print` dans `ecart()`.\n",
        "\n",
        "`print(e1)` affiche la valeur `None` car la fonction `ecart()` ne retourne rien.\n"
      ]
    },
    {
      "cell_type": "code",
      "metadata": {
        "id": "WaXRX0JY4p5m",
        "outputId": "0c9fe10b-35ef-4a8b-aaa8-92daeba94506"
      },
      "source": [
        "ecart(a=12.2, b=11.9)"
      ],
      "execution_count": null,
      "outputs": [
        {
          "name": "stdout",
          "output_type": "stream",
          "text": [
            "0.29999999999999893\n"
          ]
        }
      ]
    },
    {
      "cell_type": "markdown",
      "metadata": {
        "id": "BzGixc124p5m"
      },
      "source": [
        "# Exercice 8 : date plus un jour"
      ]
    },
    {
      "cell_type": "markdown",
      "metadata": {
        "id": "ql5Xvasp4p5n"
      },
      "source": [
        "## Q1. Déterminer si une année est bissextile ou non?"
      ]
    },
    {
      "cell_type": "code",
      "metadata": {
        "id": "50OzJ4kx4p5o"
      },
      "source": [
        "\n",
        "def bissextile(a):\n",
        "    return (a % 4 == 0 and a %100 != 0) or a % 400 ==0"
      ],
      "execution_count": null,
      "outputs": []
    },
    {
      "cell_type": "code",
      "metadata": {
        "id": "QD-Ba6pT4p5p",
        "outputId": "eaa95385-2770-4d9b-8ce9-8d38a1c82cba"
      },
      "source": [
        "bissextile(2021)"
      ],
      "execution_count": null,
      "outputs": [
        {
          "data": {
            "text/plain": [
              "False"
            ]
          },
          "execution_count": 2,
          "metadata": {},
          "output_type": "execute_result"
        }
      ]
    },
    {
      "cell_type": "code",
      "metadata": {
        "id": "a4dtRsTt4p5q",
        "outputId": "45625e92-c6c6-42ed-8b4a-6cfa6389c530"
      },
      "source": [
        "bissextile(2020)"
      ],
      "execution_count": null,
      "outputs": [
        {
          "data": {
            "text/plain": [
              "True"
            ]
          },
          "execution_count": 3,
          "metadata": {},
          "output_type": "execute_result"
        }
      ]
    },
    {
      "cell_type": "markdown",
      "metadata": {
        "id": "efDFBOPN4p5r"
      },
      "source": [
        "## Q2. Donner le triplet (jour, mois et année) et affiche la date suivante.\n",
        "* Les mois numéros 1, 3, 5, 7, 8, 10 et 12 ont 31 jours.\n",
        "* Ceux de numéros 4, 6, 9 et 11 en ont 30.\n",
        "* Le mois numéro 2 a 29 jours si l’année est bissextile, 28 dans le cas contraire.\n",
        "\n",
        "### Une méthode"
      ]
    },
    {
      "cell_type": "code",
      "metadata": {
        "id": "V_6K80G_4p5s"
      },
      "source": [
        "def plus_un_jour(j, m, a):\n",
        "    if m == 1 or m == 3 or m == 5 or m ==7 or m == 8 or m == 10 :\n",
        "        if j == 31:\n",
        "            j, m, a = 1, m+1,a\n",
        "        else:\n",
        "            j, m, a = j+1, m, a\n",
        "    elif m == 12 :\n",
        "        if j == 31:\n",
        "            j, m, a = 1, 1, a+1\n",
        "        else:\n",
        "            j, m, a = j+1, m, a\n",
        "    elif m == 4 or m == 6 or m == 9 or m == 11:\n",
        "        if j == 30:\n",
        "            j, m, a = 1, m+1,a\n",
        "        else:\n",
        "            j, m, a = j+1, m, a\n",
        "    \n",
        "    elif (j==28 and m==2 and not bissextile(a)) or (j==29 and m==2 and bissextile(a)):\n",
        "        j, m, a = 1, m+1,a\n",
        "    # La date à retouner par la fonction doit être valide!\n",
        "    elif (m == 2 and not bissextile(a)and j>=29)or (m == 2 and bissextile(a)and j>29):\n",
        "        return \"Date invalide!\"\n",
        "    else :\n",
        "        j, m, a = j+1, m, a\n",
        "    # La date à retouner par la fonction doit être valide!\n",
        "    if (1<= j <= 31 and 1 <= m <=12 and a >=1):\n",
        "        return j, m, a\n",
        "    else:\n",
        "        return \"Date invalide!\""
      ],
      "execution_count": null,
      "outputs": []
    },
    {
      "cell_type": "code",
      "metadata": {
        "id": "uPTYRlsw4p5t",
        "outputId": "8400956c-e5c1-4b71-a61f-a629259126b1"
      },
      "source": [
        " plus_un_jour(31, 12, 2015)"
      ],
      "execution_count": null,
      "outputs": [
        {
          "data": {
            "text/plain": [
              "(1, 1, 2016)"
            ]
          },
          "execution_count": 147,
          "metadata": {},
          "output_type": "execute_result"
        }
      ]
    },
    {
      "cell_type": "code",
      "metadata": {
        "id": "czfx9GCD4p5u",
        "outputId": "04226c55-174f-447f-dff2-85ac8c32c68b"
      },
      "source": [
        " plus_un_jour(31, 6, 2019)"
      ],
      "execution_count": null,
      "outputs": [
        {
          "data": {
            "text/plain": [
              "'Date invalide!'"
            ]
          },
          "execution_count": 140,
          "metadata": {},
          "output_type": "execute_result"
        }
      ]
    },
    {
      "cell_type": "code",
      "metadata": {
        "id": "SmYrZy604p5v",
        "outputId": "37655052-c2ca-41d1-b60a-2a4730c6ad47"
      },
      "source": [
        "plus_un_jour(30, 4, 2019)"
      ],
      "execution_count": null,
      "outputs": [
        {
          "data": {
            "text/plain": [
              "(1, 5, 2019)"
            ]
          },
          "execution_count": 141,
          "metadata": {},
          "output_type": "execute_result"
        }
      ]
    },
    {
      "cell_type": "code",
      "metadata": {
        "id": "AoIRKDeV4p5w",
        "outputId": "3fdb1845-47cd-416a-a9ae-4a2ca9e36458"
      },
      "source": [
        "plus_un_jour(30, 3, 2020)"
      ],
      "execution_count": null,
      "outputs": [
        {
          "data": {
            "text/plain": [
              "(31, 3, 2020)"
            ]
          },
          "execution_count": 158,
          "metadata": {},
          "output_type": "execute_result"
        }
      ]
    },
    {
      "cell_type": "code",
      "metadata": {
        "id": "aQCTZagX4p5x",
        "outputId": "4f0897ba-35be-422f-df91-4ff55d01cb9c"
      },
      "source": [
        "plus_un_jour(29, 2, 2021)"
      ],
      "execution_count": null,
      "outputs": [
        {
          "data": {
            "text/plain": [
              "'Date invalide!'"
            ]
          },
          "execution_count": 149,
          "metadata": {},
          "output_type": "execute_result"
        }
      ]
    },
    {
      "cell_type": "code",
      "metadata": {
        "id": "gZc6sRRl4p5y",
        "outputId": "268abffa-82c4-4409-be8b-cc1f9a3910ce"
      },
      "source": [
        "plus_un_jour(29, 2, 2020)"
      ],
      "execution_count": null,
      "outputs": [
        {
          "data": {
            "text/plain": [
              "(1, 3, 2020)"
            ]
          },
          "execution_count": 153,
          "metadata": {},
          "output_type": "execute_result"
        }
      ]
    },
    {
      "cell_type": "markdown",
      "metadata": {
        "id": "bFmPqHUZ4p5y"
      },
      "source": [
        "### Une autre méthode\n",
        "Une solution plus simple est possible en définissant une fonction intermédiaire qui renvoie le nombre de jours pour un mois et une année donnés."
      ]
    },
    {
      "cell_type": "code",
      "metadata": {
        "id": "a24zZ3E44p5z"
      },
      "source": [
        "def nbrJours(m, a):\n",
        "    if m == 2:\n",
        "        if bissextile(a):\n",
        "            nbr = 29\n",
        "        else:\n",
        "            nbr = 28\n",
        "    elif m <= 7:\n",
        "        if m % 2 == 1:\n",
        "            nbr = 31\n",
        "        else:\n",
        "            nbr = 30\n",
        "    else:\n",
        "        if m % 2 == 0:\n",
        "            nbr = 31\n",
        "        else:\n",
        "            nbr = 30\n",
        "    return nbr"
      ],
      "execution_count": null,
      "outputs": []
    },
    {
      "cell_type": "code",
      "metadata": {
        "id": "aOf9tQB84p5z",
        "outputId": "ff055a09-8b9e-4094-99d0-e7f6da613a0c"
      },
      "source": [
        "nbrJours(2, 2021)"
      ],
      "execution_count": null,
      "outputs": [
        {
          "data": {
            "text/plain": [
              "28"
            ]
          },
          "execution_count": 173,
          "metadata": {},
          "output_type": "execute_result"
        }
      ]
    },
    {
      "cell_type": "code",
      "metadata": {
        "id": "0YDu6J804p50"
      },
      "source": [
        "def Plus_Un_Jour(j, m, a):\n",
        "    if j < nbrJours(m, a): # si j avant le dernier jour\n",
        "        j += 1\n",
        "    else: # si j est le dernier jour\n",
        "        j = 1 # le lendemain est le premier jour\n",
        "        if m < 12: # du nouveau mois\n",
        "            m += 1\n",
        "        else: # de la nouvelle année\n",
        "            m = 1\n",
        "            a += 1\n",
        "    return j, m, a"
      ],
      "execution_count": null,
      "outputs": []
    },
    {
      "cell_type": "code",
      "metadata": {
        "id": "rrW7uxlK4p50",
        "outputId": "a5ada397-15fd-4069-ee1a-719803e9cc88"
      },
      "source": [
        "Plus_Un_Jour(31, 12, 2015)"
      ],
      "execution_count": null,
      "outputs": [
        {
          "data": {
            "text/plain": [
              "(1, 1, 2016)"
            ]
          },
          "execution_count": 179,
          "metadata": {},
          "output_type": "execute_result"
        }
      ]
    },
    {
      "cell_type": "code",
      "metadata": {
        "id": "eC2iZTLr4p50",
        "outputId": "8335d545-4314-4ed3-8800-267e924440e1"
      },
      "source": [
        "Plus_Un_Jour(28, 2, 2020)"
      ],
      "execution_count": null,
      "outputs": [
        {
          "data": {
            "text/plain": [
              "(29, 2, 2020)"
            ]
          },
          "execution_count": 186,
          "metadata": {},
          "output_type": "execute_result"
        }
      ]
    },
    {
      "cell_type": "code",
      "metadata": {
        "id": "4wGcSlXa4p51",
        "outputId": "371c6db1-cf42-428b-d074-8be1c999bde6"
      },
      "source": [
        "Plus_Un_Jour(28, 2, 2021)"
      ],
      "execution_count": null,
      "outputs": [
        {
          "data": {
            "text/plain": [
              "(1, 3, 2021)"
            ]
          },
          "execution_count": 187,
          "metadata": {},
          "output_type": "execute_result"
        }
      ]
    },
    {
      "cell_type": "markdown",
      "metadata": {
        "id": "pFA9euU14p52"
      },
      "source": [
        "# Exercice 9 : Nombres entiers"
      ]
    },
    {
      "cell_type": "code",
      "metadata": {
        "id": "joj7OpMh4p52"
      },
      "source": [
        "# Q1\n",
        "def inf(n):\n",
        "    i = 0\n",
        "    while i < n:\n",
        "        print(i)\n",
        "    i+=1\n",
        "# Q2\n",
        "def inf_pair(n):\n",
        "    i = 0\n",
        "    while i < n:\n",
        "        if i%2==0:\n",
        "            print(i)\n",
        "    i+=1\n",
        "# Q3          \n",
        "def div(n):\n",
        "    i = 1\n",
        "    while i <=n:\n",
        "        if n%i ==0 :\n",
        "            print(i)\n",
        "        i+=1\n",
        "# Q4\n",
        "def ndiv(n):\n",
        "    ndiv = 0\n",
        "    i = 1\n",
        "    while i <=n:\n",
        "        if n%i ==0 : # si i divise n, on ajoute 1 à ndiv\n",
        "            ndiv+=1\n",
        "        i+=1\n",
        "    return ndiv\n",
        "# Q5\n",
        "def somme_div(n):\n",
        "    s = 0\n",
        "    i = 1\n",
        "    while i <=n:\n",
        "        if n%i ==0 : # si i divise n, on l'joute à s\n",
        "            s+=i\n",
        "        i+=1\n",
        "    return s\n",
        "# Q6 # Q7\n",
        "def MaxMin(n):\n",
        "    i = 0\n",
        "    Max=1\n",
        "    Min = Max\n",
        "    posMin, posMax = 0, 0\n",
        "    while i<=n:\n",
        "        x = int(input(\"Donnez un entier :\"))\n",
        "        if x>Max:\n",
        "            Max = x\n",
        "            posMax = i\n",
        "        elif x<=Min:\n",
        "            Min = x\n",
        "            posMin = i\n",
        "        i+=1\n",
        "    return (Max, posMax), (Min, posMin)\n",
        "# Q8.\n",
        "def MaxMin2():\n",
        "    i = 0\n",
        "    Max=1\n",
        "    Min = Max\n",
        "    posMin, posMax = 0, 0\n",
        "    while True:\n",
        "        x = int(input(\"Donnez un entier:\"))\n",
        "        if x>Max:\n",
        "            Max = x\n",
        "            posMax = i\n",
        "        elif x<=Min:\n",
        "            Min = x\n",
        "            posMin = i\n",
        "        if x == 0:\n",
        "            break\n",
        "        i+=1\n",
        "    return (Max, posMax), (Min, posMin)"
      ],
      "execution_count": null,
      "outputs": []
    },
    {
      "cell_type": "code",
      "metadata": {
        "id": "pREGaR2b4p52",
        "outputId": "efaddc21-2654-45e8-8662-5f51880caeb8"
      },
      "source": [
        "MaxMin(5)"
      ],
      "execution_count": null,
      "outputs": [
        {
          "name": "stdout",
          "output_type": "stream",
          "text": [
            "Donnez un entier :1\n",
            "Donnez un entier :-2\n",
            "Donnez un entier :8\n",
            "Donnez un entier :9\n",
            "Donnez un entier :7\n",
            "Donnez un entier :3\n"
          ]
        },
        {
          "data": {
            "text/plain": [
              "((9, 3), (-2, 1))"
            ]
          },
          "execution_count": 193,
          "metadata": {},
          "output_type": "execute_result"
        }
      ]
    },
    {
      "cell_type": "code",
      "metadata": {
        "id": "gfG9vshs4p53",
        "outputId": "b0cbca94-01aa-43d4-db9a-f3f56d124780"
      },
      "source": [
        "MaxMin2()"
      ],
      "execution_count": null,
      "outputs": [
        {
          "name": "stdout",
          "output_type": "stream",
          "text": [
            "Donnez un entier:8\n",
            "Donnez un entier:1\n",
            "Donnez un entier:-2\n",
            "Donnez un entier:0\n"
          ]
        },
        {
          "data": {
            "text/plain": [
              "((8, 0), (-2, 2))"
            ]
          },
          "execution_count": 194,
          "metadata": {},
          "output_type": "execute_result"
        }
      ]
    },
    {
      "cell_type": "code",
      "metadata": {
        "id": "qcWCnO5v4p54"
      },
      "source": [
        ""
      ],
      "execution_count": null,
      "outputs": []
    }
  ]
}