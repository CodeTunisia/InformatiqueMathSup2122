{
 "cells": [
  {
   "cell_type": "markdown",
   "metadata": {},
   "source": [
    "# Exercice 1 : À la découverte des Variables (à faire dans la console)"
   ]
  },
  {
   "cell_type": "code",
   "execution_count": 195,
   "metadata": {},
   "outputs": [],
   "source": [
    "# Q1.\n",
    "x = 5"
   ]
  },
  {
   "cell_type": "markdown",
   "metadata": {},
   "source": [
    "Q2. Non on ne peut pas écrire l’égalité d’affectation dans le sens qu’on veut."
   ]
  },
  {
   "cell_type": "code",
   "execution_count": 196,
   "metadata": {},
   "outputs": [
    {
     "ename": "SyntaxError",
     "evalue": "can't assign to literal (<ipython-input-196-7f1a2e2f9b1f>, line 1)",
     "output_type": "error",
     "traceback": [
      "\u001b[0;36m  File \u001b[0;32m\"<ipython-input-196-7f1a2e2f9b1f>\"\u001b[0;36m, line \u001b[0;32m1\u001b[0m\n\u001b[0;31m    5 = x\u001b[0m\n\u001b[0m         ^\u001b[0m\n\u001b[0;31mSyntaxError\u001b[0m\u001b[0;31m:\u001b[0m can't assign to literal\n"
     ]
    }
   ],
   "source": [
    "5 = x"
   ]
  },
  {
   "cell_type": "code",
   "execution_count": 197,
   "metadata": {},
   "outputs": [
    {
     "name": "stdout",
     "output_type": "stream",
     "text": [
      "35\n"
     ]
    }
   ],
   "source": [
    "# Q3. \n",
    "y = 7 * x; print(y)"
   ]
  },
  {
   "cell_type": "code",
   "execution_count": 198,
   "metadata": {},
   "outputs": [
    {
     "name": "stdout",
     "output_type": "stream",
     "text": [
      "35\n"
     ]
    }
   ],
   "source": [
    "x = 2; print(y)"
   ]
  },
  {
   "cell_type": "code",
   "execution_count": 201,
   "metadata": {},
   "outputs": [
    {
     "name": "stdout",
     "output_type": "stream",
     "text": [
      "Help on built-in function id in module builtins:\n",
      "\n",
      "id(obj, /)\n",
      "    Return the identity of an object.\n",
      "    \n",
      "    This is guaranteed to be unique among simultaneously existing objects.\n",
      "    (CPython uses the object's memory address.)\n",
      "\n"
     ]
    }
   ],
   "source": [
    "# Q4.\n",
    "help(id)"
   ]
  },
  {
   "cell_type": "code",
   "execution_count": 203,
   "metadata": {},
   "outputs": [
    {
     "name": "stdout",
     "output_type": "stream",
     "text": [
      "Help on class type in module builtins:\n",
      "\n",
      "class type(object)\n",
      " |  type(object_or_name, bases, dict)\n",
      " |  type(object) -> the object's type\n",
      " |  type(name, bases, dict) -> a new type\n",
      " |  \n",
      " |  Methods defined here:\n",
      " |  \n",
      " |  __call__(self, /, *args, **kwargs)\n",
      " |      Call self as a function.\n",
      " |  \n",
      " |  __delattr__(self, name, /)\n",
      " |      Implement delattr(self, name).\n",
      " |  \n",
      " |  __dir__(self, /)\n",
      " |      Specialized __dir__ implementation for types.\n",
      " |  \n",
      " |  __getattribute__(self, name, /)\n",
      " |      Return getattr(self, name).\n",
      " |  \n",
      " |  __init__(self, /, *args, **kwargs)\n",
      " |      Initialize self.  See help(type(self)) for accurate signature.\n",
      " |  \n",
      " |  __instancecheck__(self, instance, /)\n",
      " |      Check if an object is an instance.\n",
      " |  \n",
      " |  __repr__(self, /)\n",
      " |      Return repr(self).\n",
      " |  \n",
      " |  __setattr__(self, name, value, /)\n",
      " |      Implement setattr(self, name, value).\n",
      " |  \n",
      " |  __sizeof__(self, /)\n",
      " |      Return memory consumption of the type object.\n",
      " |  \n",
      " |  __subclasscheck__(self, subclass, /)\n",
      " |      Check if a class is a subclass.\n",
      " |  \n",
      " |  __subclasses__(self, /)\n",
      " |      Return a list of immediate subclasses.\n",
      " |  \n",
      " |  mro(self, /)\n",
      " |      Return a type's method resolution order.\n",
      " |  \n",
      " |  ----------------------------------------------------------------------\n",
      " |  Class methods defined here:\n",
      " |  \n",
      " |  __prepare__(...)\n",
      " |      __prepare__() -> dict\n",
      " |      used to create the namespace for the class statement\n",
      " |  \n",
      " |  ----------------------------------------------------------------------\n",
      " |  Static methods defined here:\n",
      " |  \n",
      " |  __new__(*args, **kwargs)\n",
      " |      Create and return a new object.  See help(type) for accurate signature.\n",
      " |  \n",
      " |  ----------------------------------------------------------------------\n",
      " |  Data descriptors defined here:\n",
      " |  \n",
      " |  __abstractmethods__\n",
      " |  \n",
      " |  __dict__\n",
      " |  \n",
      " |  __text_signature__\n",
      " |  \n",
      " |  ----------------------------------------------------------------------\n",
      " |  Data and other attributes defined here:\n",
      " |  \n",
      " |  __base__ = <class 'object'>\n",
      " |      The most base type\n",
      " |  \n",
      " |  __bases__ = (<class 'object'>,)\n",
      " |  \n",
      " |  __basicsize__ = 864\n",
      " |  \n",
      " |  __dictoffset__ = 264\n",
      " |  \n",
      " |  __flags__ = 2148291584\n",
      " |  \n",
      " |  __itemsize__ = 40\n",
      " |  \n",
      " |  __mro__ = (<class 'type'>, <class 'object'>)\n",
      " |  \n",
      " |  __weakrefoffset__ = 368\n",
      "\n"
     ]
    }
   ],
   "source": [
    "help(type)"
   ]
  },
  {
   "cell_type": "code",
   "execution_count": 204,
   "metadata": {},
   "outputs": [
    {
     "data": {
      "text/plain": [
       "int"
      ]
     },
     "execution_count": 204,
     "metadata": {},
     "output_type": "execute_result"
    }
   ],
   "source": [
    "type(x)"
   ]
  },
  {
   "cell_type": "code",
   "execution_count": 202,
   "metadata": {},
   "outputs": [
    {
     "data": {
      "text/plain": [
       "94097720517408"
      ]
     },
     "execution_count": 202,
     "metadata": {},
     "output_type": "execute_result"
    }
   ],
   "source": [
    "id(x)"
   ]
  },
  {
   "cell_type": "code",
   "execution_count": 206,
   "metadata": {},
   "outputs": [
    {
     "data": {
      "text/plain": [
       "94097720517472"
      ]
     },
     "execution_count": 206,
     "metadata": {},
     "output_type": "execute_result"
    }
   ],
   "source": [
    "#Q5.\n",
    "x =x + 1; id(x)"
   ]
  },
  {
   "cell_type": "code",
   "execution_count": 217,
   "metadata": {},
   "outputs": [
    {
     "name": "stdout",
     "output_type": "stream",
     "text": [
      "12\n",
      "11\n",
      "5\n",
      "1\n",
      "0.5\n",
      "11.0\n"
     ]
    }
   ],
   "source": [
    "# Q6.\n",
    "x = 11\n",
    "x +=1; print(x)\n",
    "x -=1; print(x)\n",
    "x //=2; print(x)\n",
    "x %=2; print(x)\n",
    "x /=2; print(x)\n",
    "x *=22; print(x)"
   ]
  },
  {
   "cell_type": "code",
   "execution_count": 220,
   "metadata": {},
   "outputs": [
    {
     "name": "stdout",
     "output_type": "stream",
     "text": [
      "9 7\n"
     ]
    }
   ],
   "source": [
    "#Q7.\n",
    "x, y = 7, 9\n",
    "x, y = y, x\n",
    "print(x, y)"
   ]
  },
  {
   "cell_type": "markdown",
   "metadata": {},
   "source": [
    "# Exercice 2 : Premiers affichages (à faire dans la console)"
   ]
  },
  {
   "cell_type": "code",
   "execution_count": 222,
   "metadata": {},
   "outputs": [],
   "source": [
    "# Q1\n",
    "Bonjour = 0"
   ]
  },
  {
   "cell_type": "code",
   "execution_count": 223,
   "metadata": {},
   "outputs": [
    {
     "name": "stdout",
     "output_type": "stream",
     "text": [
      "0\n"
     ]
    }
   ],
   "source": [
    "# Q2\n",
    "print(Bonjour)"
   ]
  },
  {
   "cell_type": "code",
   "execution_count": 225,
   "metadata": {},
   "outputs": [
    {
     "name": "stdout",
     "output_type": "stream",
     "text": [
      "Bonjour\n"
     ]
    }
   ],
   "source": [
    "print(\"Bonjour\") # ou print('Bonjour')"
   ]
  },
  {
   "cell_type": "code",
   "execution_count": 226,
   "metadata": {},
   "outputs": [
    {
     "data": {
      "text/plain": [
       "int"
      ]
     },
     "execution_count": 226,
     "metadata": {},
     "output_type": "execute_result"
    }
   ],
   "source": [
    "# Q3.\n",
    "type(Bonjour)"
   ]
  },
  {
   "cell_type": "code",
   "execution_count": 227,
   "metadata": {},
   "outputs": [
    {
     "data": {
      "text/plain": [
       "str"
      ]
     },
     "execution_count": 227,
     "metadata": {},
     "output_type": "execute_result"
    }
   ],
   "source": [
    "type('Bonjour')"
   ]
  },
  {
   "cell_type": "code",
   "execution_count": 228,
   "metadata": {},
   "outputs": [
    {
     "name": "stdout",
     "output_type": "stream",
     "text": [
      "Aujourd'hui et Il dit: \"Bonjour\"\n"
     ]
    }
   ],
   "source": [
    "#Q4\n",
    "print('Aujourd\\'hui et Il dit: \"Bonjour\"') # \\' est un carctère (') hors syntaxe python."
   ]
  },
  {
   "cell_type": "code",
   "execution_count": 230,
   "metadata": {},
   "outputs": [
    {
     "name": "stdout",
     "output_type": "stream",
     "text": [
      "\"Aujourd’hui\"\n"
     ]
    }
   ],
   "source": [
    "print(\"\\\"Aujourd’hui\\\"\") # \\\" est un carctère (\") hors syntaxe python."
   ]
  },
  {
   "cell_type": "code",
   "execution_count": 233,
   "metadata": {},
   "outputs": [
    {
     "name": "stdout",
     "output_type": "stream",
     "text": [
      "Hello World!\n"
     ]
    }
   ],
   "source": [
    "# Q5\n",
    "print(\"Hello World!\")"
   ]
  },
  {
   "cell_type": "code",
   "execution_count": 234,
   "metadata": {},
   "outputs": [
    {
     "name": "stdout",
     "output_type": "stream",
     "text": [
      "Hello\n",
      "World!\n"
     ]
    }
   ],
   "source": [
    "print(\"Hello\\nWorld!\") # \\n  est un caractère de retour à la ligne"
   ]
  },
  {
   "cell_type": "code",
   "execution_count": 235,
   "metadata": {},
   "outputs": [
    {
     "name": "stdout",
     "output_type": "stream",
     "text": [
      "1;2;3\n"
     ]
    }
   ],
   "source": [
    "# Q6 \n",
    "x, y, z = 1, 2, 3\n",
    "print(x, y, z, sep = \";\")"
   ]
  },
  {
   "cell_type": "code",
   "execution_count": 236,
   "metadata": {},
   "outputs": [
    {
     "name": "stdout",
     "output_type": "stream",
     "text": [
      "1et2et3."
     ]
    }
   ],
   "source": [
    "print(x, y, z, sep = \"et\", end = '.')"
   ]
  },
  {
   "cell_type": "code",
   "execution_count": 238,
   "metadata": {},
   "outputs": [
    {
     "name": "stdout",
     "output_type": "stream",
     "text": [
      "1\n",
      "2\n",
      "3\n"
     ]
    }
   ],
   "source": [
    "print(x, y, z, sep = \"\\n\")"
   ]
  },
  {
   "cell_type": "code",
   "execution_count": 239,
   "metadata": {},
   "outputs": [
    {
     "name": "stdout",
     "output_type": "stream",
     "text": [
      "x=1, y=2, z=3\n"
     ]
    }
   ],
   "source": [
    "# Q7.\n",
    "print(\"x={}, y={}, z={}\".format(x, y, z))"
   ]
  },
  {
   "cell_type": "markdown",
   "metadata": {},
   "source": [
    "# Exercice 4 : Quiz multiplications"
   ]
  },
  {
   "cell_type": "code",
   "execution_count": 240,
   "metadata": {},
   "outputs": [
    {
     "name": "stdout",
     "output_type": "stream",
     "text": [
      "combien vaut le produit 8 * 5 ?\n",
      "40\n",
      "Bravo!\n"
     ]
    }
   ],
   "source": [
    "# Quiz multiplication\n",
    "import random as rd\n",
    "## Q1)\n",
    "a = rd.randint(1, 12)\n",
    "## Q2)\n",
    "b = rd.randint(1, 12)\n",
    "## Q3)\n",
    "print(\"combien vaut le produit {} * {} ?\".format(a, b))\n",
    "## Q4)\n",
    "p = int(input())\n",
    "## Q5)\n",
    "if p == a*b:\n",
    "    print(\"Bravo!\")\n",
    "else:\n",
    "    print(\"Perdu! La bonne réponse était \",a*b)"
   ]
  },
  {
   "cell_type": "markdown",
   "metadata": {},
   "source": [
    "# Exercice 5 : Structures itératives\n",
    "Le programme affiche un triangle d'étoiles."
   ]
  },
  {
   "cell_type": "code",
   "execution_count": 241,
   "metadata": {},
   "outputs": [
    {
     "name": "stdout",
     "output_type": "stream",
     "text": [
      "Entrez le nombre de ligne : 5\n",
      " ∗ \n",
      " ∗  ∗ \n",
      " ∗  ∗  ∗ \n",
      " ∗  ∗  ∗  ∗ \n",
      " ∗  ∗  ∗  ∗  ∗ \n"
     ]
    }
   ],
   "source": [
    "n = int(input(\"Entrez le nombre de ligne : \"))\n",
    "for i in range(n) :\n",
    "    for j in range(i+1) :\n",
    "        print(\" ∗ \", end = \"\")\n",
    "    print(\"\\r\")"
   ]
  },
  {
   "cell_type": "markdown",
   "metadata": {},
   "source": [
    "# Exercice 6 : Aire du rectangle par rapport au cercle"
   ]
  },
  {
   "cell_type": "code",
   "execution_count": 242,
   "metadata": {},
   "outputs": [
    {
     "name": "stdout",
     "output_type": "stream",
     "text": [
      "La plus grande valeur possible de b :  271\n"
     ]
    }
   ],
   "source": [
    "from math import pi\n",
    "r = 10.6\n",
    "a = 1.3    # un côté du rectangle\n",
    "aire_cercle = pi*r**2\n",
    "b = 0      # valeur de départ choisie pour l'autre côté du rectangle\n",
    "while a*b < aire_cercle:\n",
    "    b += 1\n",
    "b -= 1     # doit annuler la dernière mise à jour pour obtenir la bonne valeur\n",
    "print(\"La plus grande valeur possible de b : \", b)"
   ]
  },
  {
   "cell_type": "markdown",
   "metadata": {},
   "source": [
    "# Exercice 7 : Les fonctions"
   ]
  },
  {
   "cell_type": "code",
   "execution_count": 244,
   "metadata": {},
   "outputs": [],
   "source": [
    "import math\n",
    "def ecart(a, b, epsilon = 0.1) :\n",
    "    d = math.fabs(a - b)\n",
    "    if (d < epsilon) :\n",
    "        d = 0\n",
    "    return d"
   ]
  },
  {
   "cell_type": "code",
   "execution_count": 245,
   "metadata": {},
   "outputs": [
    {
     "name": "stdout",
     "output_type": "stream",
     "text": [
      "0\n"
     ]
    }
   ],
   "source": [
    "#Q1\n",
    "print(ecart(a=12.2, b=11.9, epsilon = 1))"
   ]
  },
  {
   "cell_type": "code",
   "execution_count": 246,
   "metadata": {},
   "outputs": [
    {
     "name": "stdout",
     "output_type": "stream",
     "text": [
      "0.29999999999999893\n"
     ]
    }
   ],
   "source": [
    "print(ecart(a=12.2, b=11.9))"
   ]
  },
  {
   "cell_type": "code",
   "execution_count": 247,
   "metadata": {},
   "outputs": [
    {
     "name": "stdout",
     "output_type": "stream",
     "text": [
      "0.29999999999999893\n"
     ]
    }
   ],
   "source": [
    "e= ecart(a=12.2, b=11.9) ;print(e)"
   ]
  },
  {
   "cell_type": "code",
   "execution_count": 248,
   "metadata": {},
   "outputs": [],
   "source": [
    "# Q2.\n",
    "import math\n",
    "def ecart(a, b, epsilon = 0.1) :\n",
    "    d = math.fabs(a - b)\n",
    "    if (d < epsilon) :\n",
    "        d = 0\n",
    "    print(d)"
   ]
  },
  {
   "cell_type": "code",
   "execution_count": 253,
   "metadata": {},
   "outputs": [
    {
     "name": "stdout",
     "output_type": "stream",
     "text": [
      "0.29999999999999893\n",
      "None\n"
     ]
    }
   ],
   "source": [
    "e1=ecart(a=12.2, b=11.9) ;print(e1)"
   ]
  },
  {
   "cell_type": "markdown",
   "metadata": {},
   "source": [
    "`0.29999999999999893` provient de l'affichage avec `print` dans `ecart()`.\n",
    "\n",
    "`print(e1)` affiche la valeur `None` car la fonction `ecart()` ne retourne rien.\n"
   ]
  },
  {
   "cell_type": "code",
   "execution_count": 254,
   "metadata": {},
   "outputs": [
    {
     "name": "stdout",
     "output_type": "stream",
     "text": [
      "0.29999999999999893\n"
     ]
    }
   ],
   "source": [
    "ecart(a=12.2, b=11.9)"
   ]
  },
  {
   "cell_type": "markdown",
   "metadata": {},
   "source": [
    "# Exercice 8 : date plus un jour"
   ]
  },
  {
   "cell_type": "markdown",
   "metadata": {},
   "source": [
    "## Q1. Déterminer si une année est bissextile ou non?"
   ]
  },
  {
   "cell_type": "code",
   "execution_count": 1,
   "metadata": {},
   "outputs": [],
   "source": [
    "\n",
    "def bissextile(a):\n",
    "    return (a % 4 == 0 and a %100 != 0) or a % 400 ==0"
   ]
  },
  {
   "cell_type": "code",
   "execution_count": 2,
   "metadata": {},
   "outputs": [
    {
     "data": {
      "text/plain": [
       "False"
      ]
     },
     "execution_count": 2,
     "metadata": {},
     "output_type": "execute_result"
    }
   ],
   "source": [
    "bissextile(2021)"
   ]
  },
  {
   "cell_type": "code",
   "execution_count": 3,
   "metadata": {},
   "outputs": [
    {
     "data": {
      "text/plain": [
       "True"
      ]
     },
     "execution_count": 3,
     "metadata": {},
     "output_type": "execute_result"
    }
   ],
   "source": [
    "bissextile(2020)"
   ]
  },
  {
   "cell_type": "markdown",
   "metadata": {},
   "source": [
    "## Q2. Donner le triplet (jour, mois et année) et affiche la date suivante.\n",
    "* Les mois numéros 1, 3, 5, 7, 8, 10 et 12 ont 31 jours.\n",
    "* Ceux de numéros 4, 6, 9 et 11 en ont 30.\n",
    "* Le mois numéro 2 a 29 jours si l’année est bissextile, 28 dans le cas contraire.\n",
    "\n",
    "### Une méthode"
   ]
  },
  {
   "cell_type": "code",
   "execution_count": 148,
   "metadata": {},
   "outputs": [],
   "source": [
    "def plus_un_jour(j, m, a):\n",
    "    if m == 1 or m == 3 or m == 5 or m ==7 or m == 8 or m == 10 :\n",
    "        if j == 31:\n",
    "            j, m, a = 1, m+1,a\n",
    "        else:\n",
    "            j, m, a = j+1, m, a\n",
    "    elif m == 12 :\n",
    "        if j == 31:\n",
    "            j, m, a = 1, 1, a+1\n",
    "        else:\n",
    "            j, m, a = j+1, m, a\n",
    "    elif m == 4 or m == 6 or m == 9 or m == 11:\n",
    "        if j == 30:\n",
    "            j, m, a = 1, m+1,a\n",
    "        else:\n",
    "            j, m, a = j+1, m, a\n",
    "    \n",
    "    elif (j==28 and m==2 and not bissextile(a)) or (j==29 and m==2 and bissextile(a)):\n",
    "        j, m, a = 1, m+1,a\n",
    "    # La date à retouner par la fonction doit être valide!\n",
    "    elif (m == 2 and not bissextile(a)and j>=29)or (m == 2 and bissextile(a)and j>29):\n",
    "        return \"Date invalide!\"\n",
    "    else :\n",
    "        j, m, a = j+1, m, a\n",
    "    # La date à retouner par la fonction doit être valide!\n",
    "    if (1<= j <= 31 and 1 <= m <=12 and a >=1):\n",
    "        return j, m, a\n",
    "    else:\n",
    "        return \"Date invalide!\""
   ]
  },
  {
   "cell_type": "code",
   "execution_count": 147,
   "metadata": {},
   "outputs": [
    {
     "data": {
      "text/plain": [
       "(1, 1, 2016)"
      ]
     },
     "execution_count": 147,
     "metadata": {},
     "output_type": "execute_result"
    }
   ],
   "source": [
    " plus_un_jour(31, 12, 2015)"
   ]
  },
  {
   "cell_type": "code",
   "execution_count": 140,
   "metadata": {},
   "outputs": [
    {
     "data": {
      "text/plain": [
       "'Date invalide!'"
      ]
     },
     "execution_count": 140,
     "metadata": {},
     "output_type": "execute_result"
    }
   ],
   "source": [
    " plus_un_jour(31, 6, 2019)"
   ]
  },
  {
   "cell_type": "code",
   "execution_count": 141,
   "metadata": {},
   "outputs": [
    {
     "data": {
      "text/plain": [
       "(1, 5, 2019)"
      ]
     },
     "execution_count": 141,
     "metadata": {},
     "output_type": "execute_result"
    }
   ],
   "source": [
    "plus_un_jour(30, 4, 2019)"
   ]
  },
  {
   "cell_type": "code",
   "execution_count": 158,
   "metadata": {},
   "outputs": [
    {
     "data": {
      "text/plain": [
       "(31, 3, 2020)"
      ]
     },
     "execution_count": 158,
     "metadata": {},
     "output_type": "execute_result"
    }
   ],
   "source": [
    "plus_un_jour(30, 3, 2020)"
   ]
  },
  {
   "cell_type": "code",
   "execution_count": 149,
   "metadata": {},
   "outputs": [
    {
     "data": {
      "text/plain": [
       "'Date invalide!'"
      ]
     },
     "execution_count": 149,
     "metadata": {},
     "output_type": "execute_result"
    }
   ],
   "source": [
    "plus_un_jour(29, 2, 2021)"
   ]
  },
  {
   "cell_type": "code",
   "execution_count": 153,
   "metadata": {},
   "outputs": [
    {
     "data": {
      "text/plain": [
       "(1, 3, 2020)"
      ]
     },
     "execution_count": 153,
     "metadata": {},
     "output_type": "execute_result"
    }
   ],
   "source": [
    "plus_un_jour(29, 2, 2020)"
   ]
  },
  {
   "cell_type": "markdown",
   "metadata": {},
   "source": [
    "### Une autre méthode\n",
    "Une solution plus simple est possible en définissant une fonction intermédiaire qui renvoie le nombre de jours pour un mois et une année donnés."
   ]
  },
  {
   "cell_type": "code",
   "execution_count": 169,
   "metadata": {},
   "outputs": [],
   "source": [
    "def nbrJours(m, a):\n",
    "    if m == 2:\n",
    "        if bissextile(a):\n",
    "            nbr = 29\n",
    "        else:\n",
    "            nbr = 28\n",
    "    elif m <= 7:\n",
    "        if m % 2 == 1:\n",
    "            nbr = 31\n",
    "        else:\n",
    "            nbr = 30\n",
    "    else:\n",
    "        if m % 2 == 0:\n",
    "            nbr = 31\n",
    "        else:\n",
    "            nbr = 30\n",
    "    return nbr"
   ]
  },
  {
   "cell_type": "code",
   "execution_count": 173,
   "metadata": {},
   "outputs": [
    {
     "data": {
      "text/plain": [
       "28"
      ]
     },
     "execution_count": 173,
     "metadata": {},
     "output_type": "execute_result"
    }
   ],
   "source": [
    "nbrJours(2, 2021)"
   ]
  },
  {
   "cell_type": "code",
   "execution_count": 178,
   "metadata": {},
   "outputs": [],
   "source": [
    "def Plus_Un_Jour(j, m, a):\n",
    "    if j < nbrJours(m, a): # si j avant le dernier jour\n",
    "        j += 1\n",
    "    else: # si j est le dernier jour\n",
    "        j = 1 # le lendemain est le premier jour\n",
    "        if m < 12: # du nouveau mois\n",
    "            m += 1\n",
    "        else: # de la nouvelle année\n",
    "            m = 1\n",
    "            a += 1\n",
    "    return j, m, a"
   ]
  },
  {
   "cell_type": "code",
   "execution_count": 179,
   "metadata": {},
   "outputs": [
    {
     "data": {
      "text/plain": [
       "(1, 1, 2016)"
      ]
     },
     "execution_count": 179,
     "metadata": {},
     "output_type": "execute_result"
    }
   ],
   "source": [
    "Plus_Un_Jour(31, 12, 2015)"
   ]
  },
  {
   "cell_type": "code",
   "execution_count": 186,
   "metadata": {},
   "outputs": [
    {
     "data": {
      "text/plain": [
       "(29, 2, 2020)"
      ]
     },
     "execution_count": 186,
     "metadata": {},
     "output_type": "execute_result"
    }
   ],
   "source": [
    "Plus_Un_Jour(28, 2, 2020)"
   ]
  },
  {
   "cell_type": "code",
   "execution_count": 187,
   "metadata": {},
   "outputs": [
    {
     "data": {
      "text/plain": [
       "(1, 3, 2021)"
      ]
     },
     "execution_count": 187,
     "metadata": {},
     "output_type": "execute_result"
    }
   ],
   "source": [
    "Plus_Un_Jour(28, 2, 2021)"
   ]
  },
  {
   "cell_type": "markdown",
   "metadata": {},
   "source": [
    "# Exercice 9 : Nombres entiers"
   ]
  },
  {
   "cell_type": "code",
   "execution_count": 192,
   "metadata": {},
   "outputs": [],
   "source": [
    "# Q1\n",
    "def inf(n):\n",
    "    i = 0\n",
    "    while i < n:\n",
    "        print(i)\n",
    "    i+=1\n",
    "# Q2\n",
    "def inf_pair(n):\n",
    "    i = 0\n",
    "    while i < n:\n",
    "        if i%2==0:\n",
    "            print(i)\n",
    "    i+=1\n",
    "# Q3          \n",
    "def div(n):\n",
    "    i = 1\n",
    "    while i <=n:\n",
    "        if n%i ==0 :\n",
    "            print(i)\n",
    "        i+=1\n",
    "# Q4\n",
    "def ndiv(n):\n",
    "    ndiv = 0\n",
    "    i = 1\n",
    "    while i <=n:\n",
    "        if n%i ==0 : # si i divise n, on ajoute 1 à ndiv\n",
    "            ndiv+=1\n",
    "        i+=1\n",
    "    return ndiv\n",
    "# Q5\n",
    "def somme_div(n):\n",
    "    s = 0\n",
    "    i = 1\n",
    "    while i <=n:\n",
    "        if n%i ==0 : # si i divise n, on l'joute à s\n",
    "            s+=i\n",
    "        i+=1\n",
    "    return s\n",
    "# Q6 # Q7\n",
    "def MaxMin(n):\n",
    "    i = 0\n",
    "    Max=1\n",
    "    Min = Max\n",
    "    posMin, posMax = 0, 0\n",
    "    while i<=n:\n",
    "        x = int(input(\"Donnez un entier :\"))\n",
    "        if x>Max:\n",
    "            Max = x\n",
    "            posMax = i\n",
    "        elif x<=Min:\n",
    "            Min = x\n",
    "            posMin = i\n",
    "        i+=1\n",
    "    return (Max, posMax), (Min, posMin)\n",
    "# Q8.\n",
    "def MaxMin2():\n",
    "    i = 0\n",
    "    Max=1\n",
    "    Min = Max\n",
    "    posMin, posMax = 0, 0\n",
    "    while True:\n",
    "        x = int(input(\"Donnez un entier:\"))\n",
    "        if x>Max:\n",
    "            Max = x\n",
    "            posMax = i\n",
    "        elif x<=Min:\n",
    "            Min = x\n",
    "            posMin = i\n",
    "        if x == 0:\n",
    "            break\n",
    "        i+=1\n",
    "    return (Max, posMax), (Min, posMin)"
   ]
  },
  {
   "cell_type": "code",
   "execution_count": 193,
   "metadata": {},
   "outputs": [
    {
     "name": "stdout",
     "output_type": "stream",
     "text": [
      "Donnez un entier :1\n",
      "Donnez un entier :-2\n",
      "Donnez un entier :8\n",
      "Donnez un entier :9\n",
      "Donnez un entier :7\n",
      "Donnez un entier :3\n"
     ]
    },
    {
     "data": {
      "text/plain": [
       "((9, 3), (-2, 1))"
      ]
     },
     "execution_count": 193,
     "metadata": {},
     "output_type": "execute_result"
    }
   ],
   "source": [
    "MaxMin(5)"
   ]
  },
  {
   "cell_type": "code",
   "execution_count": 194,
   "metadata": {},
   "outputs": [
    {
     "name": "stdout",
     "output_type": "stream",
     "text": [
      "Donnez un entier:8\n",
      "Donnez un entier:1\n",
      "Donnez un entier:-2\n",
      "Donnez un entier:0\n"
     ]
    },
    {
     "data": {
      "text/plain": [
       "((8, 0), (-2, 2))"
      ]
     },
     "execution_count": 194,
     "metadata": {},
     "output_type": "execute_result"
    }
   ],
   "source": [
    "MaxMin2()"
   ]
  },
  {
   "cell_type": "code",
   "execution_count": null,
   "metadata": {},
   "outputs": [],
   "source": []
  }
 ],
 "metadata": {
  "kernelspec": {
   "display_name": "Python 3",
   "language": "python",
   "name": "python3"
  },
  "language_info": {
   "codemirror_mode": {
    "name": "ipython",
    "version": 3
   },
   "file_extension": ".py",
   "mimetype": "text/x-python",
   "name": "python",
   "nbconvert_exporter": "python",
   "pygments_lexer": "ipython3",
   "version": "3.7.6"
  }
 },
 "nbformat": 4,
 "nbformat_minor": 4
}
