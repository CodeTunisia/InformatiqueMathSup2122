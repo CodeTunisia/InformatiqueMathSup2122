{
  "nbformat": 4,
  "nbformat_minor": 0,
  "metadata": {
    "kernelspec": {
      "display_name": "Python 3",
      "language": "python",
      "name": "python3"
    },
    "language_info": {
      "codemirror_mode": {
        "name": "ipython",
        "version": 3
      },
      "file_extension": ".py",
      "mimetype": "text/x-python",
      "name": "python",
      "nbconvert_exporter": "python",
      "pygments_lexer": "ipython3",
      "version": "3.7.6"
    },
    "colab": {
      "name": "TD 2 - Manipulation des conteneurs - corrigé.ipynb",
      "provenance": [],
      "include_colab_link": true
    }
  },
  "cells": [
    {
      "cell_type": "markdown",
      "metadata": {
        "id": "view-in-github",
        "colab_type": "text"
      },
      "source": [
        "<a href=\"https://colab.research.google.com/github/CodeTunisia/InformatiqueMathSup2122/blob/main/td2/TD%202%20-%20Manipulation%20des%20conteneurs%20-%20corrig%C3%A9.ipynb\" target=\"_parent\"><img src=\"https://colab.research.google.com/assets/colab-badge.svg\" alt=\"Open In Colab\"/></a>"
      ]
    },
    {
      "cell_type": "markdown",
      "metadata": {
        "id": "4smfDhiXzYM3"
      },
      "source": [
        "# Exercice 1 : Manipulations élémentaires de listes"
      ]
    },
    {
      "cell_type": "code",
      "metadata": {
        "id": "VEU-SNuJzYM8"
      },
      "source": [
        "# Q1\n",
        "L=[1,2,3,4,5]"
      ],
      "execution_count": null,
      "outputs": []
    },
    {
      "cell_type": "code",
      "metadata": {
        "id": "l24macfZzYM_"
      },
      "source": [
        "L[4] # le 5ème élément --> indiçage à partir de 0"
      ],
      "execution_count": null,
      "outputs": []
    },
    {
      "cell_type": "code",
      "metadata": {
        "id": "AFQnjGOhzYNB"
      },
      "source": [
        "#Q2. \n",
        "L[4] = L[3] + L[2]; print(L)"
      ],
      "execution_count": null,
      "outputs": []
    },
    {
      "cell_type": "code",
      "metadata": {
        "id": "jONR-DBxzYNC"
      },
      "source": [
        "# Ou bien\n",
        "L.pop(4); L.append(L[3]+L[2])\n",
        "print(L)"
      ],
      "execution_count": null,
      "outputs": []
    },
    {
      "cell_type": "code",
      "metadata": {
        "id": "2krPR5CjzYND"
      },
      "source": [
        "# Q3.\n",
        "L1 = [1, 0, 3]; L2 = [5, 8, 9]"
      ],
      "execution_count": null,
      "outputs": []
    },
    {
      "cell_type": "code",
      "metadata": {
        "id": "exOpmtt2zYNE"
      },
      "source": [
        "L1 + L2 # addition deux listes"
      ],
      "execution_count": null,
      "outputs": []
    },
    {
      "cell_type": "code",
      "metadata": {
        "id": "0t1_YgVjzYNF"
      },
      "source": [
        "L1 * L2 # multiplication deux listes"
      ],
      "execution_count": null,
      "outputs": []
    },
    {
      "cell_type": "code",
      "metadata": {
        "id": "PETfSpt0zYNG"
      },
      "source": [
        "L1 * 3 # multiplication par un nombre"
      ],
      "execution_count": null,
      "outputs": []
    },
    {
      "cell_type": "code",
      "metadata": {
        "id": "iDc0wARJzYNI"
      },
      "source": [
        "L2 + 20 # ajout d'un nombre"
      ],
      "execution_count": null,
      "outputs": []
    },
    {
      "cell_type": "code",
      "metadata": {
        "id": "Zl6x1nJzzYNJ"
      },
      "source": [
        "# Q4.\n",
        "L = [1, 2, 3, 4, 7]"
      ],
      "execution_count": null,
      "outputs": []
    },
    {
      "cell_type": "code",
      "metadata": {
        "id": "xBYUXyLZzYNL"
      },
      "source": [
        "id(L)"
      ],
      "execution_count": null,
      "outputs": []
    },
    {
      "cell_type": "code",
      "metadata": {
        "id": "HwspnkzAzYNM"
      },
      "source": [
        "L = L+[1]; print(L)"
      ],
      "execution_count": null,
      "outputs": []
    },
    {
      "cell_type": "code",
      "metadata": {
        "id": "-Es96k75zYNM"
      },
      "source": [
        "id(L)"
      ],
      "execution_count": null,
      "outputs": []
    },
    {
      "cell_type": "code",
      "metadata": {
        "id": "pLxKzEHbzYNN"
      },
      "source": [
        "L +=[1]; print(L)"
      ],
      "execution_count": null,
      "outputs": []
    },
    {
      "cell_type": "code",
      "metadata": {
        "id": "D3B4ZjPjzYNP"
      },
      "source": [
        "id(L)"
      ],
      "execution_count": null,
      "outputs": []
    },
    {
      "cell_type": "code",
      "metadata": {
        "id": "8EaDxxH5zYNP"
      },
      "source": [
        "L.append(1); print(L)"
      ],
      "execution_count": null,
      "outputs": []
    },
    {
      "cell_type": "code",
      "metadata": {
        "id": "n7m7KzEczYNQ"
      },
      "source": [
        "id(L)"
      ],
      "execution_count": null,
      "outputs": []
    },
    {
      "cell_type": "code",
      "metadata": {
        "id": "wCG_w5XrzYNR"
      },
      "source": [
        "import random as rd\n",
        "Lr = rd.sample(range(1, 10000), rd.randint(10, 10000)); print(Lr)"
      ],
      "execution_count": null,
      "outputs": []
    },
    {
      "cell_type": "code",
      "metadata": {
        "id": "78fq_i-szYNS"
      },
      "source": [
        "# Q6\n",
        "print(Lr[-1])"
      ],
      "execution_count": null,
      "outputs": []
    },
    {
      "cell_type": "code",
      "metadata": {
        "id": "uzp_VpNMzYNS"
      },
      "source": [
        "help(Lr)"
      ],
      "execution_count": null,
      "outputs": []
    },
    {
      "cell_type": "code",
      "metadata": {
        "id": "AmWfemdDzYNS"
      },
      "source": [
        "len(Lr)"
      ],
      "execution_count": null,
      "outputs": []
    },
    {
      "cell_type": "code",
      "metadata": {
        "id": "wwUYacNkzYNT"
      },
      "source": [
        "Lr.count(1)"
      ],
      "execution_count": null,
      "outputs": []
    },
    {
      "cell_type": "code",
      "metadata": {
        "id": "g7RZl6oozYNT"
      },
      "source": [
        "Lr.append(1)"
      ],
      "execution_count": null,
      "outputs": []
    },
    {
      "cell_type": "code",
      "metadata": {
        "id": "kPDuM6AmzYNU"
      },
      "source": [
        "Lr.index(1)"
      ],
      "execution_count": null,
      "outputs": []
    },
    {
      "cell_type": "code",
      "metadata": {
        "id": "afhj0njGzYNU"
      },
      "source": [
        "Lr.insert(0, 1)"
      ],
      "execution_count": null,
      "outputs": []
    },
    {
      "cell_type": "code",
      "metadata": {
        "id": "4z5yIktlzYNV"
      },
      "source": [
        "Lr.count(1)"
      ],
      "execution_count": null,
      "outputs": []
    },
    {
      "cell_type": "code",
      "metadata": {
        "id": "cZVMetazzYNV"
      },
      "source": [
        "Lr.pop()"
      ],
      "execution_count": null,
      "outputs": []
    },
    {
      "cell_type": "code",
      "metadata": {
        "id": "0nMGhtcTzYNV"
      },
      "source": [
        "Lr.count(1)"
      ],
      "execution_count": null,
      "outputs": []
    },
    {
      "cell_type": "code",
      "metadata": {
        "id": "4wmvmyTFzYNW"
      },
      "source": [
        "len(Lr)"
      ],
      "execution_count": null,
      "outputs": []
    },
    {
      "cell_type": "code",
      "metadata": {
        "id": "ZnKQI5MezYNW"
      },
      "source": [
        "# Q9\n",
        "x = Lr.pop(5); print(x)"
      ],
      "execution_count": null,
      "outputs": []
    },
    {
      "cell_type": "code",
      "metadata": {
        "id": "LlaSUV-uzYNW"
      },
      "source": [
        "Lr.sort(); print(Lr)"
      ],
      "execution_count": null,
      "outputs": []
    },
    {
      "cell_type": "code",
      "metadata": {
        "id": "flh9EzLVzYNX"
      },
      "source": [
        "Lr.sort(reverse = True); print(Lr)"
      ],
      "execution_count": null,
      "outputs": []
    },
    {
      "cell_type": "code",
      "metadata": {
        "id": "kNM2oyw0zYNX"
      },
      "source": [
        "import math as m\n",
        "Lr.sort(key = lambda x : m.sin(x), reverse = False)\n",
        "print(Lr)"
      ],
      "execution_count": null,
      "outputs": []
    },
    {
      "cell_type": "code",
      "metadata": {
        "id": "FW6gLrUjzYNY"
      },
      "source": [
        "Lr.sort(key = lambda x : x**2 - x, reverse = True)\n",
        "print(Lr)"
      ],
      "execution_count": null,
      "outputs": []
    },
    {
      "cell_type": "code",
      "metadata": {
        "id": "6u-10u28zYNY"
      },
      "source": [
        "sum(Lr)"
      ],
      "execution_count": null,
      "outputs": []
    },
    {
      "cell_type": "code",
      "metadata": {
        "id": "FLlbA4ZBzYNZ"
      },
      "source": [
        "sum([x**2 for x in Lr])"
      ],
      "execution_count": null,
      "outputs": []
    },
    {
      "cell_type": "markdown",
      "metadata": {
        "id": "w664wtDkzYNZ"
      },
      "source": [
        "# Exercice 2 : Exercice 2 : Techniques de saucissonnage sur les listes"
      ]
    },
    {
      "cell_type": "code",
      "metadata": {
        "id": "LK0H293bzYNa"
      },
      "source": [
        "import random as rd"
      ],
      "execution_count": null,
      "outputs": []
    },
    {
      "cell_type": "code",
      "metadata": {
        "id": "7s6dXlg4zYNa",
        "outputId": "73a4cc1e-958d-4e5a-db69-3952d789f968"
      },
      "source": [
        "L= [rd.randint(0, 10) for i in range(10)]; print(L)"
      ],
      "execution_count": null,
      "outputs": [
        {
          "name": "stdout",
          "output_type": "stream",
          "text": [
            "[5, 3, 5, 9, 6, 8, 7, 7, 5, 5]\n"
          ]
        }
      ]
    },
    {
      "cell_type": "code",
      "metadata": {
        "id": "oHS-CPmlzYNb",
        "outputId": "84e88f5b-d61c-4bbd-ddfb-9e49abdb9ac9"
      },
      "source": [
        "id(L)"
      ],
      "execution_count": null,
      "outputs": [
        {
          "data": {
            "text/plain": [
              "139627651010880"
            ]
          },
          "execution_count": 6,
          "metadata": {},
          "output_type": "execute_result"
        }
      ]
    },
    {
      "cell_type": "code",
      "metadata": {
        "id": "_km4XkdyzYNc",
        "outputId": "18b6174d-6a88-44a4-f18c-fabd4194fb6c"
      },
      "source": [
        "print(id(L[2:6]))"
      ],
      "execution_count": null,
      "outputs": [
        {
          "name": "stdout",
          "output_type": "stream",
          "text": [
            "139627651218240\n"
          ]
        }
      ]
    },
    {
      "cell_type": "code",
      "metadata": {
        "id": "slfulz-NzYNc",
        "outputId": "c087b01b-2487-4242-ae79-067ee2c60972"
      },
      "source": [
        "L1 = L[2:6]; print(L1, id(L1))"
      ],
      "execution_count": null,
      "outputs": [
        {
          "name": "stdout",
          "output_type": "stream",
          "text": [
            "[5, 9, 6, 8] 139627651423120\n"
          ]
        }
      ]
    },
    {
      "cell_type": "code",
      "metadata": {
        "id": "JSiUL_7OzYNd",
        "outputId": "e39062d3-aa14-4534-e46f-ef0d6e256f83"
      },
      "source": [
        "L1.sort(reverse = True); print(L1, id(L1.sort(reverse = True)))"
      ],
      "execution_count": null,
      "outputs": [
        {
          "name": "stdout",
          "output_type": "stream",
          "text": [
            "[9, 8, 6, 5] 94738098933616\n"
          ]
        }
      ]
    },
    {
      "cell_type": "code",
      "metadata": {
        "id": "Xa6eMzuAzYNe",
        "outputId": "74127bab-8e0f-4539-870d-a9db47f26783"
      },
      "source": [
        "print(L)"
      ],
      "execution_count": null,
      "outputs": [
        {
          "name": "stdout",
          "output_type": "stream",
          "text": [
            "[5, 3, 5, 9, 6, 8, 7, 7, 5, 5]\n"
          ]
        }
      ]
    },
    {
      "cell_type": "code",
      "metadata": {
        "id": "CoL9mFumzYNf",
        "outputId": "2eec2c83-b0ed-49e3-857a-0e4e4ac2631a"
      },
      "source": [
        "L[2:6] = L1; print(L)"
      ],
      "execution_count": null,
      "outputs": [
        {
          "name": "stdout",
          "output_type": "stream",
          "text": [
            "[5, 3, 9, 8, 6, 5, 7, 7, 5, 5]\n"
          ]
        }
      ]
    },
    {
      "cell_type": "code",
      "metadata": {
        "id": "h3XPQerXzYNg",
        "outputId": "1c313ba6-0722-4ac4-d4cb-ed5f533299d5"
      },
      "source": [
        "print(id(L))"
      ],
      "execution_count": null,
      "outputs": [
        {
          "name": "stdout",
          "output_type": "stream",
          "text": [
            "139627651010880\n"
          ]
        }
      ]
    },
    {
      "cell_type": "code",
      "metadata": {
        "id": "6FLivqcbzYNg",
        "outputId": "269b9f9a-6915-4ff6-d5d1-8a71281f24a4"
      },
      "source": [
        "# Q2/1.\n",
        "L[3] = L; print(L)"
      ],
      "execution_count": null,
      "outputs": [
        {
          "name": "stdout",
          "output_type": "stream",
          "text": [
            "[5, 3, 9, [...], 6, 5, 7, 7, 5, 5]\n"
          ]
        }
      ]
    },
    {
      "cell_type": "code",
      "metadata": {
        "id": "hbuNivE9zYNh",
        "outputId": "6e606d5b-6d82-4813-e5d0-e525e878cfa5"
      },
      "source": [
        "print(L[3])"
      ],
      "execution_count": null,
      "outputs": [
        {
          "name": "stdout",
          "output_type": "stream",
          "text": [
            "[5, 3, 9, [...], 6, 5, 7, 7, 5, 5]\n"
          ]
        }
      ]
    },
    {
      "cell_type": "code",
      "metadata": {
        "id": "xQQ0DJaezYNi",
        "outputId": "dc3ad091-28ad-429b-f6f1-e6c8b3c0c7a2"
      },
      "source": [
        "# Q2/2.\n",
        "L.pop(3)"
      ],
      "execution_count": null,
      "outputs": [
        {
          "data": {
            "text/plain": [
              "[5, 3, 9, 6, 5, 7, 7, 5, 5]"
            ]
          },
          "execution_count": 15,
          "metadata": {},
          "output_type": "execute_result"
        }
      ]
    },
    {
      "cell_type": "code",
      "metadata": {
        "id": "YSjJdedOzYNk",
        "outputId": "7a05e6e5-6fc3-4e4e-bcb8-30b3d494fd82"
      },
      "source": [
        "print(L)"
      ],
      "execution_count": null,
      "outputs": [
        {
          "name": "stdout",
          "output_type": "stream",
          "text": [
            "[5, 3, 9, 6, 5, 7, 7, 5, 5]\n"
          ]
        }
      ]
    },
    {
      "cell_type": "code",
      "metadata": {
        "id": "XcwQqPyRzYNl",
        "outputId": "8e1077c2-24b6-41f0-f46b-2740a47b529e"
      },
      "source": [
        "L[3] = L[:]; print(L)"
      ],
      "execution_count": null,
      "outputs": [
        {
          "name": "stdout",
          "output_type": "stream",
          "text": [
            "[5, 3, 9, [5, 3, 9, 6, 5, 7, 7, 5, 5], 5, 7, 7, 5, 5]\n"
          ]
        }
      ]
    },
    {
      "cell_type": "code",
      "metadata": {
        "id": "Qi3EcGqMzYNl",
        "outputId": "e6f60d72-eb6e-4bf5-f38f-c9d97ddfe27a"
      },
      "source": [
        "# Q3.\n",
        "L2 = [2, 1, 0, 9]; L3 = [4, 1, 2, 11]\n",
        "L3[len(L3)//2] = L2 ; print(L3)"
      ],
      "execution_count": null,
      "outputs": [
        {
          "name": "stdout",
          "output_type": "stream",
          "text": [
            "[4, 1, [2, 1, 0, 9], 11]\n"
          ]
        }
      ]
    },
    {
      "cell_type": "markdown",
      "metadata": {
        "id": "7VT3FOctzYNm"
      },
      "source": [
        "# Exercice 3 : Mutabilité et copies"
      ]
    },
    {
      "cell_type": "code",
      "metadata": {
        "id": "pDVg6bTdzYNn",
        "outputId": "3522d703-357d-49e1-f1cd-819cd2588f5c"
      },
      "source": [
        "# Q1.\n",
        "liste1 = [1, 4, 8, 9]; liste2 = liste1.copy() \n",
        "print(liste2, id(liste1)==id(liste2))"
      ],
      "execution_count": null,
      "outputs": [
        {
          "name": "stdout",
          "output_type": "stream",
          "text": [
            "[1, 4, 8, 9] False\n"
          ]
        }
      ]
    },
    {
      "cell_type": "code",
      "metadata": {
        "id": "ozu33af1zYNn",
        "outputId": "ddff00e7-d917-4062-e642-34fb222a7ab1"
      },
      "source": [
        "#Q2\n",
        "liste2.append(0); print(liste1, liste2, sep=\"\\n\")"
      ],
      "execution_count": null,
      "outputs": [
        {
          "name": "stdout",
          "output_type": "stream",
          "text": [
            "[1, 4, 8, 9]\n",
            "[1, 4, 8, 9, 0]\n"
          ]
        }
      ]
    },
    {
      "cell_type": "code",
      "metadata": {
        "id": "c0DEbWKbzYNo",
        "outputId": "bf2543fb-033e-4ca9-dcc7-a1ca458f5bca"
      },
      "source": [
        "# Q3.\n",
        "liste3 = liste1[:]; print(liste3, id(liste1)==id(liste3))\n",
        "liste3.append(18); print(liste1, liste3, sep=\"\\n\")"
      ],
      "execution_count": null,
      "outputs": [
        {
          "name": "stdout",
          "output_type": "stream",
          "text": [
            "[1, 4, 8, 9] False\n",
            "[1, 4, 8, 9]\n",
            "[1, 4, 8, 9, 18]\n"
          ]
        }
      ]
    },
    {
      "cell_type": "code",
      "metadata": {
        "id": "LjuwwdmZzYNp",
        "outputId": "240dd3c5-b74b-4ab3-8119-ef71e5d54964"
      },
      "source": [
        "# Q4.\n",
        "liste4 = [[1,2,3], 8, 7]; liste5 = liste4[:]\n",
        "liste5"
      ],
      "execution_count": null,
      "outputs": [
        {
          "data": {
            "text/plain": [
              "[[1, 2, 3], 8, 7]"
            ]
          },
          "execution_count": 22,
          "metadata": {},
          "output_type": "execute_result"
        }
      ]
    },
    {
      "cell_type": "code",
      "metadata": {
        "id": "bBmQDw7ozYNp",
        "outputId": "d14e7a2d-1254-48d0-fdac-97b15c19b4b4"
      },
      "source": [
        "# Q5.\n",
        "print(id(liste4) == id(liste5))\n",
        "print(id(liste4[0]) == id(liste5[0]))"
      ],
      "execution_count": null,
      "outputs": [
        {
          "name": "stdout",
          "output_type": "stream",
          "text": [
            "False\n",
            "True\n"
          ]
        }
      ]
    },
    {
      "cell_type": "code",
      "metadata": {
        "id": "3H7owmB4zYNq",
        "outputId": "70f69669-9df6-4202-c88c-826d83c23365"
      },
      "source": [
        "liste4[0].append(8)\n",
        "print(liste5)"
      ],
      "execution_count": null,
      "outputs": [
        {
          "name": "stdout",
          "output_type": "stream",
          "text": [
            "[[1, 2, 3, 8], 8, 7]\n"
          ]
        }
      ]
    },
    {
      "cell_type": "code",
      "metadata": {
        "id": "CesVQ8oKzYNr",
        "outputId": "f666efbd-8b28-4c42-cbaf-16128214e07a"
      },
      "source": [
        "# Q6.\n",
        "couple=([1,2],3)\n",
        "id(couple)"
      ],
      "execution_count": null,
      "outputs": [
        {
          "data": {
            "text/plain": [
              "139627710637392"
            ]
          },
          "execution_count": 25,
          "metadata": {},
          "output_type": "execute_result"
        }
      ]
    },
    {
      "cell_type": "code",
      "metadata": {
        "id": "yeV4QiBDzYNr",
        "outputId": "d0f5585a-9f78-45b9-cc0e-f393bd009827"
      },
      "source": [
        "couple[1] = 5"
      ],
      "execution_count": null,
      "outputs": [
        {
          "ename": "TypeError",
          "evalue": "'tuple' object does not support item assignment",
          "output_type": "error",
          "traceback": [
            "\u001b[0;31m---------------------------------------------------------------------------\u001b[0m",
            "\u001b[0;31mTypeError\u001b[0m                                 Traceback (most recent call last)",
            "\u001b[0;32m<ipython-input-26-bf6a1c208f1a>\u001b[0m in \u001b[0;36m<module>\u001b[0;34m\u001b[0m\n\u001b[0;32m----> 1\u001b[0;31m \u001b[0mcouple\u001b[0m\u001b[0;34m[\u001b[0m\u001b[0;36m1\u001b[0m\u001b[0;34m]\u001b[0m \u001b[0;34m=\u001b[0m \u001b[0;36m5\u001b[0m\u001b[0;34m\u001b[0m\u001b[0;34m\u001b[0m\u001b[0m\n\u001b[0m",
            "\u001b[0;31mTypeError\u001b[0m: 'tuple' object does not support item assignment"
          ]
        }
      ]
    },
    {
      "cell_type": "code",
      "metadata": {
        "id": "8GqwK8KQzYNs"
      },
      "source": [
        "couple[0][1]=8"
      ],
      "execution_count": null,
      "outputs": []
    },
    {
      "cell_type": "code",
      "metadata": {
        "id": "ug0TSF7YzYNs",
        "outputId": "84cd95f8-8f5c-4c05-e101-a615f1372a1f"
      },
      "source": [
        "print(couple)"
      ],
      "execution_count": null,
      "outputs": [
        {
          "name": "stdout",
          "output_type": "stream",
          "text": [
            "([1, 8], 3)\n"
          ]
        }
      ]
    },
    {
      "cell_type": "markdown",
      "metadata": {
        "id": "j0pvhrtYzYNs"
      },
      "source": [
        "# Exercice 4 : Manipulation de données avec gestion d’erreurs"
      ]
    },
    {
      "cell_type": "code",
      "metadata": {
        "id": "oIPRxJy2zYNt",
        "outputId": "0bb9b6e2-d9fd-4cc0-c743-4e7f7503c779"
      },
      "source": [
        "# Nom du programme : saisieliste.py\n",
        "try:\n",
        "    n = int(input(\"Dannez la longueur de la liste : \"))\n",
        "    assert n>0\n",
        "    L = [2*x for x in range(1, n+1)] # ou list(range(2, 2*n+1, 2))\n",
        "    print(L)\n",
        "    for i in range(n//2):\n",
        "        elt = L[i]\n",
        "        L[i]=L[n-1-i]\n",
        "        L[n-1-i] = elt\n",
        "    print(L)\n",
        "    # ou bien L = L[::-1]\n",
        "    print(sum(L)/n)\n",
        "except AssertionError:\n",
        "    print(\"n doit être > 0\")\n"
      ],
      "execution_count": null,
      "outputs": [
        {
          "name": "stdout",
          "output_type": "stream",
          "text": [
            "Dannez la longueur de la liste : 10\n",
            "[2, 4, 6, 8, 10, 12, 14, 16, 18, 20]\n",
            "[20, 18, 16, 14, 12, 10, 8, 6, 4, 2]\n",
            "11.0\n"
          ]
        }
      ]
    },
    {
      "cell_type": "markdown",
      "metadata": {
        "id": "G44LoYfjzYNu"
      },
      "source": [
        "# Exercice 5 : Commandes utiles"
      ]
    },
    {
      "cell_type": "code",
      "metadata": {
        "id": "cfmlE78OzYNv",
        "outputId": "7185e998-6bfc-41f3-dfae-212ba16caf90"
      },
      "source": [
        "#1. Ajouter 2 à tous les éléments de la liste L=[44,55,66]\n",
        "L=[44,55,66]\n",
        "print(L)\n",
        "L1 = [el +2 for el in L] # ou  = list(map(lambda x:x+2, L))\n",
        "print(L1)"
      ],
      "execution_count": null,
      "outputs": [
        {
          "name": "stdout",
          "output_type": "stream",
          "text": [
            "[44, 55, 66]\n",
            "[46, 57, 68]\n"
          ]
        }
      ]
    },
    {
      "cell_type": "code",
      "metadata": {
        "id": "xpK1CRQtzYNv",
        "outputId": "b11034eb-dac0-4418-ee0b-5279e8e9f3d1"
      },
      "source": [
        "#2. Créer une liste A constituée de trois occurrences de la liste L\n",
        "A = [L for i in range(3)]\n",
        "print(A)"
      ],
      "execution_count": null,
      "outputs": [
        {
          "name": "stdout",
          "output_type": "stream",
          "text": [
            "[[44, 55, 66], [44, 55, 66], [44, 55, 66]]\n"
          ]
        }
      ]
    },
    {
      "cell_type": "code",
      "metadata": {
        "id": "z_Bq4rYmzYNw",
        "outputId": "6ba0869e-ee6a-48ef-8810-a9d548e6db80"
      },
      "source": [
        "# 3. ajouter 3 aux sous éléments de A s’ils sont divisibles par 3\n",
        "print([[c+3 if c%3==0 else c for c in l] for l in A])"
      ],
      "execution_count": null,
      "outputs": [
        {
          "name": "stdout",
          "output_type": "stream",
          "text": [
            "[[44, 55, 69], [44, 55, 69], [44, 55, 69]]\n"
          ]
        }
      ]
    },
    {
      "cell_type": "code",
      "metadata": {
        "id": "mimVSqpWzYNx",
        "outputId": "8b46b996-43ee-4a3d-cdc9-f64540643a5f"
      },
      "source": [
        "L=[44,55,66]\n",
        "A = [[44, 55, 66], [44, 55, 66], [44, 55, 66]]\n",
        "for i in range(len(A)):\n",
        "    for j in range(len(L)):\n",
        "        if A[i][j]%3==0:\n",
        "            A[i][j] +=3\n",
        "print(A)"
      ],
      "execution_count": null,
      "outputs": [
        {
          "name": "stdout",
          "output_type": "stream",
          "text": [
            "[[44, 55, 69], [44, 55, 69], [44, 55, 69]]\n"
          ]
        }
      ]
    },
    {
      "cell_type": "markdown",
      "metadata": {
        "id": "Cx6ZTSX8zYNy"
      },
      "source": [
        "# Exercice 6 : Listes équivalentes"
      ]
    },
    {
      "cell_type": "code",
      "metadata": {
        "id": "euHacH0ZzYNz",
        "outputId": "8bba9500-5bab-4d33-d3db-6a735e509d43"
      },
      "source": [
        "# Nomdu programme : equiv.py\n",
        "#Q1.\n",
        "def saisit(n1,n2):\n",
        "    import random as rd\n",
        "    L1 = [rd.randint(1, 4) for _ in range(n1)]\n",
        "    L2 = [rd.randint(1, 4) for _ in range(n2)]\n",
        "    return L1, L2\n",
        "\n",
        "# Q2. \n",
        "def isEquivlent(L1, L2):\n",
        "    s1, s2 = set(L1), set(L2) # ensembles des valeurs dans L1 et L2\n",
        "    if s1 == s2: # les deux listes sont équivalentes\n",
        "        return True\n",
        "    else : # les deux listes ne sont pas équivalentes\n",
        "        return False\n",
        "\n",
        "L1, L2 = saisit(8,10) \n",
        "print(L1, L2) # afficher les deux listes\n",
        "isEquivlent(L1, L2)"
      ],
      "execution_count": null,
      "outputs": [
        {
          "name": "stdout",
          "output_type": "stream",
          "text": [
            "[1, 3, 1, 3, 4, 3, 4, 2] [4, 3, 3, 1, 3, 3, 3, 4, 4, 2]\n"
          ]
        },
        {
          "data": {
            "text/plain": [
              "True"
            ]
          },
          "execution_count": 35,
          "metadata": {},
          "output_type": "execute_result"
        }
      ]
    },
    {
      "cell_type": "markdown",
      "metadata": {
        "id": "wE_qyIvRzYN0"
      },
      "source": [
        "# Exercice 7 : Précipitations"
      ]
    },
    {
      "cell_type": "code",
      "metadata": {
        "id": "blGhtd8OzYN1",
        "outputId": "0fbbd3f1-a070-45e7-d22c-9b15991674db"
      },
      "source": [
        "def precipitations():\n",
        "    dictio = {}\n",
        "    print(\"Appuyez sur <Entrer> pour terminer la saisie.\")\n",
        "    while True:\n",
        "        nom_ville = input(\"Saisir le nom de la vile: \")\n",
        "        if nom_ville:\n",
        "            nom_ville = nom_ville.title()\n",
        "            try:\n",
        "                pluie_mm = int(input(\"Entrer la quantité de pluie en mm : \"))\n",
        "                dictio[nom_ville] = pluie_mm\n",
        "            except:\n",
        "                print(\"veuillez entrer un nombre entier!\")\n",
        "        else:\n",
        "            break\n",
        "    return dictio\n",
        "dictio = precipitations()\n",
        "f = open(\"precip.txt\", \"w\") # ouvrir un fichier en mode écriture\n",
        "for ville, pluie in dictio.items():\n",
        "    print(\"{} : {} mm\".format(ville, pluie))\n",
        "    f.write(\"{} : {} mm\".format(ville, pluie)+\"\\n\") #écrire dans le fichier\n",
        "f.close() # fermer le fichier"
      ],
      "execution_count": null,
      "outputs": [
        {
          "name": "stdout",
          "output_type": "stream",
          "text": [
            "Appuyez sur <Entrer> pour terminer la saisie.\n",
            "Saisir le nom de la vile: tunis\n",
            "Entrer la quantité de pluie en mm : 33\n",
            "Saisir le nom de la vile: sousse\n",
            "Entrer la quantité de pluie en mm : 20\n",
            "Saisir le nom de la vile: sfax\n",
            "Entrer la quantité de pluie en mm : 25\n",
            "Saisir le nom de la vile: nabeul\n",
            "Entrer la quantité de pluie en mm : 22\n",
            "Saisir le nom de la vile: gabes\n",
            "Entrer la quantité de pluie en mm : \n",
            "veuillez entrer un nombre entier!\n",
            "Saisir le nom de la vile: gabes\n",
            "Entrer la quantité de pluie en mm : 15\n",
            "Saisir le nom de la vile: \n",
            "Tunis : 33 mm\n",
            "Sousse : 20 mm\n",
            "Sfax : 25 mm\n",
            "Nabeul : 22 mm\n",
            "Gabes : 15 mm\n"
          ]
        }
      ]
    },
    {
      "cell_type": "markdown",
      "metadata": {
        "id": "BUbceLXbzYN2"
      },
      "source": [
        "# Exercice 8 : Algorithme du plus grand diviseur commun (pgcd)"
      ]
    },
    {
      "cell_type": "code",
      "metadata": {
        "id": "9JMFckWwzYN2",
        "outputId": "3f51ff70-9fa1-47b7-d946-4f1c7765d6de"
      },
      "source": [
        "def Diviseurs(n):\n",
        "    return [i for i in range(1, n+1) if n%i==0]\n",
        "Diviseurs(6)"
      ],
      "execution_count": null,
      "outputs": [
        {
          "data": {
            "text/plain": [
              "[1, 2, 3, 6]"
            ]
          },
          "execution_count": 37,
          "metadata": {},
          "output_type": "execute_result"
        }
      ]
    },
    {
      "cell_type": "code",
      "metadata": {
        "id": "Ap_noYhFzYN3"
      },
      "source": [
        "def Existe(T,x):\n",
        "    return x in T"
      ],
      "execution_count": null,
      "outputs": []
    },
    {
      "cell_type": "code",
      "metadata": {
        "id": "k0wRtyLvzYN4"
      },
      "source": [
        "def EltCom(T1,T2):\n",
        "    s1 = set(T1)\n",
        "    s2 = set(T2)\n",
        "    T = []\n",
        "    for x in s1:\n",
        "        if Existe(s2,x):\n",
        "            T.append(x)\n",
        "    return  T\n"
      ],
      "execution_count": null,
      "outputs": []
    },
    {
      "cell_type": "code",
      "metadata": {
        "id": "lHmHLhzszYN5",
        "outputId": "5e98ba2c-01bf-455f-d2f5-70f8fa035e0f"
      },
      "source": [
        "T1=[1,2,3,6]\n",
        "T2=[1,3,3,6]\n",
        "EltCom(T1,T2)"
      ],
      "execution_count": null,
      "outputs": [
        {
          "data": {
            "text/plain": [
              "[1, 3, 6]"
            ]
          },
          "execution_count": 40,
          "metadata": {},
          "output_type": "execute_result"
        }
      ]
    },
    {
      "cell_type": "code",
      "metadata": {
        "id": "d2cBvI6TzYN5"
      },
      "source": [
        "def maxTab(T):\n",
        "    Max = T[0]\n",
        "    for x in T:\n",
        "        if x > Max:\n",
        "            Max = x\n",
        "    return Max  "
      ],
      "execution_count": null,
      "outputs": []
    },
    {
      "cell_type": "code",
      "metadata": {
        "id": "5SgHauy0zYN6",
        "outputId": "0726472f-0c82-4ed9-b3f9-c497ee82c1d0"
      },
      "source": [
        "T=[1,3,10,15,12,0]\n",
        "maxTab(T)"
      ],
      "execution_count": null,
      "outputs": [
        {
          "data": {
            "text/plain": [
              "15"
            ]
          },
          "execution_count": 42,
          "metadata": {},
          "output_type": "execute_result"
        }
      ]
    },
    {
      "cell_type": "code",
      "metadata": {
        "id": "lsghBgzizYN7"
      },
      "source": [
        "def pgcd(a,b):\n",
        "    if b == 0:\n",
        "        return a\n",
        "    else:\n",
        "        T1 = Diviseurs(a)\n",
        "        T2 = Diviseurs(b)\n",
        "        T3 = EltCom(T1,T2)\n",
        "        return maxTab(T3)"
      ],
      "execution_count": null,
      "outputs": []
    },
    {
      "cell_type": "code",
      "metadata": {
        "id": "6j5K699yzYN7",
        "outputId": "e6a09813-5cef-4f0b-824f-2be3611dd023"
      },
      "source": [
        "pgcd(220, 222)"
      ],
      "execution_count": null,
      "outputs": [
        {
          "data": {
            "text/plain": [
              "2"
            ]
          },
          "execution_count": 44,
          "metadata": {},
          "output_type": "execute_result"
        }
      ]
    },
    {
      "cell_type": "markdown",
      "metadata": {
        "id": "Q9n7r4qrzYN8"
      },
      "source": [
        "Notez qu'il existe une fonction `gcd(a, b)` du module math qui calcule le pgd de deux nombres a et b."
      ]
    },
    {
      "cell_type": "code",
      "metadata": {
        "id": "tJdNJk6GzYN8",
        "outputId": "45b898cc-a25d-4f56-aaa2-2421509edf58"
      },
      "source": [
        "import math as m\n",
        "m.gcd(220, 222)"
      ],
      "execution_count": null,
      "outputs": [
        {
          "data": {
            "text/plain": [
              "2"
            ]
          },
          "execution_count": 45,
          "metadata": {},
          "output_type": "execute_result"
        }
      ]
    },
    {
      "cell_type": "markdown",
      "metadata": {
        "id": "c-n9q623zYN8"
      },
      "source": [
        "# Problème 1 : Évaluation de la force d’un mot de passe"
      ]
    },
    {
      "cell_type": "code",
      "metadata": {
        "id": "O1N_9wgDzYN9"
      },
      "source": [
        "#Q1.\n",
        "def nombrepasswd():\n",
        "    \"saisir un nombre <=10\"\n",
        "    while True:\n",
        "        try:\n",
        "            n = int(input(\"saisir un nombre entier <=10 :\"))\n",
        "            if 0< n <=10:\n",
        "                break\n",
        "        except:\n",
        "            print(\"veuillez saisir un nombre entier!\")\n",
        "    return n"
      ],
      "execution_count": null,
      "outputs": []
    },
    {
      "cell_type": "code",
      "metadata": {
        "id": "cwshP-5WzYN9",
        "outputId": "f75065ad-6a00-4574-8238-cbf6dc97b417"
      },
      "source": [
        "n = nombrepasswd()"
      ],
      "execution_count": null,
      "outputs": [
        {
          "name": "stdout",
          "output_type": "stream",
          "text": [
            "saisir un nombre entier <=10 :3\n"
          ]
        }
      ]
    },
    {
      "cell_type": "code",
      "metadata": {
        "id": "kl-frgVGzYN-"
      },
      "source": [
        "#Q2.\n",
        "def saisipassword(n):\n",
        "    f = open(\"password.txt\", \"w\")\n",
        "    for i in range(n):\n",
        "        ch = input(\"saisir un mot de passe : \")\n",
        "        while ch.find(\" \") != -1:\n",
        "            ch = input(\"saisir un autre mot de passe : \")\n",
        "        f.write(ch+\",\")\n",
        "    f.close"
      ],
      "execution_count": null,
      "outputs": []
    },
    {
      "cell_type": "code",
      "metadata": {
        "id": "gyxEfEYlzYOA",
        "outputId": "97ae331d-fa6e-49ea-cd6e-466f32f0b121"
      },
      "source": [
        "saisipassword(n)"
      ],
      "execution_count": null,
      "outputs": [
        {
          "name": "stdout",
          "output_type": "stream",
          "text": [
            "saisir un mot de passe : A#123mm%1\n",
            "saisir un mot de passe : AA N21@1\n",
            "saisir un autre mot de passe : SA&AZzs09A\n",
            "saisir un mot de passe : fjef12HH@Q\n"
          ]
        }
      ]
    },
    {
      "cell_type": "code",
      "metadata": {
        "id": "bFv80kwQzYOA"
      },
      "source": [
        "#Q3\n",
        "def NB_Min_Maj_Nalpha(ch):\n",
        "    nbr_min, nbr_maj, nbr_nonalpha=0, 0, 0\n",
        "    for c in ch:\n",
        "        if c.islower():\n",
        "            nbr_min +=1\n",
        "        elif c.isupper():\n",
        "            nbr_maj +=1\n",
        "        elif not c.isalpha():\n",
        "            nbr_nonalpha +=1\n",
        "    return (nbr_min, nbr_maj, nbr_nonalpha)"
      ],
      "execution_count": null,
      "outputs": []
    },
    {
      "cell_type": "code",
      "metadata": {
        "id": "gvZDMLvYzYOB",
        "outputId": "f4ce8cfe-5bad-4fef-ff9d-ebe8e130af7f"
      },
      "source": [
        "ch = \"Ip&IB_cnc2017\"\n",
        "t=NB_Min_Maj_Nalpha(ch)\n",
        "print(t)"
      ],
      "execution_count": null,
      "outputs": [
        {
          "name": "stdout",
          "output_type": "stream",
          "text": [
            "(4, 3, 6)\n"
          ]
        }
      ]
    },
    {
      "cell_type": "code",
      "metadata": {
        "id": "o9e6RepWzYOB"
      },
      "source": [
        "# Q4.\n",
        "def Seqmax_miniscule(ch):\n",
        "    nb_min = 0\n",
        "    seq = []\n",
        "    for i in range(len(ch)):\n",
        "        if ch[i].islower():\n",
        "            nb_min +=1\n",
        "        else: \n",
        "            nb_min =0\n",
        "        seq.append(nb_min)\n",
        "    #print(seq)\n",
        "    return max(seq) "
      ],
      "execution_count": null,
      "outputs": []
    },
    {
      "cell_type": "code",
      "metadata": {
        "id": "dDyTqoi7zYOC",
        "outputId": "458dfa2f-4f3e-44eb-9827-c5e079497b8d"
      },
      "source": [
        "Seqmax_miniscule(ch)"
      ],
      "execution_count": null,
      "outputs": [
        {
          "data": {
            "text/plain": [
              "3"
            ]
          },
          "execution_count": 230,
          "metadata": {},
          "output_type": "execute_result"
        }
      ]
    },
    {
      "cell_type": "code",
      "metadata": {
        "id": "D7iDSLAVzYOC"
      },
      "source": [
        "# Q5.\n",
        "def Seqmax_majuscule(ch):\n",
        "    nb_maj = 0\n",
        "    seq = []\n",
        "    for i in range(len(ch)):\n",
        "        if ch[i].isupper():\n",
        "            nb_maj +=1\n",
        "        else: \n",
        "            nb_maj =0\n",
        "        seq.append(nb_maj)\n",
        "    #print(seq)\n",
        "    return max(seq)\n",
        "\n",
        "## Ou bien en utilisant la fonction précédente\n",
        "#def Seqmax_majuscule(ch):\n",
        "#    return Seqmax_miniscule(ch.swapcase())"
      ],
      "execution_count": null,
      "outputs": []
    },
    {
      "cell_type": "code",
      "metadata": {
        "id": "1OEb8YdtzYOD",
        "outputId": "2257a003-62bb-4a03-a1d2-bb72af72e5aa"
      },
      "source": [
        "Seqmax_majuscule(ch)"
      ],
      "execution_count": null,
      "outputs": [
        {
          "data": {
            "text/plain": [
              "2"
            ]
          },
          "execution_count": 232,
          "metadata": {},
          "output_type": "execute_result"
        }
      ]
    },
    {
      "cell_type": "code",
      "metadata": {
        "id": "R7rMcB_4zYOF"
      },
      "source": [
        "# Q6.\n",
        "def Scorepassword(ch) :\n",
        "    bonus = len(ch)*4 + (len(ch) - NB_Min_Maj_Nalpha(ch)[0])*3 + \\\n",
        "    (len(ch) - NB_Min_Maj_Nalpha(ch)[1])*2 + NB_Min_Maj_Nalpha(ch)[2]*5\n",
        "    penalites = Seqmax_miniscule(ch)*2 + Seqmax_majuscule(ch) *2 \n",
        "    return bonus - penalites"
      ],
      "execution_count": null,
      "outputs": []
    },
    {
      "cell_type": "code",
      "metadata": {
        "id": "QASCljfezYOH",
        "outputId": "9564e6fc-2443-46a5-fe37-10e9df160759"
      },
      "source": [
        "Scorepassword(\"Ip&IB_cnc2017\")"
      ],
      "execution_count": null,
      "outputs": [
        {
          "data": {
            "text/plain": [
              "119"
            ]
          },
          "execution_count": 234,
          "metadata": {},
          "output_type": "execute_result"
        }
      ]
    },
    {
      "cell_type": "code",
      "metadata": {
        "id": "4DI1jRc3zYOI"
      },
      "source": [
        "# Q7.\n",
        "def Forcepassword(score):\n",
        "    if score < 20:\n",
        "        return \"Très faible\"\n",
        "    elif score < 40:\n",
        "        return \"Faible\"\n",
        "    elif score < 60:\n",
        "        return \"Moyen\"\n",
        "    elif score < 80:\n",
        "        return \"Fort\"\n",
        "    else:\n",
        "        return \"Très fort\""
      ],
      "execution_count": null,
      "outputs": []
    },
    {
      "cell_type": "code",
      "metadata": {
        "id": "o5hcUnKHzYOK",
        "outputId": "d9cf9bfc-276c-4812-da03-b4b6709a6232"
      },
      "source": [
        "score = Scorepassword(\"Ip&IB_cnc2017\")\n",
        "Forcepassword(score)"
      ],
      "execution_count": null,
      "outputs": [
        {
          "data": {
            "text/plain": [
              "'Très fort'"
            ]
          },
          "execution_count": 236,
          "metadata": {},
          "output_type": "execute_result"
        }
      ]
    },
    {
      "cell_type": "code",
      "metadata": {
        "id": "_juQfqkdzYOK"
      },
      "source": [
        "#Q8.\n",
        "def Forcelistepassword():\n",
        "    dictio = {}\n",
        "    f = open(\"password.txt\", \"r\")\n",
        "    contenu = f.read()\n",
        "    f.close()\n",
        "    #print(\"Avec une virgule à la fin : \", contenu)\n",
        "    contenu = contenu.strip(\",\") # supprimer la dérnière virgule\n",
        "    List_password = contenu.split(\",\")\n",
        "    for password in List_password :\n",
        "        score = Scorepassword(password)\n",
        "        dictio[password] = (score, Forcepassword(score))\n",
        "    return dictio"
      ],
      "execution_count": null,
      "outputs": []
    },
    {
      "cell_type": "code",
      "metadata": {
        "id": "CdFMdgu_zYOL",
        "outputId": "59c0013e-daf7-4e3f-cbff-feb6850e55a0"
      },
      "source": [
        "Forcelistepassword()"
      ],
      "execution_count": null,
      "outputs": [
        {
          "data": {
            "text/plain": [
              "{'A#123mm%1': (97, 'Très fort'),\n",
              " 'SA&AZzs09A': (81, 'Très fort'),\n",
              " 'fjef12HH@Q': (75, 'Fort')}"
            ]
          },
          "execution_count": 251,
          "metadata": {},
          "output_type": "execute_result"
        }
      ]
    },
    {
      "cell_type": "code",
      "metadata": {
        "id": "TH1bOPZfzYOL"
      },
      "source": [
        "# Q9.\n",
        "def passwordfort(d) : \n",
        "    f = open(\"passwordfort.txt\", \"w\")\n",
        "    for key, val in d.items():\n",
        "        if val[1] == \"Fort\":\n",
        "            f.write(key+\"\\n\")\n",
        "    f.close()"
      ],
      "execution_count": null,
      "outputs": []
    },
    {
      "cell_type": "code",
      "metadata": {
        "id": "_g_L6hnZzYOL"
      },
      "source": [
        "d = Forcelistepassword()\n",
        "passwordfort(d)"
      ],
      "execution_count": null,
      "outputs": []
    },
    {
      "cell_type": "code",
      "metadata": {
        "id": "rCU2mh14ziGJ"
      },
      "source": [
        ""
      ],
      "execution_count": null,
      "outputs": []
    }
  ]
}