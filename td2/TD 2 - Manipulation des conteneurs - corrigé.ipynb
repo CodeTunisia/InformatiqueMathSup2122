{
  "nbformat": 4,
  "nbformat_minor": 0,
  "metadata": {
    "kernelspec": {
      "display_name": "Python 3",
      "language": "python",
      "name": "python3"
    },
    "language_info": {
      "codemirror_mode": {
        "name": "ipython",
        "version": 3
      },
      "file_extension": ".py",
      "mimetype": "text/x-python",
      "name": "python",
      "nbconvert_exporter": "python",
      "pygments_lexer": "ipython3",
      "version": "3.7.6"
    },
    "colab": {
      "name": "TD 2 - Manipulation des conteneurs - corrigé.ipynb",
      "provenance": [],
      "include_colab_link": true
    }
  },
  "cells": [
    {
      "cell_type": "markdown",
      "metadata": {
        "id": "view-in-github",
        "colab_type": "text"
      },
      "source": [
        "<a href=\"https://colab.research.google.com/github/CodeTunisia/InformatiqueMathSup2122/blob/main/td2/TD%202%20-%20Manipulation%20des%20conteneurs%20-%20corrig%C3%A9.ipynb\" target=\"_parent\"><img src=\"https://colab.research.google.com/assets/colab-badge.svg\" alt=\"Open In Colab\"/></a>"
      ]
    },
    {
      "cell_type": "markdown",
      "metadata": {
        "id": "X5ywjh8KPNjf"
      },
      "source": [
        "# Exercice 1 : Manipulations élémentaires de listes"
      ]
    },
    {
      "cell_type": "code",
      "metadata": {
        "id": "IS7KtgV4PNjq"
      },
      "source": [
        "# Q1\n",
        "L=[1,2,3,4,5]"
      ],
      "execution_count": null,
      "outputs": []
    },
    {
      "cell_type": "code",
      "metadata": {
        "id": "q8s1JVGKPNjt"
      },
      "source": [
        "L[4] # le 5ème élément --> indiçage à partir de 0"
      ],
      "execution_count": null,
      "outputs": []
    },
    {
      "cell_type": "code",
      "metadata": {
        "id": "PNiFCRAHPNjv"
      },
      "source": [
        "#Q2. \n",
        "L[4] = L[3] + L[2]; print(L)"
      ],
      "execution_count": null,
      "outputs": []
    },
    {
      "cell_type": "code",
      "metadata": {
        "id": "nqUi16ATPNjw"
      },
      "source": [
        "# Ou bien\n",
        "L.pop(4); L.append(L[3]+L[2])\n",
        "print(L)"
      ],
      "execution_count": null,
      "outputs": []
    },
    {
      "cell_type": "code",
      "metadata": {
        "id": "fZ4-_bAfPNjx"
      },
      "source": [
        "# Q3.\n",
        "L1 = [1, 0, 3]; L2 = [5, 8, 9]"
      ],
      "execution_count": null,
      "outputs": []
    },
    {
      "cell_type": "code",
      "metadata": {
        "id": "E2nsvIgrPNjy"
      },
      "source": [
        "L1 + L2 # addition deux listes"
      ],
      "execution_count": null,
      "outputs": []
    },
    {
      "cell_type": "code",
      "metadata": {
        "id": "a15SoA-zPNjz"
      },
      "source": [
        "L1 * L2 # multiplication deux listes"
      ],
      "execution_count": null,
      "outputs": []
    },
    {
      "cell_type": "code",
      "metadata": {
        "id": "5TD6HbBRPNj1"
      },
      "source": [
        "L1 * 3 # multiplication par un nombre"
      ],
      "execution_count": null,
      "outputs": []
    },
    {
      "cell_type": "code",
      "metadata": {
        "id": "dOphrk3WPNj4"
      },
      "source": [
        "L2 + 20 # ajout d'un nombre"
      ],
      "execution_count": null,
      "outputs": []
    },
    {
      "cell_type": "code",
      "metadata": {
        "id": "WQkeZCLmPNj5"
      },
      "source": [
        "# Q4.\n",
        "L = [1, 2, 3, 4, 7]"
      ],
      "execution_count": null,
      "outputs": []
    },
    {
      "cell_type": "code",
      "metadata": {
        "id": "cqNbK7b_PNj7"
      },
      "source": [
        "id(L)"
      ],
      "execution_count": null,
      "outputs": []
    },
    {
      "cell_type": "code",
      "metadata": {
        "id": "S3NioVYBPNj8"
      },
      "source": [
        "L = L+[1]; print(L)"
      ],
      "execution_count": null,
      "outputs": []
    },
    {
      "cell_type": "code",
      "metadata": {
        "id": "H-WlwJekPNj9"
      },
      "source": [
        "id(L)"
      ],
      "execution_count": null,
      "outputs": []
    },
    {
      "cell_type": "code",
      "metadata": {
        "id": "HGYfzHasPNj9"
      },
      "source": [
        "L +=[1]; print(L)"
      ],
      "execution_count": null,
      "outputs": []
    },
    {
      "cell_type": "code",
      "metadata": {
        "id": "BjVkyryCPNj9"
      },
      "source": [
        "id(L)"
      ],
      "execution_count": null,
      "outputs": []
    },
    {
      "cell_type": "code",
      "metadata": {
        "id": "NYdEAR0KPNj-"
      },
      "source": [
        "L.append(1); print(L)"
      ],
      "execution_count": null,
      "outputs": []
    },
    {
      "cell_type": "code",
      "metadata": {
        "id": "fi_PR2--PNj_"
      },
      "source": [
        "id(L)"
      ],
      "execution_count": null,
      "outputs": []
    },
    {
      "cell_type": "code",
      "metadata": {
        "id": "A0OAcprfPNj_"
      },
      "source": [
        "import random as rd\n",
        "Lr = rd.sample(range(1, 10000), rd.randint(10, 10000)); print(Lr)"
      ],
      "execution_count": null,
      "outputs": []
    },
    {
      "cell_type": "code",
      "metadata": {
        "id": "USjeUpKBPNkA"
      },
      "source": [
        "# Q6\n",
        "print(Lr[-1])"
      ],
      "execution_count": null,
      "outputs": []
    },
    {
      "cell_type": "code",
      "metadata": {
        "id": "m1lvjJVUPNkA"
      },
      "source": [
        "help(Lr)"
      ],
      "execution_count": null,
      "outputs": []
    },
    {
      "cell_type": "code",
      "metadata": {
        "id": "bqFG0YZSPNkB"
      },
      "source": [
        "len(Lr)"
      ],
      "execution_count": null,
      "outputs": []
    },
    {
      "cell_type": "code",
      "metadata": {
        "id": "6SWBdzUVPNkC"
      },
      "source": [
        "Lr.count(1)"
      ],
      "execution_count": null,
      "outputs": []
    },
    {
      "cell_type": "code",
      "metadata": {
        "id": "k4sxxd_jPNkC"
      },
      "source": [
        "Lr.append(1)"
      ],
      "execution_count": null,
      "outputs": []
    },
    {
      "cell_type": "code",
      "metadata": {
        "id": "Tg4mDKdQPNkD"
      },
      "source": [
        "Lr.index(1)"
      ],
      "execution_count": null,
      "outputs": []
    },
    {
      "cell_type": "code",
      "metadata": {
        "id": "U0ccUCeFPNkD"
      },
      "source": [
        "Lr.insert(0, 1)"
      ],
      "execution_count": null,
      "outputs": []
    },
    {
      "cell_type": "code",
      "metadata": {
        "id": "s6OeK6AJPNkE"
      },
      "source": [
        "Lr.count(1)"
      ],
      "execution_count": null,
      "outputs": []
    },
    {
      "cell_type": "code",
      "metadata": {
        "id": "9_5ZJ3wdPNkE"
      },
      "source": [
        "Lr.pop()"
      ],
      "execution_count": null,
      "outputs": []
    },
    {
      "cell_type": "code",
      "metadata": {
        "id": "FoIB0y3ePNkF"
      },
      "source": [
        "Lr.count(1)"
      ],
      "execution_count": null,
      "outputs": []
    },
    {
      "cell_type": "code",
      "metadata": {
        "id": "VG32ergnPNkG"
      },
      "source": [
        "len(Lr)"
      ],
      "execution_count": null,
      "outputs": []
    },
    {
      "cell_type": "code",
      "metadata": {
        "id": "nVsFgczfPNkH"
      },
      "source": [
        "# Q9\n",
        "x = Lr.pop(5); print(x)"
      ],
      "execution_count": null,
      "outputs": []
    },
    {
      "cell_type": "code",
      "metadata": {
        "id": "sfeQvQcOPNkI"
      },
      "source": [
        "Lr.sort(); print(Lr)"
      ],
      "execution_count": null,
      "outputs": []
    },
    {
      "cell_type": "code",
      "metadata": {
        "id": "lmF9_epSPNkJ"
      },
      "source": [
        "Lr.sort(reverse = True); print(Lr)"
      ],
      "execution_count": null,
      "outputs": []
    },
    {
      "cell_type": "code",
      "metadata": {
        "id": "xQyk2Y12PNkJ"
      },
      "source": [
        "import math as m\n",
        "Lr.sort(key = lambda x : m.sin(x), reverse = False)\n",
        "print(Lr)"
      ],
      "execution_count": null,
      "outputs": []
    },
    {
      "cell_type": "code",
      "metadata": {
        "id": "31IBj2kRPNkK"
      },
      "source": [
        "Lr.sort(key = lambda x : x**2 - x, reverse = True)\n",
        "print(Lr)"
      ],
      "execution_count": null,
      "outputs": []
    },
    {
      "cell_type": "code",
      "metadata": {
        "id": "E9Nd2FsWPNkL"
      },
      "source": [
        "sum(Lr)"
      ],
      "execution_count": null,
      "outputs": []
    },
    {
      "cell_type": "code",
      "metadata": {
        "id": "P3qIToxzPNkL"
      },
      "source": [
        "sum([x**2 for x in Lr])"
      ],
      "execution_count": null,
      "outputs": []
    },
    {
      "cell_type": "markdown",
      "metadata": {
        "id": "3e3WxV6kPNkL"
      },
      "source": [
        "# Exercice 2 : Exercice 2 : Techniques de saucissonnage sur les listes"
      ]
    },
    {
      "cell_type": "code",
      "metadata": {
        "id": "kiIXABuePNkM"
      },
      "source": [
        "import random as rd"
      ],
      "execution_count": null,
      "outputs": []
    },
    {
      "cell_type": "code",
      "metadata": {
        "id": "RwgsSfl2PNkM",
        "outputId": "a94d8f9c-0db2-4b5f-9570-c520c027af71"
      },
      "source": [
        "L= [rd.randint(0, 10) for i in range(10)]; print(L)"
      ],
      "execution_count": null,
      "outputs": [
        {
          "name": "stdout",
          "output_type": "stream",
          "text": [
            "[5, 3, 5, 9, 6, 8, 7, 7, 5, 5]\n"
          ]
        }
      ]
    },
    {
      "cell_type": "code",
      "metadata": {
        "id": "VGCjxc7nPNkP",
        "outputId": "586c582e-6f09-4fb5-b767-1ffce1ed7dd5"
      },
      "source": [
        "id(L)"
      ],
      "execution_count": null,
      "outputs": [
        {
          "data": {
            "text/plain": [
              "139627651010880"
            ]
          },
          "execution_count": 6,
          "metadata": {},
          "output_type": "execute_result"
        }
      ]
    },
    {
      "cell_type": "code",
      "metadata": {
        "id": "Z9J-tgSTPNkP",
        "outputId": "3b1b16ff-d08d-45af-e7e8-d72fdcd89e4f"
      },
      "source": [
        "print(id(L[2:6]))"
      ],
      "execution_count": null,
      "outputs": [
        {
          "name": "stdout",
          "output_type": "stream",
          "text": [
            "139627651218240\n"
          ]
        }
      ]
    },
    {
      "cell_type": "code",
      "metadata": {
        "id": "ztHZI-q_PNkQ",
        "outputId": "a4d73e2d-4fd3-43c3-91cd-16194e2a8ca5"
      },
      "source": [
        "L1 = L[2:6]; print(L1, id(L1))"
      ],
      "execution_count": null,
      "outputs": [
        {
          "name": "stdout",
          "output_type": "stream",
          "text": [
            "[5, 9, 6, 8] 139627651423120\n"
          ]
        }
      ]
    },
    {
      "cell_type": "code",
      "metadata": {
        "id": "W44S-YApPNkR",
        "outputId": "cbf8355f-5378-43db-fceb-478403c82963"
      },
      "source": [
        "L1.sort(reverse = True); print(L1, id(L1.sort(reverse = True)))"
      ],
      "execution_count": null,
      "outputs": [
        {
          "name": "stdout",
          "output_type": "stream",
          "text": [
            "[9, 8, 6, 5] 94738098933616\n"
          ]
        }
      ]
    },
    {
      "cell_type": "code",
      "metadata": {
        "id": "5GdQBp0kPNkR",
        "outputId": "74df5e21-7d11-4c9f-c5de-076c1bb4abe7"
      },
      "source": [
        "print(L)"
      ],
      "execution_count": null,
      "outputs": [
        {
          "name": "stdout",
          "output_type": "stream",
          "text": [
            "[5, 3, 5, 9, 6, 8, 7, 7, 5, 5]\n"
          ]
        }
      ]
    },
    {
      "cell_type": "code",
      "metadata": {
        "id": "k0MTDkrpPNkS",
        "outputId": "cc600b8f-f7a3-4979-d7b2-0dfb9d2a6eb3"
      },
      "source": [
        "L[2:6] = L1; print(L)"
      ],
      "execution_count": null,
      "outputs": [
        {
          "name": "stdout",
          "output_type": "stream",
          "text": [
            "[5, 3, 9, 8, 6, 5, 7, 7, 5, 5]\n"
          ]
        }
      ]
    },
    {
      "cell_type": "code",
      "metadata": {
        "id": "Z8STQnZXPNkS",
        "outputId": "f19a0468-03ff-4f31-bb2e-87afa20bc3ee"
      },
      "source": [
        "print(id(L))"
      ],
      "execution_count": null,
      "outputs": [
        {
          "name": "stdout",
          "output_type": "stream",
          "text": [
            "139627651010880\n"
          ]
        }
      ]
    },
    {
      "cell_type": "code",
      "metadata": {
        "id": "x-I8QNmFPNkT",
        "outputId": "7245e3ab-3549-4e8e-8a8a-460c788b2bf7"
      },
      "source": [
        "# Q2/1.\n",
        "L[3] = L; print(L)"
      ],
      "execution_count": null,
      "outputs": [
        {
          "name": "stdout",
          "output_type": "stream",
          "text": [
            "[5, 3, 9, [...], 6, 5, 7, 7, 5, 5]\n"
          ]
        }
      ]
    },
    {
      "cell_type": "code",
      "metadata": {
        "id": "rvK0RXpdPNkU",
        "outputId": "f390b0d3-a556-493d-d3e4-3c2ed2ce4c8a"
      },
      "source": [
        "print(L[3])"
      ],
      "execution_count": null,
      "outputs": [
        {
          "name": "stdout",
          "output_type": "stream",
          "text": [
            "[5, 3, 9, [...], 6, 5, 7, 7, 5, 5]\n"
          ]
        }
      ]
    },
    {
      "cell_type": "code",
      "metadata": {
        "id": "sHSZN55HPNkW",
        "outputId": "fc089478-f27b-457e-ced0-a54217464869"
      },
      "source": [
        "# Q2/2.\n",
        "L.pop(3)"
      ],
      "execution_count": null,
      "outputs": [
        {
          "data": {
            "text/plain": [
              "[5, 3, 9, 6, 5, 7, 7, 5, 5]"
            ]
          },
          "execution_count": 15,
          "metadata": {},
          "output_type": "execute_result"
        }
      ]
    },
    {
      "cell_type": "code",
      "metadata": {
        "id": "Pr5bq0FXPNkY",
        "outputId": "4598671f-9723-4baf-f15a-b030044873e1"
      },
      "source": [
        "print(L)"
      ],
      "execution_count": null,
      "outputs": [
        {
          "name": "stdout",
          "output_type": "stream",
          "text": [
            "[5, 3, 9, 6, 5, 7, 7, 5, 5]\n"
          ]
        }
      ]
    },
    {
      "cell_type": "code",
      "metadata": {
        "id": "8qNX_7XnPNkZ",
        "outputId": "59d00a7b-febc-4e44-8e72-568a85b2359b"
      },
      "source": [
        "L[3] = L[:]; print(L)"
      ],
      "execution_count": null,
      "outputs": [
        {
          "name": "stdout",
          "output_type": "stream",
          "text": [
            "[5, 3, 9, [5, 3, 9, 6, 5, 7, 7, 5, 5], 5, 7, 7, 5, 5]\n"
          ]
        }
      ]
    },
    {
      "cell_type": "code",
      "metadata": {
        "id": "mpbopP9QPNka",
        "outputId": "642f911b-78b7-4fbf-a4ad-7e34809e660e"
      },
      "source": [
        "# Q3.\n",
        "L2 = [2, 1, 0, 9]; L3 = [4, 1, 2, 11]\n",
        "L3[len(L3)//2] = L2 ; print(L3)"
      ],
      "execution_count": null,
      "outputs": [
        {
          "name": "stdout",
          "output_type": "stream",
          "text": [
            "[4, 1, [2, 1, 0, 9], 11]\n"
          ]
        }
      ]
    },
    {
      "cell_type": "markdown",
      "metadata": {
        "id": "EZjjDE1zPNkb"
      },
      "source": [
        "# Exercice 3 : Mutabilité et copies"
      ]
    },
    {
      "cell_type": "code",
      "metadata": {
        "id": "1T_W2fV0PNkc",
        "outputId": "21f9e47b-ace8-4553-eb1a-efb308062720"
      },
      "source": [
        "# Q1.\n",
        "liste1 = [1, 4, 8, 9]; liste2 = liste1.copy() \n",
        "print(liste2, id(liste1)==id(liste2))"
      ],
      "execution_count": null,
      "outputs": [
        {
          "name": "stdout",
          "output_type": "stream",
          "text": [
            "[1, 4, 8, 9] False\n"
          ]
        }
      ]
    },
    {
      "cell_type": "code",
      "metadata": {
        "id": "b9xNMboHPNkc",
        "outputId": "af562a49-eacd-4e7c-afd0-d9af95804374"
      },
      "source": [
        "#Q2\n",
        "liste2.append(0); print(liste1, liste2, sep=\"\\n\")"
      ],
      "execution_count": null,
      "outputs": [
        {
          "name": "stdout",
          "output_type": "stream",
          "text": [
            "[1, 4, 8, 9]\n",
            "[1, 4, 8, 9, 0]\n"
          ]
        }
      ]
    },
    {
      "cell_type": "code",
      "metadata": {
        "id": "kvZmTecOPNke",
        "outputId": "83bf4cf2-a1b2-4bc4-885c-e4ce6a2e32d5"
      },
      "source": [
        "# Q3.\n",
        "liste3 = liste1[:]; print(liste3, id(liste1)==id(liste3))\n",
        "liste3.append(18); print(liste1, liste3, sep=\"\\n\")"
      ],
      "execution_count": null,
      "outputs": [
        {
          "name": "stdout",
          "output_type": "stream",
          "text": [
            "[1, 4, 8, 9] False\n",
            "[1, 4, 8, 9]\n",
            "[1, 4, 8, 9, 18]\n"
          ]
        }
      ]
    },
    {
      "cell_type": "code",
      "metadata": {
        "id": "7odf4MqiPNkf",
        "outputId": "22ee50b3-abeb-49db-f855-5749fb3662d0"
      },
      "source": [
        "# Q4.\n",
        "liste4 = [[1,2,3], 8, 7]; liste5 = liste4[:]\n",
        "liste5"
      ],
      "execution_count": null,
      "outputs": [
        {
          "data": {
            "text/plain": [
              "[[1, 2, 3], 8, 7]"
            ]
          },
          "execution_count": 22,
          "metadata": {},
          "output_type": "execute_result"
        }
      ]
    },
    {
      "cell_type": "code",
      "metadata": {
        "id": "YCUn6bxDPNkf",
        "outputId": "76d59873-d8c3-419e-cc3e-dd4a2f436678"
      },
      "source": [
        "# Q5.\n",
        "print(id(liste4) == id(liste5))\n",
        "print(id(liste4[0]) == id(liste5[0]))"
      ],
      "execution_count": null,
      "outputs": [
        {
          "name": "stdout",
          "output_type": "stream",
          "text": [
            "False\n",
            "True\n"
          ]
        }
      ]
    },
    {
      "cell_type": "code",
      "metadata": {
        "id": "Cxi0Dz8zPNkg",
        "outputId": "5f05034a-8577-499c-c7fe-c1394f968859"
      },
      "source": [
        "liste4[0].append(8)\n",
        "print(liste5)"
      ],
      "execution_count": null,
      "outputs": [
        {
          "name": "stdout",
          "output_type": "stream",
          "text": [
            "[[1, 2, 3, 8], 8, 7]\n"
          ]
        }
      ]
    },
    {
      "cell_type": "code",
      "metadata": {
        "id": "UjSMzfQ1PNkg",
        "outputId": "6705a435-b11c-47c0-8f10-2d8a99afc310"
      },
      "source": [
        "# Q6.\n",
        "couple=([1,2],3)\n",
        "id(couple)"
      ],
      "execution_count": null,
      "outputs": [
        {
          "data": {
            "text/plain": [
              "139627710637392"
            ]
          },
          "execution_count": 25,
          "metadata": {},
          "output_type": "execute_result"
        }
      ]
    },
    {
      "cell_type": "code",
      "metadata": {
        "id": "GuGU5nbEPNki",
        "outputId": "061cdaae-983e-4058-9803-3c549480571c"
      },
      "source": [
        "couple[1] = 5"
      ],
      "execution_count": null,
      "outputs": [
        {
          "ename": "TypeError",
          "evalue": "'tuple' object does not support item assignment",
          "output_type": "error",
          "traceback": [
            "\u001b[0;31m---------------------------------------------------------------------------\u001b[0m",
            "\u001b[0;31mTypeError\u001b[0m                                 Traceback (most recent call last)",
            "\u001b[0;32m<ipython-input-26-bf6a1c208f1a>\u001b[0m in \u001b[0;36m<module>\u001b[0;34m\u001b[0m\n\u001b[0;32m----> 1\u001b[0;31m \u001b[0mcouple\u001b[0m\u001b[0;34m[\u001b[0m\u001b[0;36m1\u001b[0m\u001b[0;34m]\u001b[0m \u001b[0;34m=\u001b[0m \u001b[0;36m5\u001b[0m\u001b[0;34m\u001b[0m\u001b[0;34m\u001b[0m\u001b[0m\n\u001b[0m",
            "\u001b[0;31mTypeError\u001b[0m: 'tuple' object does not support item assignment"
          ]
        }
      ]
    },
    {
      "cell_type": "code",
      "metadata": {
        "id": "rYK5RYKhPNki"
      },
      "source": [
        "couple[0][1]=8"
      ],
      "execution_count": null,
      "outputs": []
    },
    {
      "cell_type": "code",
      "metadata": {
        "id": "n6LEtOtLPNki",
        "outputId": "75c56554-040b-436d-a9c6-3480683655bf"
      },
      "source": [
        "print(couple)"
      ],
      "execution_count": null,
      "outputs": [
        {
          "name": "stdout",
          "output_type": "stream",
          "text": [
            "([1, 8], 3)\n"
          ]
        }
      ]
    },
    {
      "cell_type": "markdown",
      "metadata": {
        "id": "eLQTtnhdPNkj"
      },
      "source": [
        "# Exercice 4 : Manipulation de données avec gestion d’erreurs"
      ]
    },
    {
      "cell_type": "code",
      "metadata": {
        "id": "u5usfkb9PNkj",
        "outputId": "2d4b92f9-8b1f-4d2f-8c3f-69a391fa4051"
      },
      "source": [
        "# Nom du programme : saisieliste.py\n",
        "try:\n",
        "    n = int(input(\"Dannez la longueur de la liste : \"))\n",
        "    assert n>0\n",
        "    L = [2*x for x in range(1, n+1)] # ou list(range(2, 2*n+1, 2))\n",
        "    print(L)\n",
        "    for i in range(n//2):\n",
        "        elt = L[i]\n",
        "        L[i]=L[n-1-i]\n",
        "        L[n-1-i] = elt\n",
        "    print(L)\n",
        "    # ou bien L = L[::-1]\n",
        "    print(sum(L)/n)\n",
        "except AssertionError:\n",
        "    print(\"n doit être > 0\")\n"
      ],
      "execution_count": null,
      "outputs": [
        {
          "name": "stdout",
          "output_type": "stream",
          "text": [
            "Dannez la longueur de la liste : 10\n",
            "[2, 4, 6, 8, 10, 12, 14, 16, 18, 20]\n",
            "[20, 18, 16, 14, 12, 10, 8, 6, 4, 2]\n",
            "11.0\n"
          ]
        }
      ]
    },
    {
      "cell_type": "markdown",
      "metadata": {
        "id": "DSMCRtK6PNkk"
      },
      "source": [
        "# Exercice 5 : Commandes utiles"
      ]
    },
    {
      "cell_type": "code",
      "metadata": {
        "id": "z7bs07ztPNkk",
        "outputId": "5f6a302b-c53f-4443-a08f-028433b6f983"
      },
      "source": [
        "#1. Ajouter 2 à tous les éléments de la liste L=[44,55,66]\n",
        "L=[44,55,66]\n",
        "print(L)\n",
        "L1 = [el +2 for el in L] # ou  = list(map(lambda x:x+2, L))\n",
        "print(L1)"
      ],
      "execution_count": null,
      "outputs": [
        {
          "name": "stdout",
          "output_type": "stream",
          "text": [
            "[44, 55, 66]\n",
            "[46, 57, 68]\n"
          ]
        }
      ]
    },
    {
      "cell_type": "code",
      "metadata": {
        "id": "1ykzkU2cPNkm",
        "outputId": "3a78d783-f57b-4adf-8455-bd49c30dac6a"
      },
      "source": [
        "#2. Créer une liste A constituée de trois occurrences de la liste L\n",
        "A = [L for i in range(3)]\n",
        "print(A)"
      ],
      "execution_count": null,
      "outputs": [
        {
          "name": "stdout",
          "output_type": "stream",
          "text": [
            "[[44, 55, 66], [44, 55, 66], [44, 55, 66]]\n"
          ]
        }
      ]
    },
    {
      "cell_type": "code",
      "metadata": {
        "id": "jlZvouvyPNkm",
        "outputId": "f2b21cb6-8e4b-4210-d3f7-a782ec60934e"
      },
      "source": [
        "# 3. ajouter 3 aux sous éléments de A s’ils sont divisibles par 3\n",
        "print([[c+3 if c%3==0 else c for c in l] for l in A])"
      ],
      "execution_count": null,
      "outputs": [
        {
          "name": "stdout",
          "output_type": "stream",
          "text": [
            "[[44, 55, 69], [44, 55, 69], [44, 55, 69]]\n"
          ]
        }
      ]
    },
    {
      "cell_type": "code",
      "metadata": {
        "id": "OMMs07qPPNkn",
        "outputId": "e8fbabbf-267e-4f9e-81c0-3a3e9c7a79d2"
      },
      "source": [
        "L=[44,55,66]\n",
        "A = [[44, 55, 66], [44, 55, 66], [44, 55, 66]]\n",
        "for i in range(len(A)):\n",
        "    for j in range(len(L)):\n",
        "        if A[i][j]%3==0:\n",
        "            A[i][j] +=3\n",
        "print(A)"
      ],
      "execution_count": null,
      "outputs": [
        {
          "name": "stdout",
          "output_type": "stream",
          "text": [
            "[[44, 55, 69], [44, 55, 69], [44, 55, 69]]\n"
          ]
        }
      ]
    },
    {
      "cell_type": "markdown",
      "metadata": {
        "id": "D3LDFr2lPNkp"
      },
      "source": [
        "# Exercice 6 : Listes équivalentes"
      ]
    },
    {
      "cell_type": "code",
      "metadata": {
        "id": "ZeAkvNRFPNkq",
        "outputId": "ba811b62-6694-4d9f-c091-e76171577861"
      },
      "source": [
        "# Nomdu programme : equiv.py\n",
        "#Q1.\n",
        "def saisit(n1,n2):\n",
        "    import random as rd\n",
        "    L1 = [rd.randint(1, 4) for _ in range(n1)]\n",
        "    L2 = [rd.randint(1, 4) for _ in range(n2)]\n",
        "    return L1, L2\n",
        "\n",
        "# Q2. \n",
        "def isEquivlent(L1, L2):\n",
        "    s1, s2 = set(L1), set(L2) # ensembles des valeurs dans L1 et L2\n",
        "    if s1 == s2: # les deux listes sont équivalentes\n",
        "        return True\n",
        "    else : # les deux listes ne sont pas équivalentes\n",
        "        return False\n",
        "\n",
        "L1, L2 = saisit(8,10) \n",
        "print(L1, L2) # afficher les deux listes\n",
        "isEquivlent(L1, L2)"
      ],
      "execution_count": null,
      "outputs": [
        {
          "name": "stdout",
          "output_type": "stream",
          "text": [
            "[1, 3, 1, 3, 4, 3, 4, 2] [4, 3, 3, 1, 3, 3, 3, 4, 4, 2]\n"
          ]
        },
        {
          "data": {
            "text/plain": [
              "True"
            ]
          },
          "execution_count": 35,
          "metadata": {},
          "output_type": "execute_result"
        }
      ]
    },
    {
      "cell_type": "markdown",
      "metadata": {
        "id": "GncraGTYPNkr"
      },
      "source": [
        "# Exercice 7 : Précipitations"
      ]
    },
    {
      "cell_type": "code",
      "metadata": {
        "id": "sfDxp2n8PNkr",
        "outputId": "cb1c120a-f477-42c2-d551-e6c7f9da5275"
      },
      "source": [
        "def precipitations():\n",
        "    dictio = {}\n",
        "    print(\"Appuyez sur <Entrer> pour terminer la saisie.\")\n",
        "    while True:\n",
        "        nom_ville = input(\"Saisir le nom de la vile: \")\n",
        "        if nom_ville:\n",
        "            nom_ville = nom_ville.title()\n",
        "            try:\n",
        "                pluie_mm = int(input(\"Entrer la quantité de pluie en mm : \"))\n",
        "                dictio[nom_ville] = pluie_mm\n",
        "            except:\n",
        "                print(\"veuillez entrer un nombre entier!\")\n",
        "        else:\n",
        "            break\n",
        "    return dictio\n",
        "dictio = precipitations()\n",
        "f = open(\"precip.txt\", \"w\") # ouvrir un fichier en mode écriture\n",
        "for ville, pluie in dictio.items():\n",
        "    print(\"{} : {} mm\".format(ville, pluie))\n",
        "    f.write(\"{} : {} mm\".format(ville, pluie)+\"\\n\") #écrire dans le fichier\n",
        "f.close() # fermer le fichier"
      ],
      "execution_count": null,
      "outputs": [
        {
          "name": "stdout",
          "output_type": "stream",
          "text": [
            "Appuyez sur <Entrer> pour terminer la saisie.\n",
            "Saisir le nom de la vile: tunis\n",
            "Entrer la quantité de pluie en mm : 33\n",
            "Saisir le nom de la vile: sousse\n",
            "Entrer la quantité de pluie en mm : 20\n",
            "Saisir le nom de la vile: sfax\n",
            "Entrer la quantité de pluie en mm : 25\n",
            "Saisir le nom de la vile: nabeul\n",
            "Entrer la quantité de pluie en mm : 22\n",
            "Saisir le nom de la vile: gabes\n",
            "Entrer la quantité de pluie en mm : \n",
            "veuillez entrer un nombre entier!\n",
            "Saisir le nom de la vile: gabes\n",
            "Entrer la quantité de pluie en mm : 15\n",
            "Saisir le nom de la vile: \n",
            "Tunis : 33 mm\n",
            "Sousse : 20 mm\n",
            "Sfax : 25 mm\n",
            "Nabeul : 22 mm\n",
            "Gabes : 15 mm\n"
          ]
        }
      ]
    },
    {
      "cell_type": "markdown",
      "metadata": {
        "id": "G0ck9X0oPNks"
      },
      "source": [
        "# Exercice 8 : Algorithme du plus grand diviseur commun (pgcd)"
      ]
    },
    {
      "cell_type": "code",
      "metadata": {
        "id": "XcVqXlmzPNkt",
        "outputId": "d36642c7-1a25-4987-b356-c4fca5d3a875"
      },
      "source": [
        "def Diviseurs(n):\n",
        "    return [i for i in range(1, n+1) if n%i==0]\n",
        "Diviseurs(6)"
      ],
      "execution_count": null,
      "outputs": [
        {
          "data": {
            "text/plain": [
              "[1, 2, 3, 6]"
            ]
          },
          "execution_count": 37,
          "metadata": {},
          "output_type": "execute_result"
        }
      ]
    },
    {
      "cell_type": "code",
      "metadata": {
        "id": "98OACdV7PNkv"
      },
      "source": [
        "def Existe(T,x):\n",
        "    return x in T"
      ],
      "execution_count": null,
      "outputs": []
    },
    {
      "cell_type": "code",
      "metadata": {
        "id": "-aqeoCDePNkv"
      },
      "source": [
        "def EltCom(T1,T2):\n",
        "    s1 = set(T1)\n",
        "    s2 = set(T2)\n",
        "    T = []\n",
        "    for x in s1:\n",
        "        if Existe(s2,x):\n",
        "            T.append(x)\n",
        "    return  T\n"
      ],
      "execution_count": null,
      "outputs": []
    },
    {
      "cell_type": "code",
      "metadata": {
        "id": "2zXSU1QUPNkv",
        "outputId": "2d2cd2c9-27f4-47be-91b6-e0a4b10bd4c4"
      },
      "source": [
        "T1=[1,2,3,6]\n",
        "T2=[1,3,3,6]\n",
        "EltCom(T1,T2)"
      ],
      "execution_count": null,
      "outputs": [
        {
          "data": {
            "text/plain": [
              "[1, 3, 6]"
            ]
          },
          "execution_count": 40,
          "metadata": {},
          "output_type": "execute_result"
        }
      ]
    },
    {
      "cell_type": "code",
      "metadata": {
        "id": "NrO5cLbKPNkw"
      },
      "source": [
        "def maxTab(T):\n",
        "    Max = T[0]\n",
        "    for x in T:\n",
        "        if x > Max:\n",
        "            Max = x\n",
        "    return Max  "
      ],
      "execution_count": null,
      "outputs": []
    },
    {
      "cell_type": "code",
      "metadata": {
        "id": "3u1wTIX4PNkw",
        "outputId": "ef3cbd80-13da-48e5-ef62-87dea34301da"
      },
      "source": [
        "T=[1,3,10,15,12,0]\n",
        "maxTab(T)"
      ],
      "execution_count": null,
      "outputs": [
        {
          "data": {
            "text/plain": [
              "15"
            ]
          },
          "execution_count": 42,
          "metadata": {},
          "output_type": "execute_result"
        }
      ]
    },
    {
      "cell_type": "code",
      "metadata": {
        "id": "Rup0hn8APNkx"
      },
      "source": [
        "def pgcd(a,b):\n",
        "    if b == 0:\n",
        "        return a\n",
        "    else:\n",
        "        T1 = Diviseurs(a)\n",
        "        T2 = Diviseurs(b)\n",
        "        T3 = EltCom(T1,T2)\n",
        "        return maxTab(T3)"
      ],
      "execution_count": null,
      "outputs": []
    },
    {
      "cell_type": "code",
      "metadata": {
        "id": "TOtJl5rrPNkx",
        "outputId": "ceb47190-cc32-48b5-fe1f-a32f52b00ba9"
      },
      "source": [
        "pgcd(220, 222)"
      ],
      "execution_count": null,
      "outputs": [
        {
          "data": {
            "text/plain": [
              "2"
            ]
          },
          "execution_count": 44,
          "metadata": {},
          "output_type": "execute_result"
        }
      ]
    },
    {
      "cell_type": "markdown",
      "metadata": {
        "id": "0onGkbM5PNky"
      },
      "source": [
        "Notez qu'il existe une fonction `gcd(a, b)` du module math qui calcule le pgd de deux nombres a et b."
      ]
    },
    {
      "cell_type": "code",
      "metadata": {
        "id": "dAVkd7tZPNky",
        "outputId": "ab0eeaa0-9837-4ce8-cf2e-b6c67d965a8c"
      },
      "source": [
        "import math as m\n",
        "m.gcd(220, 222)"
      ],
      "execution_count": null,
      "outputs": [
        {
          "data": {
            "text/plain": [
              "2"
            ]
          },
          "execution_count": 45,
          "metadata": {},
          "output_type": "execute_result"
        }
      ]
    }
  ]
}