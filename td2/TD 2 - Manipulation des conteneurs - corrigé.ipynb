{
 "cells": [
  {
   "cell_type": "markdown",
   "metadata": {},
   "source": [
    "# Exercice 1 : Manipulations élémentaires de listes"
   ]
  },
  {
   "cell_type": "code",
   "execution_count": null,
   "metadata": {},
   "outputs": [],
   "source": [
    "# Q1\n",
    "L=[1,2,3,4,5]"
   ]
  },
  {
   "cell_type": "code",
   "execution_count": null,
   "metadata": {},
   "outputs": [],
   "source": [
    "L[4] # le 5ème élément --> indiçage à partir de 0"
   ]
  },
  {
   "cell_type": "code",
   "execution_count": null,
   "metadata": {},
   "outputs": [],
   "source": [
    "#Q2. \n",
    "L[4] = L[3] + L[2]; print(L)"
   ]
  },
  {
   "cell_type": "code",
   "execution_count": null,
   "metadata": {},
   "outputs": [],
   "source": [
    "# Ou bien\n",
    "L.pop(4); L.append(L[3]+L[2])\n",
    "print(L)"
   ]
  },
  {
   "cell_type": "code",
   "execution_count": null,
   "metadata": {},
   "outputs": [],
   "source": [
    "# Q3.\n",
    "L1 = [1, 0, 3]; L2 = [5, 8, 9]"
   ]
  },
  {
   "cell_type": "code",
   "execution_count": null,
   "metadata": {},
   "outputs": [],
   "source": [
    "L1 + L2 # addition deux listes"
   ]
  },
  {
   "cell_type": "code",
   "execution_count": null,
   "metadata": {},
   "outputs": [],
   "source": [
    "L1 * L2 # multiplication deux listes"
   ]
  },
  {
   "cell_type": "code",
   "execution_count": null,
   "metadata": {},
   "outputs": [],
   "source": [
    "L1 * 3 # multiplication par un nombre"
   ]
  },
  {
   "cell_type": "code",
   "execution_count": null,
   "metadata": {},
   "outputs": [],
   "source": [
    "L2 + 20 # ajout d'un nombre"
   ]
  },
  {
   "cell_type": "code",
   "execution_count": null,
   "metadata": {},
   "outputs": [],
   "source": [
    "# Q4.\n",
    "L = [1, 2, 3, 4, 7]"
   ]
  },
  {
   "cell_type": "code",
   "execution_count": null,
   "metadata": {},
   "outputs": [],
   "source": [
    "id(L)"
   ]
  },
  {
   "cell_type": "code",
   "execution_count": null,
   "metadata": {},
   "outputs": [],
   "source": [
    "L = L+[1]; print(L)"
   ]
  },
  {
   "cell_type": "code",
   "execution_count": null,
   "metadata": {},
   "outputs": [],
   "source": [
    "id(L)"
   ]
  },
  {
   "cell_type": "code",
   "execution_count": null,
   "metadata": {},
   "outputs": [],
   "source": [
    "L +=[1]; print(L)"
   ]
  },
  {
   "cell_type": "code",
   "execution_count": null,
   "metadata": {},
   "outputs": [],
   "source": [
    "id(L)"
   ]
  },
  {
   "cell_type": "code",
   "execution_count": null,
   "metadata": {},
   "outputs": [],
   "source": [
    "L.append(1); print(L)"
   ]
  },
  {
   "cell_type": "code",
   "execution_count": null,
   "metadata": {},
   "outputs": [],
   "source": [
    "id(L)"
   ]
  },
  {
   "cell_type": "code",
   "execution_count": null,
   "metadata": {},
   "outputs": [],
   "source": [
    "import random as rd\n",
    "Lr = rd.sample(range(1, 10000), rd.randint(10, 10000)); print(Lr)"
   ]
  },
  {
   "cell_type": "code",
   "execution_count": null,
   "metadata": {},
   "outputs": [],
   "source": [
    "# Q6\n",
    "print(Lr[-1])"
   ]
  },
  {
   "cell_type": "code",
   "execution_count": null,
   "metadata": {},
   "outputs": [],
   "source": [
    "help(Lr)"
   ]
  },
  {
   "cell_type": "code",
   "execution_count": null,
   "metadata": {},
   "outputs": [],
   "source": [
    "len(Lr)"
   ]
  },
  {
   "cell_type": "code",
   "execution_count": null,
   "metadata": {},
   "outputs": [],
   "source": [
    "Lr.count(1)"
   ]
  },
  {
   "cell_type": "code",
   "execution_count": null,
   "metadata": {},
   "outputs": [],
   "source": [
    "Lr.append(1)"
   ]
  },
  {
   "cell_type": "code",
   "execution_count": null,
   "metadata": {},
   "outputs": [],
   "source": [
    "Lr.index(1)"
   ]
  },
  {
   "cell_type": "code",
   "execution_count": null,
   "metadata": {},
   "outputs": [],
   "source": [
    "Lr.insert(0, 1)"
   ]
  },
  {
   "cell_type": "code",
   "execution_count": null,
   "metadata": {},
   "outputs": [],
   "source": [
    "Lr.count(1)"
   ]
  },
  {
   "cell_type": "code",
   "execution_count": null,
   "metadata": {},
   "outputs": [],
   "source": [
    "Lr.pop()"
   ]
  },
  {
   "cell_type": "code",
   "execution_count": null,
   "metadata": {},
   "outputs": [],
   "source": [
    "Lr.count(1)"
   ]
  },
  {
   "cell_type": "code",
   "execution_count": null,
   "metadata": {},
   "outputs": [],
   "source": [
    "len(Lr)"
   ]
  },
  {
   "cell_type": "code",
   "execution_count": null,
   "metadata": {},
   "outputs": [],
   "source": [
    "# Q9\n",
    "x = Lr.pop(5); print(x)"
   ]
  },
  {
   "cell_type": "code",
   "execution_count": null,
   "metadata": {},
   "outputs": [],
   "source": [
    "Lr.sort(); print(Lr)"
   ]
  },
  {
   "cell_type": "code",
   "execution_count": null,
   "metadata": {},
   "outputs": [],
   "source": [
    "Lr.sort(reverse = True); print(Lr)"
   ]
  },
  {
   "cell_type": "code",
   "execution_count": null,
   "metadata": {},
   "outputs": [],
   "source": [
    "import math as m\n",
    "Lr.sort(key = lambda x : m.sin(x), reverse = False)\n",
    "print(Lr)"
   ]
  },
  {
   "cell_type": "code",
   "execution_count": null,
   "metadata": {},
   "outputs": [],
   "source": [
    "Lr.sort(key = lambda x : x**2 - x, reverse = True)\n",
    "print(Lr)"
   ]
  },
  {
   "cell_type": "code",
   "execution_count": null,
   "metadata": {},
   "outputs": [],
   "source": [
    "sum(Lr)"
   ]
  },
  {
   "cell_type": "code",
   "execution_count": null,
   "metadata": {},
   "outputs": [],
   "source": [
    "sum([x**2 for x in Lr])"
   ]
  },
  {
   "cell_type": "markdown",
   "metadata": {},
   "source": [
    "# Exercice 2 : Exercice 2 : Techniques de saucissonnage sur les listes"
   ]
  },
  {
   "cell_type": "code",
   "execution_count": 4,
   "metadata": {},
   "outputs": [],
   "source": [
    "import random as rd"
   ]
  },
  {
   "cell_type": "code",
   "execution_count": 5,
   "metadata": {},
   "outputs": [
    {
     "name": "stdout",
     "output_type": "stream",
     "text": [
      "[5, 3, 5, 9, 6, 8, 7, 7, 5, 5]\n"
     ]
    }
   ],
   "source": [
    "L= [rd.randint(0, 10) for i in range(10)]; print(L)"
   ]
  },
  {
   "cell_type": "code",
   "execution_count": 6,
   "metadata": {},
   "outputs": [
    {
     "data": {
      "text/plain": [
       "139627651010880"
      ]
     },
     "execution_count": 6,
     "metadata": {},
     "output_type": "execute_result"
    }
   ],
   "source": [
    "id(L)"
   ]
  },
  {
   "cell_type": "code",
   "execution_count": 7,
   "metadata": {},
   "outputs": [
    {
     "name": "stdout",
     "output_type": "stream",
     "text": [
      "139627651218240\n"
     ]
    }
   ],
   "source": [
    "print(id(L[2:6]))"
   ]
  },
  {
   "cell_type": "code",
   "execution_count": 8,
   "metadata": {},
   "outputs": [
    {
     "name": "stdout",
     "output_type": "stream",
     "text": [
      "[5, 9, 6, 8] 139627651423120\n"
     ]
    }
   ],
   "source": [
    "L1 = L[2:6]; print(L1, id(L1))"
   ]
  },
  {
   "cell_type": "code",
   "execution_count": 9,
   "metadata": {},
   "outputs": [
    {
     "name": "stdout",
     "output_type": "stream",
     "text": [
      "[9, 8, 6, 5] 94738098933616\n"
     ]
    }
   ],
   "source": [
    "L1.sort(reverse = True); print(L1, id(L1.sort(reverse = True)))"
   ]
  },
  {
   "cell_type": "code",
   "execution_count": 10,
   "metadata": {},
   "outputs": [
    {
     "name": "stdout",
     "output_type": "stream",
     "text": [
      "[5, 3, 5, 9, 6, 8, 7, 7, 5, 5]\n"
     ]
    }
   ],
   "source": [
    "print(L)"
   ]
  },
  {
   "cell_type": "code",
   "execution_count": 11,
   "metadata": {},
   "outputs": [
    {
     "name": "stdout",
     "output_type": "stream",
     "text": [
      "[5, 3, 9, 8, 6, 5, 7, 7, 5, 5]\n"
     ]
    }
   ],
   "source": [
    "L[2:6] = L1; print(L)"
   ]
  },
  {
   "cell_type": "code",
   "execution_count": 12,
   "metadata": {},
   "outputs": [
    {
     "name": "stdout",
     "output_type": "stream",
     "text": [
      "139627651010880\n"
     ]
    }
   ],
   "source": [
    "print(id(L))"
   ]
  },
  {
   "cell_type": "code",
   "execution_count": 13,
   "metadata": {},
   "outputs": [
    {
     "name": "stdout",
     "output_type": "stream",
     "text": [
      "[5, 3, 9, [...], 6, 5, 7, 7, 5, 5]\n"
     ]
    }
   ],
   "source": [
    "# Q2/1.\n",
    "L[3] = L; print(L)"
   ]
  },
  {
   "cell_type": "code",
   "execution_count": 14,
   "metadata": {},
   "outputs": [
    {
     "name": "stdout",
     "output_type": "stream",
     "text": [
      "[5, 3, 9, [...], 6, 5, 7, 7, 5, 5]\n"
     ]
    }
   ],
   "source": [
    "print(L[3])"
   ]
  },
  {
   "cell_type": "code",
   "execution_count": 15,
   "metadata": {},
   "outputs": [
    {
     "data": {
      "text/plain": [
       "[5, 3, 9, 6, 5, 7, 7, 5, 5]"
      ]
     },
     "execution_count": 15,
     "metadata": {},
     "output_type": "execute_result"
    }
   ],
   "source": [
    "# Q2/2.\n",
    "L.pop(3)"
   ]
  },
  {
   "cell_type": "code",
   "execution_count": 16,
   "metadata": {},
   "outputs": [
    {
     "name": "stdout",
     "output_type": "stream",
     "text": [
      "[5, 3, 9, 6, 5, 7, 7, 5, 5]\n"
     ]
    }
   ],
   "source": [
    "print(L)"
   ]
  },
  {
   "cell_type": "code",
   "execution_count": 17,
   "metadata": {},
   "outputs": [
    {
     "name": "stdout",
     "output_type": "stream",
     "text": [
      "[5, 3, 9, [5, 3, 9, 6, 5, 7, 7, 5, 5], 5, 7, 7, 5, 5]\n"
     ]
    }
   ],
   "source": [
    "L[3] = L[:]; print(L)"
   ]
  },
  {
   "cell_type": "code",
   "execution_count": 18,
   "metadata": {},
   "outputs": [
    {
     "name": "stdout",
     "output_type": "stream",
     "text": [
      "[4, 1, [2, 1, 0, 9], 11]\n"
     ]
    }
   ],
   "source": [
    "# Q3.\n",
    "L2 = [2, 1, 0, 9]; L3 = [4, 1, 2, 11]\n",
    "L3[len(L3)//2] = L2 ; print(L3)"
   ]
  },
  {
   "cell_type": "markdown",
   "metadata": {},
   "source": [
    "# Exercice 3 : Mutabilité et copies"
   ]
  },
  {
   "cell_type": "code",
   "execution_count": 19,
   "metadata": {},
   "outputs": [
    {
     "name": "stdout",
     "output_type": "stream",
     "text": [
      "[1, 4, 8, 9] False\n"
     ]
    }
   ],
   "source": [
    "# Q1.\n",
    "liste1 = [1, 4, 8, 9]; liste2 = liste1.copy() \n",
    "print(liste2, id(liste1)==id(liste2))"
   ]
  },
  {
   "cell_type": "code",
   "execution_count": 20,
   "metadata": {},
   "outputs": [
    {
     "name": "stdout",
     "output_type": "stream",
     "text": [
      "[1, 4, 8, 9]\n",
      "[1, 4, 8, 9, 0]\n"
     ]
    }
   ],
   "source": [
    "#Q2\n",
    "liste2.append(0); print(liste1, liste2, sep=\"\\n\")"
   ]
  },
  {
   "cell_type": "code",
   "execution_count": 21,
   "metadata": {},
   "outputs": [
    {
     "name": "stdout",
     "output_type": "stream",
     "text": [
      "[1, 4, 8, 9] False\n",
      "[1, 4, 8, 9]\n",
      "[1, 4, 8, 9, 18]\n"
     ]
    }
   ],
   "source": [
    "# Q3.\n",
    "liste3 = liste1[:]; print(liste3, id(liste1)==id(liste3))\n",
    "liste3.append(18); print(liste1, liste3, sep=\"\\n\")"
   ]
  },
  {
   "cell_type": "code",
   "execution_count": 22,
   "metadata": {},
   "outputs": [
    {
     "data": {
      "text/plain": [
       "[[1, 2, 3], 8, 7]"
      ]
     },
     "execution_count": 22,
     "metadata": {},
     "output_type": "execute_result"
    }
   ],
   "source": [
    "# Q4.\n",
    "liste4 = [[1,2,3], 8, 7]; liste5 = liste4[:]\n",
    "liste5"
   ]
  },
  {
   "cell_type": "code",
   "execution_count": 23,
   "metadata": {},
   "outputs": [
    {
     "name": "stdout",
     "output_type": "stream",
     "text": [
      "False\n",
      "True\n"
     ]
    }
   ],
   "source": [
    "# Q5.\n",
    "print(id(liste4) == id(liste5))\n",
    "print(id(liste4[0]) == id(liste5[0]))"
   ]
  },
  {
   "cell_type": "code",
   "execution_count": 24,
   "metadata": {},
   "outputs": [
    {
     "name": "stdout",
     "output_type": "stream",
     "text": [
      "[[1, 2, 3, 8], 8, 7]\n"
     ]
    }
   ],
   "source": [
    "liste4[0].append(8)\n",
    "print(liste5)"
   ]
  },
  {
   "cell_type": "code",
   "execution_count": 25,
   "metadata": {},
   "outputs": [
    {
     "data": {
      "text/plain": [
       "139627710637392"
      ]
     },
     "execution_count": 25,
     "metadata": {},
     "output_type": "execute_result"
    }
   ],
   "source": [
    "# Q6.\n",
    "couple=([1,2],3)\n",
    "id(couple)"
   ]
  },
  {
   "cell_type": "code",
   "execution_count": 26,
   "metadata": {},
   "outputs": [
    {
     "ename": "TypeError",
     "evalue": "'tuple' object does not support item assignment",
     "output_type": "error",
     "traceback": [
      "\u001b[0;31m---------------------------------------------------------------------------\u001b[0m",
      "\u001b[0;31mTypeError\u001b[0m                                 Traceback (most recent call last)",
      "\u001b[0;32m<ipython-input-26-bf6a1c208f1a>\u001b[0m in \u001b[0;36m<module>\u001b[0;34m\u001b[0m\n\u001b[0;32m----> 1\u001b[0;31m \u001b[0mcouple\u001b[0m\u001b[0;34m[\u001b[0m\u001b[0;36m1\u001b[0m\u001b[0;34m]\u001b[0m \u001b[0;34m=\u001b[0m \u001b[0;36m5\u001b[0m\u001b[0;34m\u001b[0m\u001b[0;34m\u001b[0m\u001b[0m\n\u001b[0m",
      "\u001b[0;31mTypeError\u001b[0m: 'tuple' object does not support item assignment"
     ]
    }
   ],
   "source": [
    "couple[1] = 5"
   ]
  },
  {
   "cell_type": "code",
   "execution_count": 27,
   "metadata": {},
   "outputs": [],
   "source": [
    "couple[0][1]=8"
   ]
  },
  {
   "cell_type": "code",
   "execution_count": 28,
   "metadata": {},
   "outputs": [
    {
     "name": "stdout",
     "output_type": "stream",
     "text": [
      "([1, 8], 3)\n"
     ]
    }
   ],
   "source": [
    "print(couple)"
   ]
  },
  {
   "cell_type": "markdown",
   "metadata": {},
   "source": [
    "# Exercice 4 : Manipulation de données avec gestion d’erreurs"
   ]
  },
  {
   "cell_type": "code",
   "execution_count": 29,
   "metadata": {},
   "outputs": [
    {
     "name": "stdout",
     "output_type": "stream",
     "text": [
      "Dannez la longueur de la liste : 10\n",
      "[2, 4, 6, 8, 10, 12, 14, 16, 18, 20]\n",
      "[20, 18, 16, 14, 12, 10, 8, 6, 4, 2]\n",
      "11.0\n"
     ]
    }
   ],
   "source": [
    "# Nom du programme : saisieliste.py\n",
    "try:\n",
    "    n = int(input(\"Dannez la longueur de la liste : \"))\n",
    "    assert n>0\n",
    "    L = [2*x for x in range(1, n+1)] # ou list(range(2, 2*n+1, 2))\n",
    "    print(L)\n",
    "    for i in range(n//2):\n",
    "        elt = L[i]\n",
    "        L[i]=L[n-1-i]\n",
    "        L[n-1-i] = elt\n",
    "    print(L)\n",
    "    # ou bien L = L[::-1]\n",
    "    print(sum(L)/n)\n",
    "except AssertionError:\n",
    "    print(\"n doit être > 0\")\n"
   ]
  },
  {
   "cell_type": "markdown",
   "metadata": {},
   "source": [
    "# Exercice 5 : Commandes utiles"
   ]
  },
  {
   "cell_type": "code",
   "execution_count": 30,
   "metadata": {},
   "outputs": [
    {
     "name": "stdout",
     "output_type": "stream",
     "text": [
      "[44, 55, 66]\n",
      "[46, 57, 68]\n"
     ]
    }
   ],
   "source": [
    "#1. Ajouter 2 à tous les éléments de la liste L=[44,55,66]\n",
    "L=[44,55,66]\n",
    "print(L)\n",
    "L1 = [el +2 for el in L] # ou  = list(map(lambda x:x+2, L))\n",
    "print(L1)"
   ]
  },
  {
   "cell_type": "code",
   "execution_count": 31,
   "metadata": {},
   "outputs": [
    {
     "name": "stdout",
     "output_type": "stream",
     "text": [
      "[[44, 55, 66], [44, 55, 66], [44, 55, 66]]\n"
     ]
    }
   ],
   "source": [
    "#2. Créer une liste A constituée de trois occurrences de la liste L\n",
    "A = [L for i in range(3)]\n",
    "print(A)"
   ]
  },
  {
   "cell_type": "code",
   "execution_count": 32,
   "metadata": {},
   "outputs": [
    {
     "name": "stdout",
     "output_type": "stream",
     "text": [
      "[[44, 55, 69], [44, 55, 69], [44, 55, 69]]\n"
     ]
    }
   ],
   "source": [
    "# 3. ajouter 3 aux sous éléments de A s’ils sont divisibles par 3\n",
    "print([[c+3 if c%3==0 else c for c in l] for l in A])"
   ]
  },
  {
   "cell_type": "code",
   "execution_count": 33,
   "metadata": {},
   "outputs": [
    {
     "name": "stdout",
     "output_type": "stream",
     "text": [
      "[[44, 55, 69], [44, 55, 69], [44, 55, 69]]\n"
     ]
    }
   ],
   "source": [
    "L=[44,55,66]\n",
    "A = [[44, 55, 66], [44, 55, 66], [44, 55, 66]]\n",
    "for i in range(len(A)):\n",
    "    for j in range(len(L)):\n",
    "        if A[i][j]%3==0:\n",
    "            A[i][j] +=3\n",
    "print(A)"
   ]
  },
  {
   "cell_type": "markdown",
   "metadata": {},
   "source": [
    "# Exercice 6 : Listes équivalentes"
   ]
  },
  {
   "cell_type": "code",
   "execution_count": 35,
   "metadata": {},
   "outputs": [
    {
     "name": "stdout",
     "output_type": "stream",
     "text": [
      "[1, 3, 1, 3, 4, 3, 4, 2] [4, 3, 3, 1, 3, 3, 3, 4, 4, 2]\n"
     ]
    },
    {
     "data": {
      "text/plain": [
       "True"
      ]
     },
     "execution_count": 35,
     "metadata": {},
     "output_type": "execute_result"
    }
   ],
   "source": [
    "# Nomdu programme : equiv.py\n",
    "#Q1.\n",
    "def saisit(n1,n2):\n",
    "    import random as rd\n",
    "    L1 = [rd.randint(1, 4) for _ in range(n1)]\n",
    "    L2 = [rd.randint(1, 4) for _ in range(n2)]\n",
    "    return L1, L2\n",
    "\n",
    "# Q2. \n",
    "def isEquivlent(L1, L2):\n",
    "    s1, s2 = set(L1), set(L2) # ensembles des valeurs dans L1 et L2\n",
    "    if s1 == s2: # les deux listes sont équivalentes\n",
    "        return True\n",
    "    else : # les deux listes ne sont pas équivalentes\n",
    "        return False\n",
    "\n",
    "L1, L2 = saisit(8,10) \n",
    "print(L1, L2) # afficher les deux listes\n",
    "isEquivlent(L1, L2)"
   ]
  },
  {
   "cell_type": "markdown",
   "metadata": {},
   "source": [
    "# Exercice 7 : Précipitations"
   ]
  },
  {
   "cell_type": "code",
   "execution_count": 36,
   "metadata": {},
   "outputs": [
    {
     "name": "stdout",
     "output_type": "stream",
     "text": [
      "Appuyez sur <Entrer> pour terminer la saisie.\n",
      "Saisir le nom de la vile: tunis\n",
      "Entrer la quantité de pluie en mm : 33\n",
      "Saisir le nom de la vile: sousse\n",
      "Entrer la quantité de pluie en mm : 20\n",
      "Saisir le nom de la vile: sfax\n",
      "Entrer la quantité de pluie en mm : 25\n",
      "Saisir le nom de la vile: nabeul\n",
      "Entrer la quantité de pluie en mm : 22\n",
      "Saisir le nom de la vile: gabes\n",
      "Entrer la quantité de pluie en mm : \n",
      "veuillez entrer un nombre entier!\n",
      "Saisir le nom de la vile: gabes\n",
      "Entrer la quantité de pluie en mm : 15\n",
      "Saisir le nom de la vile: \n",
      "Tunis : 33 mm\n",
      "Sousse : 20 mm\n",
      "Sfax : 25 mm\n",
      "Nabeul : 22 mm\n",
      "Gabes : 15 mm\n"
     ]
    }
   ],
   "source": [
    "def precipitations():\n",
    "    dictio = {}\n",
    "    print(\"Appuyez sur <Entrer> pour terminer la saisie.\")\n",
    "    while True:\n",
    "        nom_ville = input(\"Saisir le nom de la vile: \")\n",
    "        if nom_ville:\n",
    "            nom_ville = nom_ville.title()\n",
    "            try:\n",
    "                pluie_mm = int(input(\"Entrer la quantité de pluie en mm : \"))\n",
    "                dictio[nom_ville] = pluie_mm\n",
    "            except:\n",
    "                print(\"veuillez entrer un nombre entier!\")\n",
    "        else:\n",
    "            break\n",
    "    return dictio\n",
    "dictio = precipitations()\n",
    "f = open(\"precip.txt\", \"w\") # ouvrir un fichier en mode écriture\n",
    "for ville, pluie in dictio.items():\n",
    "    print(\"{} : {} mm\".format(ville, pluie))\n",
    "    f.write(\"{} : {} mm\".format(ville, pluie)+\"\\n\") #écrire dans le fichier\n",
    "f.close() # fermer le fichier"
   ]
  },
  {
   "cell_type": "markdown",
   "metadata": {},
   "source": [
    "# Exercice 8 : Algorithme du plus grand diviseur commun (pgcd)"
   ]
  },
  {
   "cell_type": "code",
   "execution_count": 37,
   "metadata": {},
   "outputs": [
    {
     "data": {
      "text/plain": [
       "[1, 2, 3, 6]"
      ]
     },
     "execution_count": 37,
     "metadata": {},
     "output_type": "execute_result"
    }
   ],
   "source": [
    "def Diviseurs(n):\n",
    "    return [i for i in range(1, n+1) if n%i==0]\n",
    "Diviseurs(6)"
   ]
  },
  {
   "cell_type": "code",
   "execution_count": 38,
   "metadata": {},
   "outputs": [],
   "source": [
    "def Existe(T,x):\n",
    "    return x in T"
   ]
  },
  {
   "cell_type": "code",
   "execution_count": 39,
   "metadata": {},
   "outputs": [],
   "source": [
    "def EltCom(T1,T2):\n",
    "    s1 = set(T1)\n",
    "    s2 = set(T2)\n",
    "    T = []\n",
    "    for x in s1:\n",
    "        if Existe(s2,x):\n",
    "            T.append(x)\n",
    "    return  T\n"
   ]
  },
  {
   "cell_type": "code",
   "execution_count": 40,
   "metadata": {},
   "outputs": [
    {
     "data": {
      "text/plain": [
       "[1, 3, 6]"
      ]
     },
     "execution_count": 40,
     "metadata": {},
     "output_type": "execute_result"
    }
   ],
   "source": [
    "T1=[1,2,3,6]\n",
    "T2=[1,3,3,6]\n",
    "EltCom(T1,T2)"
   ]
  },
  {
   "cell_type": "code",
   "execution_count": 41,
   "metadata": {},
   "outputs": [],
   "source": [
    "def maxTab(T):\n",
    "    Max = T[0]\n",
    "    for x in T:\n",
    "        if x > Max:\n",
    "            Max = x\n",
    "    return Max  "
   ]
  },
  {
   "cell_type": "code",
   "execution_count": 42,
   "metadata": {},
   "outputs": [
    {
     "data": {
      "text/plain": [
       "15"
      ]
     },
     "execution_count": 42,
     "metadata": {},
     "output_type": "execute_result"
    }
   ],
   "source": [
    "T=[1,3,10,15,12,0]\n",
    "maxTab(T)"
   ]
  },
  {
   "cell_type": "code",
   "execution_count": 43,
   "metadata": {},
   "outputs": [],
   "source": [
    "def pgcd(a,b):\n",
    "    if b == 0:\n",
    "        return a\n",
    "    else:\n",
    "        T1 = Diviseurs(a)\n",
    "        T2 = Diviseurs(b)\n",
    "        T3 = EltCom(T1,T2)\n",
    "        return maxTab(T3)"
   ]
  },
  {
   "cell_type": "code",
   "execution_count": 44,
   "metadata": {},
   "outputs": [
    {
     "data": {
      "text/plain": [
       "2"
      ]
     },
     "execution_count": 44,
     "metadata": {},
     "output_type": "execute_result"
    }
   ],
   "source": [
    "pgcd(220, 222)"
   ]
  },
  {
   "cell_type": "markdown",
   "metadata": {},
   "source": [
    "Notez qu'il existe une fonction `gcd(a, b)` du module math qui calcule le pgd de deux nombres a et b."
   ]
  },
  {
   "cell_type": "code",
   "execution_count": 45,
   "metadata": {},
   "outputs": [
    {
     "data": {
      "text/plain": [
       "2"
      ]
     },
     "execution_count": 45,
     "metadata": {},
     "output_type": "execute_result"
    }
   ],
   "source": [
    "import math as m\n",
    "m.gcd(220, 222)"
   ]
  },
  {
   "cell_type": "markdown",
   "metadata": {},
   "source": [
    "# Problème 1 : Évaluation de la force d’un mot de passe"
   ]
  },
  {
   "cell_type": "code",
   "execution_count": 186,
   "metadata": {},
   "outputs": [],
   "source": [
    "#Q1.\n",
    "def nombrepasswd():\n",
    "    \"saisir un nombre <=10\"\n",
    "    while True:\n",
    "        try:\n",
    "            n = int(input(\"saisir un nombre entier <=10 :\"))\n",
    "            if 0< n <=10:\n",
    "                break\n",
    "        except:\n",
    "            print(\"veuillez saisir un nombre entier!\")\n",
    "    return n"
   ]
  },
  {
   "cell_type": "code",
   "execution_count": 187,
   "metadata": {},
   "outputs": [
    {
     "name": "stdout",
     "output_type": "stream",
     "text": [
      "saisir un nombre entier <=10 :3\n"
     ]
    }
   ],
   "source": [
    "n = nombrepasswd()"
   ]
  },
  {
   "cell_type": "code",
   "execution_count": 207,
   "metadata": {},
   "outputs": [],
   "source": [
    "#Q2.\n",
    "def saisipassword(n):\n",
    "    f = open(\"password.txt\", \"w\")\n",
    "    for i in range(n):\n",
    "        ch = input(\"saisir un mot de passe : \")\n",
    "        while ch.find(\" \") != -1:\n",
    "            ch = input(\"saisir un autre mot de passe : \")\n",
    "        f.write(ch+\",\")\n",
    "    f.close"
   ]
  },
  {
   "cell_type": "code",
   "execution_count": 208,
   "metadata": {},
   "outputs": [
    {
     "name": "stdout",
     "output_type": "stream",
     "text": [
      "saisir un mot de passe : A#123mm%1\n",
      "saisir un mot de passe : AA N21@1\n",
      "saisir un autre mot de passe : SA&AZzs09A\n",
      "saisir un mot de passe : fjef12HH@Q\n"
     ]
    }
   ],
   "source": [
    "saisipassword(n)"
   ]
  },
  {
   "cell_type": "code",
   "execution_count": 190,
   "metadata": {},
   "outputs": [],
   "source": [
    "#Q3\n",
    "def NB_Min_Maj_Nalpha(ch):\n",
    "    nbr_min, nbr_maj, nbr_nonalpha=0, 0, 0\n",
    "    for c in ch:\n",
    "        if c.islower():\n",
    "            nbr_min +=1\n",
    "        elif c.isupper():\n",
    "            nbr_maj +=1\n",
    "        elif not c.isalpha():\n",
    "            nbr_nonalpha +=1\n",
    "    return (nbr_min, nbr_maj, nbr_nonalpha)"
   ]
  },
  {
   "cell_type": "code",
   "execution_count": 228,
   "metadata": {},
   "outputs": [
    {
     "name": "stdout",
     "output_type": "stream",
     "text": [
      "(4, 3, 6)\n"
     ]
    }
   ],
   "source": [
    "ch = \"Ip&IB_cnc2017\"\n",
    "t=NB_Min_Maj_Nalpha(ch)\n",
    "print(t)"
   ]
  },
  {
   "cell_type": "code",
   "execution_count": 229,
   "metadata": {},
   "outputs": [],
   "source": [
    "# Q4.\n",
    "def Seqmax_miniscule(ch):\n",
    "    nb_min = 0\n",
    "    seq = []\n",
    "    for i in range(len(ch)):\n",
    "        if ch[i].islower():\n",
    "            nb_min +=1\n",
    "        else: \n",
    "            nb_min =0\n",
    "        seq.append(nb_min)\n",
    "    #print(seq)\n",
    "    return max(seq) "
   ]
  },
  {
   "cell_type": "code",
   "execution_count": 230,
   "metadata": {},
   "outputs": [
    {
     "data": {
      "text/plain": [
       "3"
      ]
     },
     "execution_count": 230,
     "metadata": {},
     "output_type": "execute_result"
    }
   ],
   "source": [
    "Seqmax_miniscule(ch)"
   ]
  },
  {
   "cell_type": "code",
   "execution_count": 231,
   "metadata": {},
   "outputs": [],
   "source": [
    "# Q5.\n",
    "def Seqmax_majuscule(ch):\n",
    "    nb_maj = 0\n",
    "    seq = []\n",
    "    for i in range(len(ch)):\n",
    "        if ch[i].isupper():\n",
    "            nb_maj +=1\n",
    "        else: \n",
    "            nb_maj =0\n",
    "        seq.append(nb_maj)\n",
    "    #print(seq)\n",
    "    return max(seq)\n",
    "\n",
    "## Ou bien en utilisant la fonction précédente\n",
    "#def Seqmax_majuscule(ch):\n",
    "#    return Seqmax_miniscule(ch.swapcase())"
   ]
  },
  {
   "cell_type": "code",
   "execution_count": 232,
   "metadata": {},
   "outputs": [
    {
     "data": {
      "text/plain": [
       "2"
      ]
     },
     "execution_count": 232,
     "metadata": {},
     "output_type": "execute_result"
    }
   ],
   "source": [
    "Seqmax_majuscule(ch)"
   ]
  },
  {
   "cell_type": "code",
   "execution_count": 233,
   "metadata": {},
   "outputs": [],
   "source": [
    "# Q6.\n",
    "def Scorepassword(ch) :\n",
    "    bonus = len(ch)*4 + (len(ch) - NB_Min_Maj_Nalpha(ch)[0])*3 + \\\n",
    "    (len(ch) - NB_Min_Maj_Nalpha(ch)[1])*2 + NB_Min_Maj_Nalpha(ch)[2]*5\n",
    "    penalites = Seqmax_miniscule(ch)*2 + Seqmax_majuscule(ch) *2 \n",
    "    return bonus - penalites"
   ]
  },
  {
   "cell_type": "code",
   "execution_count": 234,
   "metadata": {},
   "outputs": [
    {
     "data": {
      "text/plain": [
       "119"
      ]
     },
     "execution_count": 234,
     "metadata": {},
     "output_type": "execute_result"
    }
   ],
   "source": [
    "Scorepassword(\"Ip&IB_cnc2017\")"
   ]
  },
  {
   "cell_type": "code",
   "execution_count": 235,
   "metadata": {},
   "outputs": [],
   "source": [
    "# Q7.\n",
    "def Forcepassword(score):\n",
    "    if score < 20:\n",
    "        return \"Très faible\"\n",
    "    elif score < 40:\n",
    "        return \"Faible\"\n",
    "    elif score < 60:\n",
    "        return \"Moyen\"\n",
    "    elif score < 80:\n",
    "        return \"Fort\"\n",
    "    else:\n",
    "        return \"Très fort\""
   ]
  },
  {
   "cell_type": "code",
   "execution_count": 236,
   "metadata": {},
   "outputs": [
    {
     "data": {
      "text/plain": [
       "'Très fort'"
      ]
     },
     "execution_count": 236,
     "metadata": {},
     "output_type": "execute_result"
    }
   ],
   "source": [
    "score = Scorepassword(\"Ip&IB_cnc2017\")\n",
    "Forcepassword(score)"
   ]
  },
  {
   "cell_type": "code",
   "execution_count": 250,
   "metadata": {},
   "outputs": [],
   "source": [
    "#Q8.\n",
    "def Forcelistepassword():\n",
    "    dictio = {}\n",
    "    f = open(\"password.txt\", \"r\")\n",
    "    contenu = f.read()\n",
    "    f.close()\n",
    "    #print(\"Avec une virgule à la fin : \", contenu)\n",
    "    contenu = contenu.strip(\",\") # supprimer la dérnière virgule\n",
    "    List_password = contenu.split(\",\")\n",
    "    for password in List_password :\n",
    "        score = Scorepassword(password)\n",
    "        dictio[password] = (score, Forcepassword(score))\n",
    "    return dictio"
   ]
  },
  {
   "cell_type": "code",
   "execution_count": 251,
   "metadata": {},
   "outputs": [
    {
     "data": {
      "text/plain": [
       "{'A#123mm%1': (97, 'Très fort'),\n",
       " 'SA&AZzs09A': (81, 'Très fort'),\n",
       " 'fjef12HH@Q': (75, 'Fort')}"
      ]
     },
     "execution_count": 251,
     "metadata": {},
     "output_type": "execute_result"
    }
   ],
   "source": [
    "Forcelistepassword()"
   ]
  },
  {
   "cell_type": "code",
   "execution_count": 252,
   "metadata": {},
   "outputs": [],
   "source": [
    "# Q9.\n",
    "def passwordfort(d) : \n",
    "    f = open(\"passwordfort.txt\", \"w\")\n",
    "    for key, val in d.items():\n",
    "        if val[1] == \"Fort\":\n",
    "            f.write(key+\"\\n\")\n",
    "    f.close()"
   ]
  },
  {
   "cell_type": "code",
   "execution_count": 253,
   "metadata": {},
   "outputs": [],
   "source": [
    "d = Forcelistepassword()\n",
    "passwordfort(d)"
   ]
  },
  {
   "cell_type": "markdown",
   "metadata": {},
   "source": [
    "# Problème 2 : Polynômes creux"
   ]
  },
  {
   "cell_type": "code",
   "execution_count": 162,
   "metadata": {},
   "outputs": [],
   "source": [
    "def ajout_monome(P,monome={}):\n",
    "    \"\"\"\n",
    "    Cette fonction ajoute un monôme saisi au clavier à P\n",
    "    si le paramètre monome est nul ou ajoute le monôme nommé monome sinon\n",
    "    \"\"\"\n",
    "    if len(monome)==0:\n",
    "        # Réponse à Q1.\n",
    "        while True:\n",
    "            try:\n",
    "                degree = int(input(\"donner le degré du monôme : \"))\n",
    "                coeff = float(input(\"donner le coefficient du monôme : \"))\n",
    "                if degree >=0:\n",
    "                    break\n",
    "            except:\n",
    "                print(\"erreur de saisie\") # ou pass ou continue\n",
    "        P.update({degree:coeff})\n",
    "    else: # Si monome est non vide\n",
    "        degre=list(monome.keys())[0] # extraction du degré\n",
    "        coeff=list(monome.values())[0] # extraction du coefficient\n",
    "        assert degre>=0\n",
    "        assert type(degre)==int\n",
    "        assert type(coeff)==int or type(coeff)==float\n",
    "        assert len(monome)==1\n",
    "        P.update(monome)\n",
    "    return P"
   ]
  },
  {
   "cell_type": "code",
   "execution_count": 163,
   "metadata": {},
   "outputs": [
    {
     "name": "stdout",
     "output_type": "stream",
     "text": [
      "donner le degré du monôme : 2\n",
      "donner le coefficient du monôme : 3\n"
     ]
    },
    {
     "data": {
      "text/plain": [
       "{0: 1, 5: 1, 8: 1, 2: 3.0}"
      ]
     },
     "execution_count": 163,
     "metadata": {},
     "output_type": "execute_result"
    }
   ],
   "source": [
    "P = {0:1, 5:1, 8:1} # x^8 + x^5 + 1\n",
    "ajout_monome(P)"
   ]
  },
  {
   "cell_type": "code",
   "execution_count": 164,
   "metadata": {},
   "outputs": [
    {
     "data": {
      "text/plain": [
       "{0: 1, 5: 1, 8: 1, 2: 8}"
      ]
     },
     "execution_count": 164,
     "metadata": {},
     "output_type": "execute_result"
    }
   ],
   "source": [
    "ajout_monome(P, {2:8})"
   ]
  },
  {
   "cell_type": "code",
   "execution_count": 119,
   "metadata": {},
   "outputs": [],
   "source": [
    "## Q2.\n",
    "def degree(P):\n",
    "    return max(P.keys())"
   ]
  },
  {
   "cell_type": "code",
   "execution_count": 120,
   "metadata": {},
   "outputs": [
    {
     "data": {
      "text/plain": [
       "8"
      ]
     },
     "execution_count": 120,
     "metadata": {},
     "output_type": "execute_result"
    }
   ],
   "source": [
    "degree(P)"
   ]
  },
  {
   "cell_type": "code",
   "execution_count": 52,
   "metadata": {},
   "outputs": [],
   "source": [
    "## Q3.\n",
    "def call(P, x0):\n",
    "    val = 0\n",
    "    for degree in P.keys():\n",
    "        val += P[degree]*x0**degree\n",
    "    return val"
   ]
  },
  {
   "cell_type": "code",
   "execution_count": 54,
   "metadata": {},
   "outputs": [
    {
     "data": {
      "text/plain": [
       "{0: 1, 5: 1, 8: 1, 3: 3.0}"
      ]
     },
     "execution_count": 54,
     "metadata": {},
     "output_type": "execute_result"
    }
   ],
   "source": [
    "P"
   ]
  },
  {
   "cell_type": "code",
   "execution_count": 55,
   "metadata": {},
   "outputs": [
    {
     "data": {
      "text/plain": [
       "313.0"
      ]
     },
     "execution_count": 55,
     "metadata": {},
     "output_type": "execute_result"
    }
   ],
   "source": [
    "call(P, 2)"
   ]
  },
  {
   "cell_type": "code",
   "execution_count": 56,
   "metadata": {},
   "outputs": [],
   "source": [
    "## Q4.\n",
    "def add(P, P1):\n",
    "    p = {}\n",
    "    for degree in P.keys() :\n",
    "        if not (degree in P1.keys()):\n",
    "            ajout_monome(p,{degree:P[degree]})\n",
    "        elif P[degree] != - P1[degree] :\n",
    "            p.update({degree :P[degree] + P1[degree]})\n",
    "    for degree in P1.keys():\n",
    "        if not (degree in P.keys()):\n",
    "            ajout_monome(p,{degree:P1[degree]})\n",
    "    return p"
   ]
  },
  {
   "cell_type": "code",
   "execution_count": 60,
   "metadata": {},
   "outputs": [
    {
     "data": {
      "text/plain": [
       "{2: 2, 3: -2, 0: 1}"
      ]
     },
     "execution_count": 60,
     "metadata": {},
     "output_type": "execute_result"
    }
   ],
   "source": [
    "add({2:1, 3:-3, 0:1}, {3:1, 2:1})"
   ]
  },
  {
   "cell_type": "code",
   "execution_count": 61,
   "metadata": {},
   "outputs": [],
   "source": [
    "## Q5.\n",
    "def diff(P,P1):\n",
    "    p = {}\n",
    "    for degree in P.keys() :\n",
    "        if not (degree in P1.keys()):\n",
    "            ajout_monome(p,{degree:P[degree]})\n",
    "        elif P[degree] != P1[degree] :\n",
    "            p.update({degree :P[degree] - P1[degree]})\n",
    "    \n",
    "    for degree in P1.keys():\n",
    "        if not (degree in P.keys()):\n",
    "            ajout_monome(p,{degree:P1[degree]})\n",
    "    return p"
   ]
  },
  {
   "cell_type": "code",
   "execution_count": 62,
   "metadata": {},
   "outputs": [
    {
     "data": {
      "text/plain": [
       "{2: -2, 0: 1}"
      ]
     },
     "execution_count": 62,
     "metadata": {},
     "output_type": "execute_result"
    }
   ],
   "source": [
    "diff({2:1, 3:1, 0:1}, {3:1, 2:3})"
   ]
  },
  {
   "cell_type": "code",
   "execution_count": 150,
   "metadata": {},
   "outputs": [],
   "source": [
    "## Q6\n",
    "def mul(P,P1):\n",
    "    p = {}\n",
    "    for deg1 in P.keys() :\n",
    "        for deg2 in P1.keys() :\n",
    "            deg = deg1 + deg2\n",
    "            coeff = P[deg1] * P1[deg2]\n",
    "            if not (deg in p.keys()):\n",
    "                ajout_monome(p,{deg : coeff})\n",
    "            else :\n",
    "                p[deg] += coeff\n",
    "        if p[deg] == 0 :\n",
    "            del p[deg]\n",
    "    return p\n",
    "            "
   ]
  },
  {
   "cell_type": "code",
   "execution_count": 151,
   "metadata": {},
   "outputs": [
    {
     "data": {
      "text/plain": [
       "{5: 4, 4: 3, 6: 1, 3: 1, 2: 3}"
      ]
     },
     "execution_count": 151,
     "metadata": {},
     "output_type": "execute_result"
    }
   ],
   "source": [
    "mul({2:1, 3:1, 0:1}, {3:1, 2:3})"
   ]
  },
  {
   "cell_type": "code",
   "execution_count": 152,
   "metadata": {},
   "outputs": [],
   "source": [
    "# Q7.\n",
    "def derive(P):\n",
    "    p = {}\n",
    "    for degree in P.keys() :\n",
    "        try:\n",
    "            ajout_monome(p,{degree-1 : degree*P[degree]})\n",
    "        except:\n",
    "            continue\n",
    "    return p"
   ]
  },
  {
   "cell_type": "code",
   "execution_count": 153,
   "metadata": {},
   "outputs": [
    {
     "data": {
      "text/plain": [
       "{2: 6, 1: -4}"
      ]
     },
     "execution_count": 153,
     "metadata": {},
     "output_type": "execute_result"
    }
   ],
   "source": [
    "derive({3:2, 2:-2})"
   ]
  },
  {
   "cell_type": "code",
   "execution_count": 154,
   "metadata": {},
   "outputs": [],
   "source": [
    "# Q8.\n",
    "def affiche(P):\n",
    "    L = sorted(P.items(), reverse = True)\n",
    "    #print(L)\n",
    "    ch = \"\"\n",
    "    for d, c in L:\n",
    "        if c == 1:\n",
    "            ch += \" + \"\n",
    "        elif c > 0:\n",
    "            ch += \" + \" + str(c)\n",
    "        elif c == -1:\n",
    "            ch += \" - \"\n",
    "        elif c < 0:\n",
    "            ch += \" - \" + str(abs(c))\n",
    "        if d !=0:\n",
    "            if c !=1 and c !=-1:\n",
    "                ch += \"*\"\n",
    "            ch += \"x\"\n",
    "            if d != 1:\n",
    "                ch += \"**\" + str(d)\n",
    "        else:\n",
    "            if c ==1 or c ==-1:\n",
    "                ch += str(abs(c))\n",
    "    if ch[0:3] == \" + \": # pour enlever l'espace et le premier plus\n",
    "        return(ch[3:])"
   ]
  },
  {
   "cell_type": "code",
   "execution_count": 155,
   "metadata": {},
   "outputs": [
    {
     "data": {
      "text/plain": [
       "'2*x**3 + 3*x**2 - 2*x - 1'"
      ]
     },
     "execution_count": 155,
     "metadata": {},
     "output_type": "execute_result"
    }
   ],
   "source": [
    "affiche({2:3,3:2, 1:-2, 0:-1})"
   ]
  },
  {
   "cell_type": "code",
   "execution_count": 156,
   "metadata": {},
   "outputs": [],
   "source": [
    "# Q9.\n",
    "def primitive(P):\n",
    "    p = {}\n",
    "    for degree in P.keys() :\n",
    "        ajout_monome(p,{degree+1 : P[degree]/(degree+1)})\n",
    "    return p\n",
    "    "
   ]
  },
  {
   "cell_type": "code",
   "execution_count": 157,
   "metadata": {},
   "outputs": [
    {
     "data": {
      "text/plain": [
       "{3: 1.0, 1: 1.0}"
      ]
     },
     "execution_count": 157,
     "metadata": {},
     "output_type": "execute_result"
    }
   ],
   "source": [
    "primitive({2:3, 0:1})"
   ]
  },
  {
   "cell_type": "code",
   "execution_count": 158,
   "metadata": {},
   "outputs": [],
   "source": [
    "#Q10.\n",
    "def integrale(P, a, b):\n",
    "    return call(primitive(P), b) - call(primitive(P),a)"
   ]
  },
  {
   "cell_type": "code",
   "execution_count": 159,
   "metadata": {},
   "outputs": [
    {
     "data": {
      "text/plain": [
       "10.0"
      ]
     },
     "execution_count": 159,
     "metadata": {},
     "output_type": "execute_result"
    }
   ],
   "source": [
    "integrale({2:3, 0:1}, 0, 2)"
   ]
  },
  {
   "cell_type": "code",
   "execution_count": 160,
   "metadata": {},
   "outputs": [],
   "source": [
    "# Q11.\n",
    "import matplotlib.pyplot as plt\n",
    "def courbe(P, a, b):\n",
    "    X = list(range(a, b+1))\n",
    "    Y, dY, Yp = [], [], []\n",
    "    for x in X:\n",
    "        Y.append(call(P, x))\n",
    "        dY.append(call(derive(P), x))\n",
    "        Yp.append(call(primitive(P),x))\n",
    "    plt.plot(X, Y, label = affiche(P))\n",
    "    plt.plot(X, dY, label = affiche(derive(P)))\n",
    "    plt.plot(X, Yp, color=\"r\", label =affiche(primitive(P)))\n",
    "    plt.legend()\n",
    "    plt.show()"
   ]
  },
  {
   "cell_type": "code",
   "execution_count": 161,
   "metadata": {},
   "outputs": [
    {
     "data": {
      "image/png": "[encoded data removed]",
      "text/plain": [
       "<Figure size 432x288 with 1 Axes>"
      ]
     },
     "metadata": {
      "needs_background": "light"
     },
     "output_type": "display_data"
    }
   ],
   "source": [
    "courbe({2:3, 1:2, 0:4}, 0, 10)"
   ]
  }
 ],
 "metadata": {
  "kernelspec": {
   "display_name": "Python 3",
   "language": "python",
   "name": "python3"
  },
  "language_info": {
   "codemirror_mode": {
    "name": "ipython",
    "version": 3
   },
   "file_extension": ".py",
   "mimetype": "text/x-python",
   "name": "python",
   "nbconvert_exporter": "python",
   "pygments_lexer": "ipython3",
   "version": "3.7.6"
  }
 },
 "nbformat": 4,
 "nbformat_minor": 4
}
