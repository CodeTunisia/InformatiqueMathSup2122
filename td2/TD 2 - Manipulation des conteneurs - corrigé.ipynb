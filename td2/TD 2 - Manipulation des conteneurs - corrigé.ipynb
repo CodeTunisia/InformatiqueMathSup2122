{
  "nbformat": 4,
  "nbformat_minor": 0,
  "metadata": {
    "kernelspec": {
      "display_name": "Python 3",
      "language": "python",
      "name": "python3"
    },
    "language_info": {
      "codemirror_mode": {
        "name": "ipython",
        "version": 3
      },
      "file_extension": ".py",
      "mimetype": "text/x-python",
      "name": "python",
      "nbconvert_exporter": "python",
      "pygments_lexer": "ipython3",
      "version": "3.7.6"
    },
    "colab": {
      "name": "TD 2 - Manipulation des conteneurs - corrigé.ipynb",
      "provenance": [],
      "include_colab_link": true
    }
  },
  "cells": [
    {
      "cell_type": "markdown",
      "metadata": {
        "id": "view-in-github",
        "colab_type": "text"
      },
      "source": [
        "<a href=\"https://colab.research.google.com/github/CodeTunisia/InformatiqueMathSup2122/blob/main/td2/TD%202%20-%20Manipulation%20des%20conteneurs%20-%20corrig%C3%A9.ipynb\" target=\"_parent\"><img src=\"https://colab.research.google.com/assets/colab-badge.svg\" alt=\"Open In Colab\"/></a>"
      ]
    },
    {
      "cell_type": "markdown",
      "metadata": {
        "id": "C5VbaMAGP8af"
      },
      "source": [
        "# Exercice 1 : Manipulations élémentaires de listes"
      ]
    },
    {
      "cell_type": "code",
      "metadata": {
        "id": "L-lZv4AQP8ap"
      },
      "source": [
        "# Q1\n",
        "L=[1,2,3,4,5]"
      ],
      "execution_count": null,
      "outputs": []
    },
    {
      "cell_type": "code",
      "metadata": {
        "id": "Q3Gd6lBcP8au"
      },
      "source": [
        "L[4] # le 5ème élément --> indiçage à partir de 0"
      ],
      "execution_count": null,
      "outputs": []
    },
    {
      "cell_type": "code",
      "metadata": {
        "id": "IdVlFiDFP8aw"
      },
      "source": [
        "#Q2. \n",
        "L[4] = L[3] + L[2]; print(L)"
      ],
      "execution_count": null,
      "outputs": []
    },
    {
      "cell_type": "code",
      "metadata": {
        "id": "2pUyn9dpP8ax"
      },
      "source": [
        "# Ou bien\n",
        "L.pop(4); L.append(L[3]+L[2])\n",
        "print(L)"
      ],
      "execution_count": null,
      "outputs": []
    },
    {
      "cell_type": "code",
      "metadata": {
        "id": "-huVJGuWP8ay"
      },
      "source": [
        "# Q3.\n",
        "L1 = [1, 0, 3]; L2 = [5, 8, 9]"
      ],
      "execution_count": null,
      "outputs": []
    },
    {
      "cell_type": "code",
      "metadata": {
        "id": "xKWPHNO7P8az"
      },
      "source": [
        "L1 + L2 # addition deux listes"
      ],
      "execution_count": null,
      "outputs": []
    },
    {
      "cell_type": "code",
      "metadata": {
        "id": "FMSu1XkuP8a0"
      },
      "source": [
        "L1 * L2 # multiplication deux listes"
      ],
      "execution_count": null,
      "outputs": []
    },
    {
      "cell_type": "code",
      "metadata": {
        "id": "EFm71iwhP8a1"
      },
      "source": [
        "L1 * 3 # multiplication par un nombre"
      ],
      "execution_count": null,
      "outputs": []
    },
    {
      "cell_type": "code",
      "metadata": {
        "id": "7dcy9NjDP8a2"
      },
      "source": [
        "L2 + 20 # ajout d'un nombre"
      ],
      "execution_count": null,
      "outputs": []
    },
    {
      "cell_type": "code",
      "metadata": {
        "id": "-XPJ4hHwP8a4"
      },
      "source": [
        "# Q4.\n",
        "L = [1, 2, 3, 4, 7]"
      ],
      "execution_count": null,
      "outputs": []
    },
    {
      "cell_type": "code",
      "metadata": {
        "id": "dFYDOMpGP8a7"
      },
      "source": [
        "id(L)"
      ],
      "execution_count": null,
      "outputs": []
    },
    {
      "cell_type": "code",
      "metadata": {
        "id": "6SgUYW-AP8a8"
      },
      "source": [
        "L = L+[1]; print(L)"
      ],
      "execution_count": null,
      "outputs": []
    },
    {
      "cell_type": "code",
      "metadata": {
        "id": "8ns6KmdkP8a9"
      },
      "source": [
        "id(L)"
      ],
      "execution_count": null,
      "outputs": []
    },
    {
      "cell_type": "code",
      "metadata": {
        "id": "vYjOTDVnP8a-"
      },
      "source": [
        "L +=[1]; print(L)"
      ],
      "execution_count": null,
      "outputs": []
    },
    {
      "cell_type": "code",
      "metadata": {
        "id": "yDTuIVPrP8a-"
      },
      "source": [
        "id(L)"
      ],
      "execution_count": null,
      "outputs": []
    },
    {
      "cell_type": "code",
      "metadata": {
        "id": "ROHQVMMAP8a_"
      },
      "source": [
        "L.append(1); print(L)"
      ],
      "execution_count": null,
      "outputs": []
    },
    {
      "cell_type": "code",
      "metadata": {
        "id": "LXOYm46AP8bA"
      },
      "source": [
        "id(L)"
      ],
      "execution_count": null,
      "outputs": []
    },
    {
      "cell_type": "code",
      "metadata": {
        "id": "QZq7_P1mP8bB"
      },
      "source": [
        "import random as rd\n",
        "Lr = rd.sample(range(1, 10000), rd.randint(10, 10000)); print(Lr)"
      ],
      "execution_count": null,
      "outputs": []
    },
    {
      "cell_type": "code",
      "metadata": {
        "id": "niGAedi7P8bC"
      },
      "source": [
        "# Q6\n",
        "print(Lr[-1])"
      ],
      "execution_count": null,
      "outputs": []
    },
    {
      "cell_type": "code",
      "metadata": {
        "id": "oASXrf3oP8bC"
      },
      "source": [
        "help(Lr)"
      ],
      "execution_count": null,
      "outputs": []
    },
    {
      "cell_type": "code",
      "metadata": {
        "id": "o165823hP8bD"
      },
      "source": [
        "len(Lr)"
      ],
      "execution_count": null,
      "outputs": []
    },
    {
      "cell_type": "code",
      "metadata": {
        "id": "G8wpQRlNP8bD"
      },
      "source": [
        "Lr.count(1)"
      ],
      "execution_count": null,
      "outputs": []
    },
    {
      "cell_type": "code",
      "metadata": {
        "id": "KiaC0n2SP8bD"
      },
      "source": [
        "Lr.append(1)"
      ],
      "execution_count": null,
      "outputs": []
    },
    {
      "cell_type": "code",
      "metadata": {
        "id": "uo39HSM-P8bE"
      },
      "source": [
        "Lr.index(1)"
      ],
      "execution_count": null,
      "outputs": []
    },
    {
      "cell_type": "code",
      "metadata": {
        "id": "LtPz6lAsP8bF"
      },
      "source": [
        "Lr.insert(0, 1)"
      ],
      "execution_count": null,
      "outputs": []
    },
    {
      "cell_type": "code",
      "metadata": {
        "id": "he6CuxkgP8bF"
      },
      "source": [
        "Lr.count(1)"
      ],
      "execution_count": null,
      "outputs": []
    },
    {
      "cell_type": "code",
      "metadata": {
        "id": "nyUR7gliP8bF"
      },
      "source": [
        "Lr.pop()"
      ],
      "execution_count": null,
      "outputs": []
    },
    {
      "cell_type": "code",
      "metadata": {
        "id": "z5Brj8bhP8bG"
      },
      "source": [
        "Lr.count(1)"
      ],
      "execution_count": null,
      "outputs": []
    },
    {
      "cell_type": "code",
      "metadata": {
        "id": "uLtooo7hP8bG"
      },
      "source": [
        "len(Lr)"
      ],
      "execution_count": null,
      "outputs": []
    },
    {
      "cell_type": "code",
      "metadata": {
        "id": "faAsI-j8P8bH"
      },
      "source": [
        "# Q9\n",
        "x = Lr.pop(5); print(x)"
      ],
      "execution_count": null,
      "outputs": []
    },
    {
      "cell_type": "code",
      "metadata": {
        "id": "1cLk2rfSP8bH"
      },
      "source": [
        "Lr.sort(); print(Lr)"
      ],
      "execution_count": null,
      "outputs": []
    },
    {
      "cell_type": "code",
      "metadata": {
        "id": "36S0kLCrP8bI"
      },
      "source": [
        "Lr.sort(reverse = True); print(Lr)"
      ],
      "execution_count": null,
      "outputs": []
    },
    {
      "cell_type": "code",
      "metadata": {
        "id": "7JzXJO1rP8bI"
      },
      "source": [
        "import math as m\n",
        "Lr.sort(key = lambda x : m.sin(x), reverse = False)\n",
        "print(Lr)"
      ],
      "execution_count": null,
      "outputs": []
    },
    {
      "cell_type": "code",
      "metadata": {
        "id": "JHv6UYxQP8bJ"
      },
      "source": [
        "Lr.sort(key = lambda x : x**2 - x, reverse = True)\n",
        "print(Lr)"
      ],
      "execution_count": null,
      "outputs": []
    },
    {
      "cell_type": "code",
      "metadata": {
        "id": "GSnLy3FxP8bL"
      },
      "source": [
        "sum(Lr)"
      ],
      "execution_count": null,
      "outputs": []
    },
    {
      "cell_type": "code",
      "metadata": {
        "id": "m43us_SxP8bL"
      },
      "source": [
        "sum([x**2 for x in Lr])"
      ],
      "execution_count": null,
      "outputs": []
    },
    {
      "cell_type": "markdown",
      "metadata": {
        "id": "JjD1RdBhP8bM"
      },
      "source": [
        "# Exercice 2 : Exercice 2 : Techniques de saucissonnage sur les listes"
      ]
    },
    {
      "cell_type": "code",
      "metadata": {
        "id": "Mh5h6UEBP8bN"
      },
      "source": [
        "import random as rd"
      ],
      "execution_count": null,
      "outputs": []
    },
    {
      "cell_type": "code",
      "metadata": {
        "id": "Ci_Svz1fP8bN",
        "outputId": "1246c6fc-116a-4744-da38-001d4ae07741"
      },
      "source": [
        "L= [rd.randint(0, 10) for i in range(10)]; print(L)"
      ],
      "execution_count": null,
      "outputs": [
        {
          "name": "stdout",
          "output_type": "stream",
          "text": [
            "[5, 3, 5, 9, 6, 8, 7, 7, 5, 5]\n"
          ]
        }
      ]
    },
    {
      "cell_type": "code",
      "metadata": {
        "id": "lMlu8gl7P8bR",
        "outputId": "bbdc06ed-1ece-4413-acff-7481ca65c62c"
      },
      "source": [
        "id(L)"
      ],
      "execution_count": null,
      "outputs": [
        {
          "data": {
            "text/plain": [
              "139627651010880"
            ]
          },
          "execution_count": 6,
          "metadata": {},
          "output_type": "execute_result"
        }
      ]
    },
    {
      "cell_type": "code",
      "metadata": {
        "id": "YBzLob9aP8bR",
        "outputId": "868efb5c-f60f-4868-a733-b5d1efaee84b"
      },
      "source": [
        "print(id(L[2:6]))"
      ],
      "execution_count": null,
      "outputs": [
        {
          "name": "stdout",
          "output_type": "stream",
          "text": [
            "139627651218240\n"
          ]
        }
      ]
    },
    {
      "cell_type": "code",
      "metadata": {
        "id": "Q9D8DbCkP8bS",
        "outputId": "11aa0c3d-f94c-4266-fe81-c7a8bd87b5a6"
      },
      "source": [
        "L1 = L[2:6]; print(L1, id(L1))"
      ],
      "execution_count": null,
      "outputs": [
        {
          "name": "stdout",
          "output_type": "stream",
          "text": [
            "[5, 9, 6, 8] 139627651423120\n"
          ]
        }
      ]
    },
    {
      "cell_type": "code",
      "metadata": {
        "id": "1ipKfSX8P8bT",
        "outputId": "34754997-e571-481b-f765-7c04a1eb5341"
      },
      "source": [
        "L1.sort(reverse = True); print(L1, id(L1.sort(reverse = True)))"
      ],
      "execution_count": null,
      "outputs": [
        {
          "name": "stdout",
          "output_type": "stream",
          "text": [
            "[9, 8, 6, 5] 94738098933616\n"
          ]
        }
      ]
    },
    {
      "cell_type": "code",
      "metadata": {
        "id": "_wPrnWRmP8bT",
        "outputId": "83069ecf-2c19-41ef-c17d-8e68a8795a99"
      },
      "source": [
        "print(L)"
      ],
      "execution_count": null,
      "outputs": [
        {
          "name": "stdout",
          "output_type": "stream",
          "text": [
            "[5, 3, 5, 9, 6, 8, 7, 7, 5, 5]\n"
          ]
        }
      ]
    },
    {
      "cell_type": "code",
      "metadata": {
        "id": "cbl2aZsEP8bU",
        "outputId": "3341aeca-98a1-401e-f2f8-c0b2cbf53f1e"
      },
      "source": [
        "L[2:6] = L1; print(L)"
      ],
      "execution_count": null,
      "outputs": [
        {
          "name": "stdout",
          "output_type": "stream",
          "text": [
            "[5, 3, 9, 8, 6, 5, 7, 7, 5, 5]\n"
          ]
        }
      ]
    },
    {
      "cell_type": "code",
      "metadata": {
        "id": "Nceo7KFUP8bU",
        "outputId": "24d7ad24-dc40-40d6-cdfc-5115832a09c7"
      },
      "source": [
        "print(id(L))"
      ],
      "execution_count": null,
      "outputs": [
        {
          "name": "stdout",
          "output_type": "stream",
          "text": [
            "139627651010880\n"
          ]
        }
      ]
    },
    {
      "cell_type": "code",
      "metadata": {
        "id": "RCbYjGeIP8bV",
        "outputId": "f2e0d153-2835-4f8b-f657-9dacd8f63cb2"
      },
      "source": [
        "# Q2/1.\n",
        "L[3] = L; print(L)"
      ],
      "execution_count": null,
      "outputs": [
        {
          "name": "stdout",
          "output_type": "stream",
          "text": [
            "[5, 3, 9, [...], 6, 5, 7, 7, 5, 5]\n"
          ]
        }
      ]
    },
    {
      "cell_type": "code",
      "metadata": {
        "id": "3340_8JuP8bW",
        "outputId": "9afc63d3-5c89-4138-c6b2-6b9efdd4add1"
      },
      "source": [
        "print(L[3])"
      ],
      "execution_count": null,
      "outputs": [
        {
          "name": "stdout",
          "output_type": "stream",
          "text": [
            "[5, 3, 9, [...], 6, 5, 7, 7, 5, 5]\n"
          ]
        }
      ]
    },
    {
      "cell_type": "code",
      "metadata": {
        "id": "aZ8BfPn5P8bW",
        "outputId": "f2742ea6-8a86-4631-a2cf-eb3bfd869c1f"
      },
      "source": [
        "# Q2/2.\n",
        "L.pop(3)"
      ],
      "execution_count": null,
      "outputs": [
        {
          "data": {
            "text/plain": [
              "[5, 3, 9, 6, 5, 7, 7, 5, 5]"
            ]
          },
          "execution_count": 15,
          "metadata": {},
          "output_type": "execute_result"
        }
      ]
    },
    {
      "cell_type": "code",
      "metadata": {
        "id": "cVbz6RWOP8bX",
        "outputId": "e5b13287-ba22-467e-dcdc-a4f671acd1c4"
      },
      "source": [
        "print(L)"
      ],
      "execution_count": null,
      "outputs": [
        {
          "name": "stdout",
          "output_type": "stream",
          "text": [
            "[5, 3, 9, 6, 5, 7, 7, 5, 5]\n"
          ]
        }
      ]
    },
    {
      "cell_type": "code",
      "metadata": {
        "id": "OpESRQVRP8bX",
        "outputId": "3fbfdbcf-5681-4b19-f04d-89554a932a42"
      },
      "source": [
        "L[3] = L[:]; print(L)"
      ],
      "execution_count": null,
      "outputs": [
        {
          "name": "stdout",
          "output_type": "stream",
          "text": [
            "[5, 3, 9, [5, 3, 9, 6, 5, 7, 7, 5, 5], 5, 7, 7, 5, 5]\n"
          ]
        }
      ]
    },
    {
      "cell_type": "code",
      "metadata": {
        "id": "f9UB6-rMP8bY",
        "outputId": "2d2c2bc3-c42a-4940-acbd-d5b1b5bd596a"
      },
      "source": [
        "# Q3.\n",
        "L2 = [2, 1, 0, 9]; L3 = [4, 1, 2, 11]\n",
        "L3[len(L3)//2] = L2 ; print(L3)"
      ],
      "execution_count": null,
      "outputs": [
        {
          "name": "stdout",
          "output_type": "stream",
          "text": [
            "[4, 1, [2, 1, 0, 9], 11]\n"
          ]
        }
      ]
    },
    {
      "cell_type": "markdown",
      "metadata": {
        "id": "BtsiRAHjP8bZ"
      },
      "source": [
        "# Exercice 3 : Mutabilité et copies"
      ]
    },
    {
      "cell_type": "code",
      "metadata": {
        "id": "--OKg3KfP8bb",
        "outputId": "61db86ab-7e5e-4155-cc09-86df1d766d58"
      },
      "source": [
        "# Q1.\n",
        "liste1 = [1, 4, 8, 9]; liste2 = liste1.copy() \n",
        "print(liste2, id(liste1)==id(liste2))"
      ],
      "execution_count": null,
      "outputs": [
        {
          "name": "stdout",
          "output_type": "stream",
          "text": [
            "[1, 4, 8, 9] False\n"
          ]
        }
      ]
    },
    {
      "cell_type": "code",
      "metadata": {
        "id": "T8uHahqtP8bb",
        "outputId": "63d27d45-6b83-4625-ccc5-e8ba542875a0"
      },
      "source": [
        "#Q2\n",
        "liste2.append(0); print(liste1, liste2, sep=\"\\n\")"
      ],
      "execution_count": null,
      "outputs": [
        {
          "name": "stdout",
          "output_type": "stream",
          "text": [
            "[1, 4, 8, 9]\n",
            "[1, 4, 8, 9, 0]\n"
          ]
        }
      ]
    },
    {
      "cell_type": "code",
      "metadata": {
        "id": "SnfFdwVVP8bd",
        "outputId": "e3b4d308-c8f5-472b-cb86-a98d438e0c27"
      },
      "source": [
        "# Q3.\n",
        "liste3 = liste1[:]; print(liste3, id(liste1)==id(liste3))\n",
        "liste3.append(18); print(liste1, liste3, sep=\"\\n\")"
      ],
      "execution_count": null,
      "outputs": [
        {
          "name": "stdout",
          "output_type": "stream",
          "text": [
            "[1, 4, 8, 9] False\n",
            "[1, 4, 8, 9]\n",
            "[1, 4, 8, 9, 18]\n"
          ]
        }
      ]
    },
    {
      "cell_type": "code",
      "metadata": {
        "id": "cAfzcC3BP8be",
        "outputId": "34ab52b4-cd8d-4f10-af11-b12e1ca072a4"
      },
      "source": [
        "# Q4.\n",
        "liste4 = [[1,2,3], 8, 7]; liste5 = liste4[:]\n",
        "liste5"
      ],
      "execution_count": null,
      "outputs": [
        {
          "data": {
            "text/plain": [
              "[[1, 2, 3], 8, 7]"
            ]
          },
          "execution_count": 22,
          "metadata": {},
          "output_type": "execute_result"
        }
      ]
    },
    {
      "cell_type": "code",
      "metadata": {
        "id": "cNdoZb4yP8bf",
        "outputId": "5b7ab2d6-44eb-42de-8d9d-3a7ca6a72411"
      },
      "source": [
        "# Q5.\n",
        "print(id(liste4) == id(liste5))\n",
        "print(id(liste4[0]) == id(liste5[0]))"
      ],
      "execution_count": null,
      "outputs": [
        {
          "name": "stdout",
          "output_type": "stream",
          "text": [
            "False\n",
            "True\n"
          ]
        }
      ]
    },
    {
      "cell_type": "code",
      "metadata": {
        "id": "XrxJs2PEP8bf",
        "outputId": "8afa211a-33a5-4c3f-8869-0317a2c45586"
      },
      "source": [
        "liste4[0].append(8)\n",
        "print(liste5)"
      ],
      "execution_count": null,
      "outputs": [
        {
          "name": "stdout",
          "output_type": "stream",
          "text": [
            "[[1, 2, 3, 8], 8, 7]\n"
          ]
        }
      ]
    },
    {
      "cell_type": "code",
      "metadata": {
        "id": "wxHC-60WP8bg",
        "outputId": "07e8bd3d-e780-49dd-c921-ae2646432162"
      },
      "source": [
        "# Q6.\n",
        "couple=([1,2],3)\n",
        "id(couple)"
      ],
      "execution_count": null,
      "outputs": [
        {
          "data": {
            "text/plain": [
              "139627710637392"
            ]
          },
          "execution_count": 25,
          "metadata": {},
          "output_type": "execute_result"
        }
      ]
    },
    {
      "cell_type": "code",
      "metadata": {
        "id": "jBg5kdrCP8bi",
        "outputId": "4eb2c24e-4c63-4745-8978-8d67c066f67d"
      },
      "source": [
        "couple[1] = 5"
      ],
      "execution_count": null,
      "outputs": [
        {
          "ename": "TypeError",
          "evalue": "'tuple' object does not support item assignment",
          "output_type": "error",
          "traceback": [
            "\u001b[0;31m---------------------------------------------------------------------------\u001b[0m",
            "\u001b[0;31mTypeError\u001b[0m                                 Traceback (most recent call last)",
            "\u001b[0;32m<ipython-input-26-bf6a1c208f1a>\u001b[0m in \u001b[0;36m<module>\u001b[0;34m\u001b[0m\n\u001b[0;32m----> 1\u001b[0;31m \u001b[0mcouple\u001b[0m\u001b[0;34m[\u001b[0m\u001b[0;36m1\u001b[0m\u001b[0;34m]\u001b[0m \u001b[0;34m=\u001b[0m \u001b[0;36m5\u001b[0m\u001b[0;34m\u001b[0m\u001b[0;34m\u001b[0m\u001b[0m\n\u001b[0m",
            "\u001b[0;31mTypeError\u001b[0m: 'tuple' object does not support item assignment"
          ]
        }
      ]
    },
    {
      "cell_type": "code",
      "metadata": {
        "id": "6jDS3Hh6P8bi"
      },
      "source": [
        "couple[0][1]=8"
      ],
      "execution_count": null,
      "outputs": []
    },
    {
      "cell_type": "code",
      "metadata": {
        "id": "j3CkOlG5P8bi",
        "outputId": "05a4ad54-c963-4085-b059-2a0b8e11670f"
      },
      "source": [
        "print(couple)"
      ],
      "execution_count": null,
      "outputs": [
        {
          "name": "stdout",
          "output_type": "stream",
          "text": [
            "([1, 8], 3)\n"
          ]
        }
      ]
    },
    {
      "cell_type": "markdown",
      "metadata": {
        "id": "8Hi8gFYGP8bj"
      },
      "source": [
        "# Exercice 4 : Manipulation de données avec gestion d’erreurs"
      ]
    },
    {
      "cell_type": "code",
      "metadata": {
        "id": "YpTDSQp9P8bk",
        "outputId": "d8459e79-31fe-425b-a3f1-48613438bb27"
      },
      "source": [
        "# Nom du programme : saisieliste.py\n",
        "try:\n",
        "    n = int(input(\"Dannez la longueur de la liste : \"))\n",
        "    assert n>0\n",
        "    L = [2*x for x in range(1, n+1)] # ou list(range(2, 2*n+1, 2))\n",
        "    print(L)\n",
        "    for i in range(n//2):\n",
        "        elt = L[i]\n",
        "        L[i]=L[n-1-i]\n",
        "        L[n-1-i] = elt\n",
        "    print(L)\n",
        "    # ou bien L = L[::-1]\n",
        "    print(sum(L)/n)\n",
        "except AssertionError:\n",
        "    print(\"n doit être > 0\")\n"
      ],
      "execution_count": null,
      "outputs": [
        {
          "name": "stdout",
          "output_type": "stream",
          "text": [
            "Dannez la longueur de la liste : 10\n",
            "[2, 4, 6, 8, 10, 12, 14, 16, 18, 20]\n",
            "[20, 18, 16, 14, 12, 10, 8, 6, 4, 2]\n",
            "11.0\n"
          ]
        }
      ]
    },
    {
      "cell_type": "markdown",
      "metadata": {
        "id": "e8rgpCz-P8bl"
      },
      "source": [
        "# Exercice 5 : Commandes utiles"
      ]
    },
    {
      "cell_type": "code",
      "metadata": {
        "id": "x0SDxX9EP8bl",
        "outputId": "1d1cd6cf-667b-470d-bdb9-221f2802e3e0"
      },
      "source": [
        "#1. Ajouter 2 à tous les éléments de la liste L=[44,55,66]\n",
        "L=[44,55,66]\n",
        "print(L)\n",
        "L1 = [el +2 for el in L] # ou  = list(map(lambda x:x+2, L))\n",
        "print(L1)"
      ],
      "execution_count": null,
      "outputs": [
        {
          "name": "stdout",
          "output_type": "stream",
          "text": [
            "[44, 55, 66]\n",
            "[46, 57, 68]\n"
          ]
        }
      ]
    },
    {
      "cell_type": "code",
      "metadata": {
        "id": "lu_kUcDwP8bl",
        "outputId": "681bd9aa-4998-43de-8939-80ad90cf40e6"
      },
      "source": [
        "#2. Créer une liste A constituée de trois occurrences de la liste L\n",
        "A = [L for i in range(3)]\n",
        "print(A)"
      ],
      "execution_count": null,
      "outputs": [
        {
          "name": "stdout",
          "output_type": "stream",
          "text": [
            "[[44, 55, 66], [44, 55, 66], [44, 55, 66]]\n"
          ]
        }
      ]
    },
    {
      "cell_type": "code",
      "metadata": {
        "id": "0MOhdlebP8bm",
        "outputId": "8cfd7c0a-776f-4b05-df09-a7cf4a107c47"
      },
      "source": [
        "# 3. ajouter 3 aux sous éléments de A s’ils sont divisibles par 3\n",
        "print([[c+3 if c%3==0 else c for c in l] for l in A])"
      ],
      "execution_count": null,
      "outputs": [
        {
          "name": "stdout",
          "output_type": "stream",
          "text": [
            "[[44, 55, 69], [44, 55, 69], [44, 55, 69]]\n"
          ]
        }
      ]
    },
    {
      "cell_type": "code",
      "metadata": {
        "id": "YdMKrWU-P8bm",
        "outputId": "30dcf480-6b53-47bc-c2e8-a6ae25727940"
      },
      "source": [
        "L=[44,55,66]\n",
        "A = [[44, 55, 66], [44, 55, 66], [44, 55, 66]]\n",
        "for i in range(len(A)):\n",
        "    for j in range(len(L)):\n",
        "        if A[i][j]%3==0:\n",
        "            A[i][j] +=3\n",
        "print(A)"
      ],
      "execution_count": null,
      "outputs": [
        {
          "name": "stdout",
          "output_type": "stream",
          "text": [
            "[[44, 55, 69], [44, 55, 69], [44, 55, 69]]\n"
          ]
        }
      ]
    },
    {
      "cell_type": "markdown",
      "metadata": {
        "id": "07j3RU_lP8bn"
      },
      "source": [
        "# Exercice 6 : Listes équivalentes"
      ]
    },
    {
      "cell_type": "code",
      "metadata": {
        "id": "RgexvKPMP8bn",
        "outputId": "ee43d60f-8f81-4a80-a053-ec047d02f6ab"
      },
      "source": [
        "# Nomdu programme : equiv.py\n",
        "#Q1.\n",
        "def saisit(n1,n2):\n",
        "    import random as rd\n",
        "    L1 = [rd.randint(1, 4) for _ in range(n1)]\n",
        "    L2 = [rd.randint(1, 4) for _ in range(n2)]\n",
        "    return L1, L2\n",
        "\n",
        "# Q2. \n",
        "def isEquivlent(L1, L2):\n",
        "    s1, s2 = set(L1), set(L2) # ensembles des valeurs dans L1 et L2\n",
        "    if s1 == s2: # les deux listes sont équivalentes\n",
        "        return True\n",
        "    else : # les deux listes ne sont pas équivalentes\n",
        "        return False\n",
        "\n",
        "L1, L2 = saisit(8,10) \n",
        "print(L1, L2) # afficher les deux listes\n",
        "isEquivlent(L1, L2)"
      ],
      "execution_count": null,
      "outputs": [
        {
          "name": "stdout",
          "output_type": "stream",
          "text": [
            "[1, 3, 1, 3, 4, 3, 4, 2] [4, 3, 3, 1, 3, 3, 3, 4, 4, 2]\n"
          ]
        },
        {
          "data": {
            "text/plain": [
              "True"
            ]
          },
          "execution_count": 35,
          "metadata": {},
          "output_type": "execute_result"
        }
      ]
    },
    {
      "cell_type": "markdown",
      "metadata": {
        "id": "q7r9e95qP8bo"
      },
      "source": [
        "# Exercice 7 : Précipitations"
      ]
    },
    {
      "cell_type": "code",
      "metadata": {
        "id": "EMOkMBO8P8bp",
        "outputId": "bf689cca-6b75-4e64-f9be-80280d9aaf10"
      },
      "source": [
        "def precipitations():\n",
        "    dictio = {}\n",
        "    print(\"Appuyez sur <Entrer> pour terminer la saisie.\")\n",
        "    while True:\n",
        "        nom_ville = input(\"Saisir le nom de la vile: \")\n",
        "        if nom_ville:\n",
        "            nom_ville = nom_ville.title()\n",
        "            try:\n",
        "                pluie_mm = int(input(\"Entrer la quantité de pluie en mm : \"))\n",
        "                dictio[nom_ville] = pluie_mm\n",
        "            except:\n",
        "                print(\"veuillez entrer un nombre entier!\")\n",
        "        else:\n",
        "            break\n",
        "    return dictio\n",
        "dictio = precipitations()\n",
        "f = open(\"precip.txt\", \"w\") # ouvrir un fichier en mode écriture\n",
        "for ville, pluie in dictio.items():\n",
        "    print(\"{} : {} mm\".format(ville, pluie))\n",
        "    f.write(\"{} : {} mm\".format(ville, pluie)+\"\\n\") #écrire dans le fichier\n",
        "f.close() # fermer le fichier"
      ],
      "execution_count": null,
      "outputs": [
        {
          "name": "stdout",
          "output_type": "stream",
          "text": [
            "Appuyez sur <Entrer> pour terminer la saisie.\n",
            "Saisir le nom de la vile: tunis\n",
            "Entrer la quantité de pluie en mm : 33\n",
            "Saisir le nom de la vile: sousse\n",
            "Entrer la quantité de pluie en mm : 20\n",
            "Saisir le nom de la vile: sfax\n",
            "Entrer la quantité de pluie en mm : 25\n",
            "Saisir le nom de la vile: nabeul\n",
            "Entrer la quantité de pluie en mm : 22\n",
            "Saisir le nom de la vile: gabes\n",
            "Entrer la quantité de pluie en mm : \n",
            "veuillez entrer un nombre entier!\n",
            "Saisir le nom de la vile: gabes\n",
            "Entrer la quantité de pluie en mm : 15\n",
            "Saisir le nom de la vile: \n",
            "Tunis : 33 mm\n",
            "Sousse : 20 mm\n",
            "Sfax : 25 mm\n",
            "Nabeul : 22 mm\n",
            "Gabes : 15 mm\n"
          ]
        }
      ]
    },
    {
      "cell_type": "markdown",
      "metadata": {
        "id": "kLxKnpjBP8bq"
      },
      "source": [
        "# Exercice 8 : Algorithme du plus grand diviseur commun (pgcd)"
      ]
    },
    {
      "cell_type": "code",
      "metadata": {
        "id": "ESqHSpiWP8br",
        "outputId": "221e2071-db02-4cd7-d3b0-02140dafbe58"
      },
      "source": [
        "def Diviseurs(n):\n",
        "    return [i for i in range(1, n+1) if n%i==0]\n",
        "Diviseurs(6)"
      ],
      "execution_count": null,
      "outputs": [
        {
          "data": {
            "text/plain": [
              "[1, 2, 3, 6]"
            ]
          },
          "execution_count": 37,
          "metadata": {},
          "output_type": "execute_result"
        }
      ]
    },
    {
      "cell_type": "code",
      "metadata": {
        "id": "vXglZM53P8bt"
      },
      "source": [
        "def Existe(T,x):\n",
        "    return x in T"
      ],
      "execution_count": null,
      "outputs": []
    },
    {
      "cell_type": "code",
      "metadata": {
        "id": "XzViRtWEP8bu"
      },
      "source": [
        "def EltCom(T1,T2):\n",
        "    s1 = set(T1)\n",
        "    s2 = set(T2)\n",
        "    T = []\n",
        "    for x in s1:\n",
        "        if Existe(s2,x):\n",
        "            T.append(x)\n",
        "    return  T\n"
      ],
      "execution_count": null,
      "outputs": []
    },
    {
      "cell_type": "code",
      "metadata": {
        "id": "X2BdOiN0P8bv",
        "outputId": "696f521d-91c5-4d79-db46-e1adc3cf5cc9"
      },
      "source": [
        "T1=[1,2,3,6]\n",
        "T2=[1,3,3,6]\n",
        "EltCom(T1,T2)"
      ],
      "execution_count": null,
      "outputs": [
        {
          "data": {
            "text/plain": [
              "[1, 3, 6]"
            ]
          },
          "execution_count": 40,
          "metadata": {},
          "output_type": "execute_result"
        }
      ]
    },
    {
      "cell_type": "code",
      "metadata": {
        "id": "l3cbmRA4P8bw"
      },
      "source": [
        "def maxTab(T):\n",
        "    Max = T[0]\n",
        "    for x in T:\n",
        "        if x > Max:\n",
        "            Max = x\n",
        "    return Max  "
      ],
      "execution_count": null,
      "outputs": []
    },
    {
      "cell_type": "code",
      "metadata": {
        "id": "LGob9BhVP8bx",
        "outputId": "6f3a19c8-29bd-42c2-e7ef-88a2c323f6a4"
      },
      "source": [
        "T=[1,3,10,15,12,0]\n",
        "maxTab(T)"
      ],
      "execution_count": null,
      "outputs": [
        {
          "data": {
            "text/plain": [
              "15"
            ]
          },
          "execution_count": 42,
          "metadata": {},
          "output_type": "execute_result"
        }
      ]
    },
    {
      "cell_type": "code",
      "metadata": {
        "id": "8dFNsalQP8by"
      },
      "source": [
        "def pgcd(a,b):\n",
        "    if b == 0:\n",
        "        return a\n",
        "    else:\n",
        "        T1 = Diviseurs(a)\n",
        "        T2 = Diviseurs(b)\n",
        "        T3 = EltCom(T1,T2)\n",
        "        return maxTab(T3)"
      ],
      "execution_count": null,
      "outputs": []
    },
    {
      "cell_type": "code",
      "metadata": {
        "id": "P_pqL8hLP8by",
        "outputId": "b61240a4-fdfc-4b76-cd9b-b0cad3827f29"
      },
      "source": [
        "pgcd(220, 222)"
      ],
      "execution_count": null,
      "outputs": [
        {
          "data": {
            "text/plain": [
              "2"
            ]
          },
          "execution_count": 44,
          "metadata": {},
          "output_type": "execute_result"
        }
      ]
    },
    {
      "cell_type": "markdown",
      "metadata": {
        "id": "DMzkK92SP8bz"
      },
      "source": [
        "Notez qu'il existe une fonction `gcd(a, b)` du module math qui calcule le pgd de deux nombres a et b."
      ]
    },
    {
      "cell_type": "code",
      "metadata": {
        "id": "Opp7PeVFP8bz",
        "outputId": "493a99e3-6735-4638-8fe6-00679d19829d"
      },
      "source": [
        "import math as m\n",
        "m.gcd(220, 222)"
      ],
      "execution_count": null,
      "outputs": [
        {
          "data": {
            "text/plain": [
              "2"
            ]
          },
          "execution_count": 45,
          "metadata": {},
          "output_type": "execute_result"
        }
      ]
    }
  ]
}